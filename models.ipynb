{
 "cells": [
  {
   "cell_type": "code",
   "execution_count": 2,
   "id": "aca883ec-8e61-41e3-8b21-918225d8efce",
   "metadata": {},
   "outputs": [],
   "source": [
    "# import datasets"
   ]
  },
  {
   "cell_type": "code",
   "execution_count": 1,
   "id": "98b770f8-d11b-4035-99be-e9187cca6198",
   "metadata": {},
   "outputs": [],
   "source": [
    "import pandas as pd\n",
    "## for data\n",
    "import pandas as pd\n",
    "import numpy as np\n",
    "\n",
    "## for plotting\n",
    "import matplotlib.pyplot as plt\n",
    "import seaborn as sns\n",
    "\n",
    "## for analysis\n",
    "import re\n",
    "import langdetect \n",
    "import nltk\n",
    "import wordcloud\n",
    "import contractions\n",
    "\n",
    "## for sentiment\n",
    "from nltk.sentiment.vader import SentimentIntensityAnalyzer\n",
    "from textblob import TextBlob\n",
    "\n",
    "## for ner\n",
    "import spacy\n",
    "import collections\n",
    "\n",
    "## for machine learning\n",
    "from sklearn import preprocessing, model_selection, feature_extraction, feature_selection, metrics, manifold, naive_bayes, pipeline\n",
    "\n",
    "## for deep learning\n",
    "from tensorflow.keras import callbacks, models, layers, preprocessing as kprocessing\n",
    "from tensorflow.keras import backend as K\n",
    "\n",
    "## for explainer\n",
    "from lime import lime_text\n",
    "import shap\n",
    "\n",
    "## for W2V and textRank\n",
    "import gensim\n",
    "import gensim.downloader as gensim_api\n",
    "\n",
    "## for bert/bart\n",
    "import transformers\n",
    "\n",
    "## for summarization\n",
    "import rouge\n",
    "import difflib\n"
   ]
  },
  {
   "cell_type": "code",
   "execution_count": 2,
   "id": "5e54daac-33ac-4b29-8495-2098c1b8a3fb",
   "metadata": {},
   "outputs": [],
   "source": [
    "# dataset = datasets.load_dataset(\"cnn_dailymail\",\"3.0.0\")\n",
    "\n",
    "# dataset\n",
    "\n",
    "# list_dics = [dic for dic in dataset['train']]\n",
    "# train_dtf = pd.DataFrame(list_dics).rename(columns={'article':'text', 'highlights':'label'})[['text','label']].head(20000)\n",
    "# train_dtf.to_csv('data.csv', index=False)\n",
    "\n",
    "\n",
    "# train_dtf.head()"
   ]
  },
  {
   "cell_type": "code",
   "execution_count": 3,
   "id": "01b1a303-bd9f-4a2d-bd14-0484b168f23f",
   "metadata": {},
   "outputs": [],
   "source": [
    "df = pd.read_csv('data.csv')"
   ]
  },
  {
   "cell_type": "code",
   "execution_count": 4,
   "id": "fac7c1f0-1657-4c62-8b94-c5dac6549f11",
   "metadata": {},
   "outputs": [
    {
     "data": {
      "text/html": [
       "<div>\n",
       "<style scoped>\n",
       "    .dataframe tbody tr th:only-of-type {\n",
       "        vertical-align: middle;\n",
       "    }\n",
       "\n",
       "    .dataframe tbody tr th {\n",
       "        vertical-align: top;\n",
       "    }\n",
       "\n",
       "    .dataframe thead th {\n",
       "        text-align: right;\n",
       "    }\n",
       "</style>\n",
       "<table border=\"1\" class=\"dataframe\">\n",
       "  <thead>\n",
       "    <tr style=\"text-align: right;\">\n",
       "      <th></th>\n",
       "      <th>text</th>\n",
       "      <th>label</th>\n",
       "    </tr>\n",
       "  </thead>\n",
       "  <tbody>\n",
       "    <tr>\n",
       "      <th>0</th>\n",
       "      <td>LONDON, England (Reuters) -- Harry Potter star...</td>\n",
       "      <td>Harry Potter star Daniel Radcliffe gets £20M f...</td>\n",
       "    </tr>\n",
       "    <tr>\n",
       "      <th>1</th>\n",
       "      <td>Editor's note: In our Behind the Scenes series...</td>\n",
       "      <td>Mentally ill inmates in Miami are housed on th...</td>\n",
       "    </tr>\n",
       "    <tr>\n",
       "      <th>2</th>\n",
       "      <td>MINNEAPOLIS, Minnesota (CNN) -- Drivers who we...</td>\n",
       "      <td>NEW: \"I thought I was going to die,\" driver sa...</td>\n",
       "    </tr>\n",
       "    <tr>\n",
       "      <th>3</th>\n",
       "      <td>WASHINGTON (CNN) -- Doctors removed five small...</td>\n",
       "      <td>Five small polyps found during procedure; \"non...</td>\n",
       "    </tr>\n",
       "    <tr>\n",
       "      <th>4</th>\n",
       "      <td>(CNN)  -- The National Football League has ind...</td>\n",
       "      <td>NEW: NFL chief, Atlanta Falcons owner critical...</td>\n",
       "    </tr>\n",
       "  </tbody>\n",
       "</table>\n",
       "</div>"
      ],
      "text/plain": [
       "                                                text  \\\n",
       "0  LONDON, England (Reuters) -- Harry Potter star...   \n",
       "1  Editor's note: In our Behind the Scenes series...   \n",
       "2  MINNEAPOLIS, Minnesota (CNN) -- Drivers who we...   \n",
       "3  WASHINGTON (CNN) -- Doctors removed five small...   \n",
       "4  (CNN)  -- The National Football League has ind...   \n",
       "\n",
       "                                               label  \n",
       "0  Harry Potter star Daniel Radcliffe gets £20M f...  \n",
       "1  Mentally ill inmates in Miami are housed on th...  \n",
       "2  NEW: \"I thought I was going to die,\" driver sa...  \n",
       "3  Five small polyps found during procedure; \"non...  \n",
       "4  NEW: NFL chief, Atlanta Falcons owner critical...  "
      ]
     },
     "execution_count": 4,
     "metadata": {},
     "output_type": "execute_result"
    }
   ],
   "source": [
    "df.head()"
   ]
  },
  {
   "cell_type": "code",
   "execution_count": 5,
   "id": "cb972945-2097-4c08-811b-648e651bc782",
   "metadata": {},
   "outputs": [
    {
     "name": "stdout",
     "output_type": "stream",
     "text": [
      "<class 'pandas.core.frame.DataFrame'>\n",
      "RangeIndex: 20000 entries, 0 to 19999\n",
      "Data columns (total 2 columns):\n",
      " #   Column  Non-Null Count  Dtype \n",
      "---  ------  --------------  ----- \n",
      " 0   text    20000 non-null  object\n",
      " 1   label   20000 non-null  object\n",
      "dtypes: object(2)\n",
      "memory usage: 312.6+ KB\n"
     ]
    }
   ],
   "source": [
    "df.info()"
   ]
  },
  {
   "cell_type": "code",
   "execution_count": 6,
   "id": "7e68c9f1-9908-438b-a746-a927d4c1c9ce",
   "metadata": {},
   "outputs": [
    {
     "name": "stdout",
     "output_type": "stream",
     "text": [
      "Editor's note: In our Behind the Scenes series, CNN correspondents share their experiences in covering news and analyze the stories behind the events. Here, Soledad O'Brien takes users inside a jail where many of the inmates are mentally ill. An inmate housed on the \"forgotten floor,\" where many mentally ill inmates are housed in Miami before trial. MIAMI, Florida (CNN) -- The ninth floor of the Miami-Dade pretrial detention facility is dubbed the \"forgotten floor.\" Here, inmates with the most severe mental illnesses are incarcerated until they're ready to appear in court. Most often, they face drug charges or charges of assaulting an officer --charges that Judge Steven Leifman says are usually \"avoidable felonies.\" He says the arrests often result from confrontations with police. Mentally ill people often won't do what they're told when police arrive on the scene -- confrontation seems to exacerbate their illness and they become more paranoid, delusional, and less likely to follow directions, according to Leifman. So, they end up on the ninth floor severely mentally disturbed, but not getting any real help because they're in jail. We toured the jail with Leifman. He is well known in Miami as an advocate for justice and the mentally ill. Even though we were not exactly welcomed with open arms by the guards, we were given permission to shoot videotape and tour the floor.  Go inside the 'forgotten floor' » . At first, it's hard to determine where the people are. The prisoners are wearing sleeveless robes. Imagine cutting holes for arms and feet in a heavy wool sleeping bag -- that's kind of what they look like. They're designed to keep the mentally ill patients from injuring themselves. That's also why they have no shoes, laces or mattresses. Leifman says about one-third of all people in Miami-Dade county jails are mentally ill. So, he says, the sheer volume is overwhelming the system, and the result is what we see on the ninth floor. Of course, it is a jail, so it's not supposed to be warm and comforting, but the lights glare, the cells are tiny and it's loud. We see two, sometimes three men -- sometimes in the robes, sometimes naked, lying or sitting in their cells. \"I am the son of the president. You need to get me out of here!\" one man shouts at me. He is absolutely serious, convinced that help is on the way -- if only he could reach the White House. Leifman tells me that these prisoner-patients will often circulate through the system, occasionally stabilizing in a mental hospital, only to return to jail to face their charges. It's brutally unjust, in his mind, and he has become a strong advocate for changing things in Miami. Over a meal later, we talk about how things got this way for mental patients. Leifman says 200 years ago people were considered \"lunatics\" and they were locked up in jails even if they had no charges against them. They were just considered unfit to be in society. Over the years, he says, there was some public outcry, and the mentally ill were moved out of jails and into hospitals. But Leifman says many of these mental hospitals were so horrible they were shut down. Where did the patients go? Nowhere. The streets. They became, in many cases, the homeless, he says. They never got treatment. Leifman says in 1955 there were more than half a million people in state mental hospitals, and today that number has been reduced 90 percent, and 40,000 to 50,000 people are in mental hospitals. The judge says he's working to change this. Starting in 2008, many inmates who would otherwise have been brought to the \"forgotten floor\"  will instead be sent to a new mental health facility -- the first step on a journey toward long-term treatment, not just punishment. Leifman says it's not the complete answer, but it's a start. Leifman says the best part is that it's a win-win solution. The patients win, the families are relieved, and the state saves money by simply not cycling these prisoners through again and again. And, for Leifman, justice is served. E-mail to a friend .\n",
      "\n",
      "Summary\n",
      "Mentally ill inmates in Miami are housed on the \"forgotten floor\"\n",
      "Judge Steven Leifman says most are there as a result of \"avoidable felonies\"\n",
      "While CNN tours facility, patient shouts: \"I am the son of the president\"\n",
      "Leifman says the system is unjust and he's fighting for change .\n"
     ]
    }
   ],
   "source": [
    "print(df['text'][1])\n",
    "print('')\n",
    "print('Summary')\n",
    "print(df['label'][1])"
   ]
  },
  {
   "cell_type": "markdown",
   "id": "328e171e-aeae-4163-b071-5f15350419e9",
   "metadata": {},
   "source": [
    "## Text Analysis"
   ]
  },
  {
   "cell_type": "code",
   "execution_count": 7,
   "id": "8be1788e-d9d5-4bcc-9be7-e8e4bf79c57e",
   "metadata": {},
   "outputs": [],
   "source": [
    "# import nltk\n",
    "# nltk.download('stopwords')\n",
    "from nltk.corpus import stopwords\n",
    "stopwords_list = stopwords.words('english')"
   ]
  },
  {
   "cell_type": "code",
   "execution_count": 8,
   "id": "944cc331-c519-4d0c-b44e-645a7392e667",
   "metadata": {},
   "outputs": [],
   "source": [
    "stopwords_list = stopwords_list + [\"cnn\",\"say\",\"said\",\"new\",\"wa\",\"ha\"]"
   ]
  },
  {
   "cell_type": "code",
   "execution_count": 9,
   "id": "c81d5f3b-2c48-438e-9301-fa189b6d18b5",
   "metadata": {},
   "outputs": [
    {
     "name": "stderr",
     "output_type": "stream",
     "text": [
      "[nltk_data] Downloading package omw-1.4 to\n",
      "[nltk_data]     C:\\Users\\vmadmin\\AppData\\Roaming\\nltk_data...\n",
      "[nltk_data]   Package omw-1.4 is already up-to-date!\n"
     ]
    }
   ],
   "source": [
    "# import nltk\n",
    "# nltk.download('wordnet')\n",
    "nltk.download('omw-1.4')\n",
    "def utils_preprocess_text(txt, lst_regex=None, punkt=True, lower=True, slang=True, lst_stopwords=None, stemm=False, lemm=True):\n",
    "    ## Regex (in case, before cleaning)\n",
    "    if lst_regex is not None: \n",
    "        for regex in lst_regex:\n",
    "            txt = re.sub(regex, '', txt)\n",
    "\n",
    "    ## Clean \n",
    "    ### separate sentences with '. '\n",
    "    txt = re.sub(r'\\.(?=[^ \\W\\d])', '. ', str(txt))\n",
    "    ### remove punctuations and characters\n",
    "    txt = re.sub(r'[^\\w\\s]', '', txt) if punkt is True else txt\n",
    "    ### strip\n",
    "    txt = \" \".join([word.strip() for word in txt.split()])\n",
    "    ### lowercase\n",
    "    txt = txt.lower() if lower is True else txt\n",
    "    ### slang\n",
    "    txt = contractions.fix(txt) if slang is True else txt\n",
    "            \n",
    "    ## Tokenize (convert from string to list)\n",
    "    lst_txt = txt.split()\n",
    "                \n",
    "    ## Stemming (remove -ing, -ly, ...)\n",
    "    if stemm is True:\n",
    "        ps = nltk.stem.porter.PorterStemmer()\n",
    "        lst_txt = [ps.stem(word) for word in lst_txt]\n",
    "                \n",
    "    ## Lemmatization (convert the word into root word)\n",
    "    if lemm is True:\n",
    "        lem = nltk.stem.wordnet.WordNetLemmatizer()\n",
    "        lst_txt = [lem.lemmatize(word) for word in lst_txt]\n",
    "\n",
    "    ## Stopwords\n",
    "    if lst_stopwords is not None:\n",
    "        lst_txt = [word for word in lst_txt if word not in lst_stopwords]\n",
    "            \n",
    "    ## Back to string\n",
    "    txt = \" \".join(lst_txt)\n",
    "    return txt\n"
   ]
  },
  {
   "cell_type": "code",
   "execution_count": 10,
   "id": "8a69b0d5-f539-4395-bc4a-2397730a84a2",
   "metadata": {},
   "outputs": [],
   "source": [
    "def add_preprocessed_text(data, column, lst_regex=None, punkt=False, lower=False, slang=False, lst_stopwords=None, stemm=False, lemm=False, remove_na=True):\n",
    "    dtf = data.copy()\n",
    "\n",
    "    ## apply preprocess\n",
    "    dtf = dtf[ pd.notnull(dtf[column]) ]\n",
    "    dtf[column+\"_clean\"] = dtf[column].apply(lambda x: utils_preprocess_text(x, lst_regex, punkt, lower, slang, lst_stopwords, stemm, lemm))\n",
    "    \n",
    "    ## residuals\n",
    "    dtf[\"check\"] = dtf[column+\"_clean\"].apply(lambda x: len(x))\n",
    "    if dtf[\"check\"].min() == 0:\n",
    "        print(\"--- found NAs ---\")\n",
    "        print(dtf[[column,column+\"_clean\"]][dtf[\"check\"]==0].head())\n",
    "        if remove_na is True:\n",
    "            dtf = dtf[dtf[\"check\"]>0] \n",
    "            \n",
    "    return dtf.drop(\"check\", axis=1)"
   ]
  },
  {
   "cell_type": "code",
   "execution_count": 11,
   "id": "ba4df4b3-784a-4f21-bfa3-ed18aeb49f16",
   "metadata": {},
   "outputs": [
    {
     "data": {
      "text/html": [
       "<div>\n",
       "<style scoped>\n",
       "    .dataframe tbody tr th:only-of-type {\n",
       "        vertical-align: middle;\n",
       "    }\n",
       "\n",
       "    .dataframe tbody tr th {\n",
       "        vertical-align: top;\n",
       "    }\n",
       "\n",
       "    .dataframe thead th {\n",
       "        text-align: right;\n",
       "    }\n",
       "</style>\n",
       "<table border=\"1\" class=\"dataframe\">\n",
       "  <thead>\n",
       "    <tr style=\"text-align: right;\">\n",
       "      <th></th>\n",
       "      <th>text</th>\n",
       "      <th>label</th>\n",
       "      <th>text_clean</th>\n",
       "      <th>label_clean</th>\n",
       "    </tr>\n",
       "  </thead>\n",
       "  <tbody>\n",
       "    <tr>\n",
       "      <th>0</th>\n",
       "      <td>LONDON, England (Reuters) -- Harry Potter star...</td>\n",
       "      <td>Harry Potter star Daniel Radcliffe gets £20M f...</td>\n",
       "      <td>london england reuters harry potter star danie...</td>\n",
       "      <td>harry potter star daniel radcliffe get 20m for...</td>\n",
       "    </tr>\n",
       "    <tr>\n",
       "      <th>1</th>\n",
       "      <td>Editor's note: In our Behind the Scenes series...</td>\n",
       "      <td>Mentally ill inmates in Miami are housed on th...</td>\n",
       "      <td>editor note behind scene series correspondent ...</td>\n",
       "      <td>mentally ill inmate miami housed forgotten flo...</td>\n",
       "    </tr>\n",
       "    <tr>\n",
       "      <th>2</th>\n",
       "      <td>MINNEAPOLIS, Minnesota (CNN) -- Drivers who we...</td>\n",
       "      <td>NEW: \"I thought I was going to die,\" driver sa...</td>\n",
       "      <td>minneapolis minnesota driver minneapolis bridg...</td>\n",
       "      <td>thought going die driver man pickup truck fold...</td>\n",
       "    </tr>\n",
       "    <tr>\n",
       "      <th>3</th>\n",
       "      <td>WASHINGTON (CNN) -- Doctors removed five small...</td>\n",
       "      <td>Five small polyps found during procedure; \"non...</td>\n",
       "      <td>washington doctor removed five small polyp pre...</td>\n",
       "      <td>five small polyp found procedure none worrisom...</td>\n",
       "    </tr>\n",
       "    <tr>\n",
       "      <th>4</th>\n",
       "      <td>(CNN)  -- The National Football League has ind...</td>\n",
       "      <td>NEW: NFL chief, Atlanta Falcons owner critical...</td>\n",
       "      <td>national football league indefinitely suspende...</td>\n",
       "      <td>nfl chief atlanta falcon owner critical michae...</td>\n",
       "    </tr>\n",
       "  </tbody>\n",
       "</table>\n",
       "</div>"
      ],
      "text/plain": [
       "                                                text  \\\n",
       "0  LONDON, England (Reuters) -- Harry Potter star...   \n",
       "1  Editor's note: In our Behind the Scenes series...   \n",
       "2  MINNEAPOLIS, Minnesota (CNN) -- Drivers who we...   \n",
       "3  WASHINGTON (CNN) -- Doctors removed five small...   \n",
       "4  (CNN)  -- The National Football League has ind...   \n",
       "\n",
       "                                               label  \\\n",
       "0  Harry Potter star Daniel Radcliffe gets £20M f...   \n",
       "1  Mentally ill inmates in Miami are housed on th...   \n",
       "2  NEW: \"I thought I was going to die,\" driver sa...   \n",
       "3  Five small polyps found during procedure; \"non...   \n",
       "4  NEW: NFL chief, Atlanta Falcons owner critical...   \n",
       "\n",
       "                                          text_clean  \\\n",
       "0  london england reuters harry potter star danie...   \n",
       "1  editor note behind scene series correspondent ...   \n",
       "2  minneapolis minnesota driver minneapolis bridg...   \n",
       "3  washington doctor removed five small polyp pre...   \n",
       "4  national football league indefinitely suspende...   \n",
       "\n",
       "                                         label_clean  \n",
       "0  harry potter star daniel radcliffe get 20m for...  \n",
       "1  mentally ill inmate miami housed forgotten flo...  \n",
       "2  thought going die driver man pickup truck fold...  \n",
       "3  five small polyp found procedure none worrisom...  \n",
       "4  nfl chief atlanta falcon owner critical michae...  "
      ]
     },
     "execution_count": 11,
     "metadata": {},
     "output_type": "execute_result"
    }
   ],
   "source": [
    "df = add_preprocessed_text(df, column=\"text\", punkt=True, lower=True, slang=True, lst_stopwords=stopwords_list, lemm=True)\n",
    "df = add_preprocessed_text(df, column=\"label\", punkt=True, lower=True, slang=True, lst_stopwords=stopwords_list, lemm=True)\n",
    "df.head()"
   ]
  },
  {
   "cell_type": "code",
   "execution_count": 12,
   "id": "07687e38-6a9e-4abd-8c31-78b73226fb3f",
   "metadata": {},
   "outputs": [
    {
     "name": "stdout",
     "output_type": "stream",
     "text": [
      "--- Full text ---\n",
      "editor note behind scene series correspondent share experience covering news analyze story behind event soledad obrien take user inside jail many inmate mentally ill inmate housed forgotten floor many mentally ill inmate housed miami trial miami florida ninth floor miamidade pretrial detention facility dubbed forgotten floor inmate severe mental illness incarcerated ready appear court often face drug charge charge assaulting officer charge judge steven leifman usually avoidable felony arrest often result confrontation police mentally ill people often told police arrive scene confrontation seems exacerbate illness become paranoid delusional le likely follow direction according leifman end ninth floor severely mentally disturbed getting real help jail toured jail leifman well known miami advocate justice mentally ill even though exactly welcomed open arm guard given permission shoot videotape tour floor go inside forgotten floor first hard determine people prisoner wearing sleeveless robe imagine cutting hole arm foot heavy wool sleeping bag kind look like designed keep mentally ill patient injuring also shoe lace mattress leifman onethird people miamidade county jail mentally ill sheer volume overwhelming system result see ninth floor course jail supposed warm comforting light glare cell tiny loud see two sometimes three men sometimes robe sometimes naked lying sitting cell son president need get one man shout absolutely serious convinced help way could reach white house leifman tell prisonerpatients often circulate system occasionally stabilizing mental hospital return jail face charge brutally unjust mind become strong advocate changing thing miami meal later talk thing got way mental patient leifman 200 year ago people considered lunatic locked jail even charge considered unfit society year public outcry mentally ill moved jail hospital leifman many mental hospital horrible shut patient go nowhere street became many case homeless never got treatment leifman 1955 half million people state mental hospital today number reduced 90 percent 40000 50000 people mental hospital judge working change starting 2008 many inmate would otherwise brought forgotten floor instead sent mental health facility first step journey toward longterm treatment punishment leifman complete answer start leifman best part winwin solution patient win family relieved state save money simply cycling prisoner leifman justice served email friend\n",
      " \n",
      "--- Summary ---\n",
      "mentally ill inmate miami housed forgotten floor judge steven leifman result avoidable felony tour facility patient shout son president leifman system unjust fighting change\n"
     ]
    }
   ],
   "source": [
    "# check\n",
    "print(\"--- Full text ---\")\n",
    "print(df[\"text_clean\"][1])\n",
    "print(\" \")\n",
    "print(\"--- Summary ---\")\n",
    "print(df[\"label_clean\"][1])"
   ]
  },
  {
   "cell_type": "code",
   "execution_count": 13,
   "id": "b1c48105-9817-41db-89fa-73fb8d6196f0",
   "metadata": {},
   "outputs": [
    {
     "name": "stderr",
     "output_type": "stream",
     "text": [
      "[nltk_data] Downloading package punkt to\n",
      "[nltk_data]     C:\\Users\\vmadmin\\AppData\\Roaming\\nltk_data...\n",
      "[nltk_data]   Package punkt is already up-to-date!\n",
      "The frame.append method is deprecated and will be removed from pandas in a future version. Use pandas.concat instead.\n",
      "Indexing with multiple keys (implicitly converted to a tuple of keys) will be deprecated, use a list instead.\n"
     ]
    },
    {
     "data": {
      "image/png": "[encoded data removed]",
      "text/plain": [
       "<Figure size 1000x700 with 1 Axes>"
      ]
     },
     "metadata": {},
     "output_type": "display_data"
    }
   ],
   "source": [
    "# Find most common words in text\n",
    "nltk.download('punkt')\n",
    "def word_freq(corpus, ngrams=[1,2,3], top=10, figsize=(10,7)):\n",
    "    lst_tokens = nltk.tokenize.word_tokenize(corpus.str.cat(sep=\" \"))\n",
    "    ngrams = [ngrams] if type(ngrams) is int else ngrams\n",
    "    \n",
    "    ## calculate\n",
    "    dtf_freq = pd.DataFrame()\n",
    "    for n in ngrams:\n",
    "        dic_words_freq = nltk.FreqDist(nltk.ngrams(lst_tokens, n))\n",
    "        dtf_n = pd.DataFrame(dic_words_freq.most_common(), columns=[\"word\",\"freq\"])\n",
    "        dtf_n[\"ngrams\"] = n\n",
    "        dtf_freq = dtf_freq.append(dtf_n)\n",
    "    dtf_freq[\"word\"] = dtf_freq[\"word\"].apply(lambda x: \" \".join(string for string in x) )\n",
    "    dtf_freq = dtf_freq.sort_values([\"ngrams\",\"freq\"], ascending=[True,False])\n",
    "    \n",
    "    ## plot\n",
    "    fig, ax = plt.subplots(figsize=figsize)\n",
    "    sns.barplot(x=\"freq\", y=\"word\", hue=\"ngrams\", dodge=False, ax=ax,\n",
    "                data=dtf_freq.groupby('ngrams')[\"ngrams\",\"freq\",\"word\"].head(top))\n",
    "    ax.set(xlabel=None, ylabel=None, title=\"Most frequent words\")\n",
    "    ax.grid(axis=\"x\")\n",
    "    plt.show()\n",
    "    return dtf_freq\n",
    "\n",
    "df_freq = word_freq(corpus=df[\"text_clean\"], ngrams=[1], top=30, figsize=(10,7))"
   ]
  },
  {
   "cell_type": "code",
   "execution_count": 14,
   "id": "8196cf19-bf93-46fe-9f7b-8a56329c3e6a",
   "metadata": {},
   "outputs": [
    {
     "data": {
      "text/plain": [
       "41277"
      ]
     },
     "execution_count": 14,
     "metadata": {},
     "output_type": "execute_result"
    }
   ],
   "source": [
    "thres = 5\n",
    "X_top_words = len(df_freq[df_freq[\"freq\"]>thres])\n",
    "X_top_words"
   ]
  },
  {
   "cell_type": "code",
   "execution_count": 15,
   "id": "53f1cc92-0f96-4aef-99f9-5e96db3b106e",
   "metadata": {},
   "outputs": [
    {
     "name": "stderr",
     "output_type": "stream",
     "text": [
      "The frame.append method is deprecated and will be removed from pandas in a future version. Use pandas.concat instead.\n",
      "Indexing with multiple keys (implicitly converted to a tuple of keys) will be deprecated, use a list instead.\n"
     ]
    },
    {
     "data": {
      "image/png": "[encoded data removed]",
      "text/plain": [
       "<Figure size 1000x700 with 1 Axes>"
      ]
     },
     "metadata": {},
     "output_type": "display_data"
    }
   ],
   "source": [
    "# Find most common words in summaries\n",
    "df_freq = word_freq(corpus=df[\"label_clean\"], ngrams=[1], top=30, figsize=(10,7))"
   ]
  },
  {
   "cell_type": "code",
   "execution_count": 16,
   "id": "08ba2577-e117-40cb-9a60-d435e2a21cc1",
   "metadata": {},
   "outputs": [
    {
     "data": {
      "text/plain": [
       "10121"
      ]
     },
     "execution_count": 16,
     "metadata": {},
     "output_type": "execute_result"
    }
   ],
   "source": [
    "thres = 5\n",
    "y_top_words = len(df_freq[df_freq[\"freq\"]>thres])\n",
    "y_top_words"
   ]
  },
  {
   "cell_type": "code",
   "execution_count": 17,
   "id": "259b2877-63eb-4d06-b228-4905e83e88fd",
   "metadata": {},
   "outputs": [],
   "source": [
    "def add_text_length(data, column):\n",
    "    dtf = data.copy()\n",
    "    dtf['word_count'] = dtf[column].apply(lambda x: len(nltk.word_tokenize(str(x))) )\n",
    "    dtf['char_count'] = dtf[column].apply(lambda x: sum(len(word) for word in nltk.word_tokenize(str(x))) )\n",
    "    dtf['sentence_count'] = dtf[column].apply(lambda x: len(nltk.sent_tokenize(str(x))) )\n",
    "    dtf['avg_word_length'] = dtf['char_count'] / dtf['word_count']\n",
    "    dtf['avg_sentence_lenght'] = dtf['word_count'] / dtf['sentence_count']\n",
    "    print(dtf[['char_count','word_count','sentence_count','avg_word_length','avg_sentence_lenght']].describe().T[[\"min\",\"mean\",\"max\"]])\n",
    "    return dtf"
   ]
  },
  {
   "cell_type": "code",
   "execution_count": 18,
   "id": "caf1e81a-f40c-4957-b57c-42806ca4ab89",
   "metadata": {},
   "outputs": [
    {
     "name": "stdout",
     "output_type": "stream",
     "text": [
      "                          min        mean          max\n",
      "char_count           64.00000  2045.42595  7562.000000\n",
      "word_count           11.00000   330.38190  1309.000000\n",
      "sentence_count        1.00000     1.00000     1.000000\n",
      "avg_word_length       4.62704     6.20351     7.666667\n",
      "avg_sentence_lenght  11.00000   330.38190  1309.000000\n"
     ]
    }
   ],
   "source": [
    "X = add_text_length(df, \"text_clean\")"
   ]
  },
  {
   "cell_type": "code",
   "execution_count": 19,
   "id": "19139872-f8ab-468d-8a1d-f4b39b7e27b6",
   "metadata": {},
   "outputs": [],
   "source": [
    "def plot_distributions(dtf, x, max_cat=20, top=None, y=None, bins=None, figsize=(10,5)):\n",
    "    ## univariate\n",
    "    if y is None:\n",
    "        fig, ax = plt.subplots(figsize=figsize)\n",
    "        fig.suptitle(x, fontsize=15)\n",
    "        ### categorical\n",
    "        if dtf[x].nunique() <= max_cat:\n",
    "            if top is None:\n",
    "                dtf[x].reset_index().groupby(x).count().sort_values(by=\"index\").plot(kind=\"barh\", legend=False, ax=ax).grid(axis='x')\n",
    "            else:   \n",
    "                dtf[x].reset_index().groupby(x).count().sort_values(by=\"index\").tail(top).plot(kind=\"barh\", legend=False, ax=ax).grid(axis='x')\n",
    "            ax.set(ylabel=None)\n",
    "        ### numerical\n",
    "        else:\n",
    "            sns.distplot(dtf[x], hist=True, kde=True, kde_kws={\"shade\":True}, ax=ax)\n",
    "            ax.grid(True)\n",
    "            ax.set(xlabel=None, yticklabels=[], yticks=[])\n",
    "\n",
    "    ## bivariate\n",
    "    else:\n",
    "        fig, ax = plt.subplots(nrows=1, ncols=2, sharex=False, sharey=False, figsize=figsize)\n",
    "        fig.suptitle(x, fontsize=15)\n",
    "        for i in dtf[y].unique():\n",
    "            sns.distplot(dtf[dtf[y]==i][x], hist=True, kde=False, bins=bins, hist_kws={\"alpha\":0.8}, axlabel=\"\", ax=ax[0])\n",
    "            sns.distplot(dtf[dtf[y]==i][x], hist=False, kde=True, kde_kws={\"shade\":True}, axlabel=\"\", ax=ax[1])\n",
    "        ax[0].set(title=\"histogram\")\n",
    "        ax[0].grid(True)\n",
    "        ax[0].legend(dtf[y].unique())\n",
    "        ax[1].set(title=\"density\")\n",
    "        ax[1].grid(True)\n",
    "    plt.show()"
   ]
  },
  {
   "cell_type": "code",
   "execution_count": 20,
   "id": "920a678e-3f7a-4745-8a5a-c0a9d116a509",
   "metadata": {},
   "outputs": [
    {
     "name": "stderr",
     "output_type": "stream",
     "text": [
      "\n",
      "\n",
      "`distplot` is a deprecated function and will be removed in seaborn v0.14.0.\n",
      "\n",
      "Please adapt your code to use either `displot` (a figure-level function with\n",
      "similar flexibility) or `histplot` (an axes-level function for histograms).\n",
      "\n",
      "For a guide to updating your code to use the new functions, please see\n",
      "https://gist.github.com/mwaskom/de44147ed2974457ad6372750bbe5751\n",
      "\n",
      "\n",
      "\n",
      "`shade` is now deprecated in favor of `fill`; setting `fill=True`.\n",
      "This will become an error in seaborn v0.14.0; please update your code.\n",
      "\n"
     ]
    },
    {
     "data": {
      "image/png": "[encoded data removed]",
      "text/plain": [
       "<Figure size 1000x300 with 1 Axes>"
      ]
     },
     "metadata": {},
     "output_type": "display_data"
    }
   ],
   "source": [
    "plot_distributions(X, x=\"word_count\", figsize=(10,3))"
   ]
  },
  {
   "cell_type": "code",
   "execution_count": 21,
   "id": "2741276c-5e7f-414d-bf86-ef82bd9480fb",
   "metadata": {},
   "outputs": [
    {
     "name": "stdout",
     "output_type": "stream",
     "text": [
      "                           min        mean         max\n",
      "char_count           35.000000  164.948200  324.000000\n",
      "word_count            6.000000   27.180400   53.000000\n",
      "sentence_count        1.000000    1.000000    1.000000\n",
      "avg_word_length       3.785714    6.097504    9.043478\n",
      "avg_sentence_lenght   6.000000   27.180400   53.000000\n"
     ]
    }
   ],
   "source": [
    "X_len = 400\n",
    "# Summaries\n",
    "y = add_text_length(df, \"label_clean\")"
   ]
  },
  {
   "cell_type": "code",
   "execution_count": 22,
   "id": "80572c1e-b769-4b87-ae4c-2416cb820dc2",
   "metadata": {},
   "outputs": [
    {
     "name": "stderr",
     "output_type": "stream",
     "text": [
      "\n",
      "\n",
      "`distplot` is a deprecated function and will be removed in seaborn v0.14.0.\n",
      "\n",
      "Please adapt your code to use either `displot` (a figure-level function with\n",
      "similar flexibility) or `histplot` (an axes-level function for histograms).\n",
      "\n",
      "For a guide to updating your code to use the new functions, please see\n",
      "https://gist.github.com/mwaskom/de44147ed2974457ad6372750bbe5751\n",
      "\n",
      "\n",
      "\n",
      "`shade` is now deprecated in favor of `fill`; setting `fill=True`.\n",
      "This will become an error in seaborn v0.14.0; please update your code.\n",
      "\n"
     ]
    },
    {
     "data": {
      "image/png": "[encoded data removed]",
      "text/plain": [
       "<Figure size 1000x300 with 1 Axes>"
      ]
     },
     "metadata": {},
     "output_type": "display_data"
    }
   ],
   "source": [
    "plot_distributions(y, x=\"word_count\", max_cat=1, figsize=(10,3))"
   ]
  },
  {
   "cell_type": "code",
   "execution_count": 23,
   "id": "76ea9be6-e50a-4792-b05e-39d6a8b5e4a5",
   "metadata": {},
   "outputs": [],
   "source": [
    "y_len = 40"
   ]
  },
  {
   "cell_type": "code",
   "execution_count": 24,
   "id": "07949fad-4262-4bbe-ab65-9b676e8b6797",
   "metadata": {},
   "outputs": [
    {
     "data": {
      "text/html": [
       "<div>\n",
       "<style scoped>\n",
       "    .dataframe tbody tr th:only-of-type {\n",
       "        vertical-align: middle;\n",
       "    }\n",
       "\n",
       "    .dataframe tbody tr th {\n",
       "        vertical-align: top;\n",
       "    }\n",
       "\n",
       "    .dataframe thead th {\n",
       "        text-align: right;\n",
       "    }\n",
       "</style>\n",
       "<table border=\"1\" class=\"dataframe\">\n",
       "  <thead>\n",
       "    <tr style=\"text-align: right;\">\n",
       "      <th></th>\n",
       "      <th>text</th>\n",
       "      <th>text_clean</th>\n",
       "      <th>label</th>\n",
       "      <th>label_clean</th>\n",
       "    </tr>\n",
       "  </thead>\n",
       "  <tbody>\n",
       "    <tr>\n",
       "      <th>0</th>\n",
       "      <td>LONDON, England (Reuters) -- Harry Potter star...</td>\n",
       "      <td>london england reuters harry potter star danie...</td>\n",
       "      <td>Harry Potter star Daniel Radcliffe gets £20M f...</td>\n",
       "      <td>harry potter star daniel radcliffe get 20m for...</td>\n",
       "    </tr>\n",
       "    <tr>\n",
       "      <th>1</th>\n",
       "      <td>Editor's note: In our Behind the Scenes series...</td>\n",
       "      <td>editor note behind scene series correspondent ...</td>\n",
       "      <td>Mentally ill inmates in Miami are housed on th...</td>\n",
       "      <td>mentally ill inmate miami housed forgotten flo...</td>\n",
       "    </tr>\n",
       "    <tr>\n",
       "      <th>2</th>\n",
       "      <td>MINNEAPOLIS, Minnesota (CNN) -- Drivers who we...</td>\n",
       "      <td>minneapolis minnesota driver minneapolis bridg...</td>\n",
       "      <td>NEW: \"I thought I was going to die,\" driver sa...</td>\n",
       "      <td>thought going die driver man pickup truck fold...</td>\n",
       "    </tr>\n",
       "    <tr>\n",
       "      <th>3</th>\n",
       "      <td>WASHINGTON (CNN) -- Doctors removed five small...</td>\n",
       "      <td>washington doctor removed five small polyp pre...</td>\n",
       "      <td>Five small polyps found during procedure; \"non...</td>\n",
       "      <td>five small polyp found procedure none worrisom...</td>\n",
       "    </tr>\n",
       "    <tr>\n",
       "      <th>4</th>\n",
       "      <td>(CNN)  -- The National Football League has ind...</td>\n",
       "      <td>national football league indefinitely suspende...</td>\n",
       "      <td>NEW: NFL chief, Atlanta Falcons owner critical...</td>\n",
       "      <td>nfl chief atlanta falcon owner critical michae...</td>\n",
       "    </tr>\n",
       "  </tbody>\n",
       "</table>\n",
       "</div>"
      ],
      "text/plain": [
       "                                                text  \\\n",
       "0  LONDON, England (Reuters) -- Harry Potter star...   \n",
       "1  Editor's note: In our Behind the Scenes series...   \n",
       "2  MINNEAPOLIS, Minnesota (CNN) -- Drivers who we...   \n",
       "3  WASHINGTON (CNN) -- Doctors removed five small...   \n",
       "4  (CNN)  -- The National Football League has ind...   \n",
       "\n",
       "                                          text_clean  \\\n",
       "0  london england reuters harry potter star danie...   \n",
       "1  editor note behind scene series correspondent ...   \n",
       "2  minneapolis minnesota driver minneapolis bridg...   \n",
       "3  washington doctor removed five small polyp pre...   \n",
       "4  national football league indefinitely suspende...   \n",
       "\n",
       "                                               label  \\\n",
       "0  Harry Potter star Daniel Radcliffe gets £20M f...   \n",
       "1  Mentally ill inmates in Miami are housed on th...   \n",
       "2  NEW: \"I thought I was going to die,\" driver sa...   \n",
       "3  Five small polyps found during procedure; \"non...   \n",
       "4  NEW: NFL chief, Atlanta Falcons owner critical...   \n",
       "\n",
       "                                         label_clean  \n",
       "0  harry potter star daniel radcliffe get 20m for...  \n",
       "1  mentally ill inmate miami housed forgotten flo...  \n",
       "2  thought going die driver man pickup truck fold...  \n",
       "3  five small polyp found procedure none worrisom...  \n",
       "4  nfl chief atlanta falcon owner critical michae...  "
      ]
     },
     "execution_count": 24,
     "metadata": {},
     "output_type": "execute_result"
    }
   ],
   "source": [
    "df = df[[\"text\",\"text_clean\",\"label\",\"label_clean\"]]\n",
    "df.head()"
   ]
  },
  {
   "cell_type": "markdown",
   "id": "b21d775b-5b91-475f-b649-54dc7d8d46b5",
   "metadata": {},
   "source": [
    "## Preprocessing"
   ]
  },
  {
   "cell_type": "code",
   "execution_count": 25,
   "id": "0635feee-3350-44a1-b7f6-74b7b9370283",
   "metadata": {},
   "outputs": [
    {
     "data": {
      "text/html": [
       "<div>\n",
       "<style scoped>\n",
       "    .dataframe tbody tr th:only-of-type {\n",
       "        vertical-align: middle;\n",
       "    }\n",
       "\n",
       "    .dataframe tbody tr th {\n",
       "        vertical-align: top;\n",
       "    }\n",
       "\n",
       "    .dataframe thead th {\n",
       "        text-align: right;\n",
       "    }\n",
       "</style>\n",
       "<table border=\"1\" class=\"dataframe\">\n",
       "  <thead>\n",
       "    <tr style=\"text-align: right;\">\n",
       "      <th></th>\n",
       "      <th>text</th>\n",
       "      <th>text_clean</th>\n",
       "      <th>label</th>\n",
       "      <th>label_clean</th>\n",
       "    </tr>\n",
       "  </thead>\n",
       "  <tbody>\n",
       "    <tr>\n",
       "      <th>0</th>\n",
       "      <td>LONDON, England (Reuters) -- Harry Potter star...</td>\n",
       "      <td>london england reuters harry potter star danie...</td>\n",
       "      <td>Harry Potter star Daniel Radcliffe gets £20M f...</td>\n",
       "      <td>harry potter star daniel radcliffe get 20m for...</td>\n",
       "    </tr>\n",
       "    <tr>\n",
       "      <th>1</th>\n",
       "      <td>Editor's note: In our Behind the Scenes series...</td>\n",
       "      <td>editor note behind scene series correspondent ...</td>\n",
       "      <td>Mentally ill inmates in Miami are housed on th...</td>\n",
       "      <td>mentally ill inmate miami housed forgotten flo...</td>\n",
       "    </tr>\n",
       "  </tbody>\n",
       "</table>\n",
       "</div>"
      ],
      "text/plain": [
       "                                                text  \\\n",
       "0  LONDON, England (Reuters) -- Harry Potter star...   \n",
       "1  Editor's note: In our Behind the Scenes series...   \n",
       "\n",
       "                                          text_clean  \\\n",
       "0  london england reuters harry potter star danie...   \n",
       "1  editor note behind scene series correspondent ...   \n",
       "\n",
       "                                               label  \\\n",
       "0  Harry Potter star Daniel Radcliffe gets £20M f...   \n",
       "1  Mentally ill inmates in Miami are housed on th...   \n",
       "\n",
       "                                         label_clean  \n",
       "0  harry potter star daniel radcliffe get 20m for...  \n",
       "1  mentally ill inmate miami housed forgotten flo...  "
      ]
     },
     "execution_count": 25,
     "metadata": {},
     "output_type": "execute_result"
    }
   ],
   "source": [
    "# Partitioning\n",
    "df_train = df.iloc[1+1:]\n",
    "df_test = df.iloc[:1+1]\n",
    "df_test"
   ]
  },
  {
   "cell_type": "markdown",
   "id": "d66b9c66-62aa-4590-a4f3-edd125ba9fbd",
   "metadata": {},
   "source": [
    "## 3 - Baseline (Extractive: TextRank)"
   ]
  },
  {
   "cell_type": "code",
   "execution_count": 45,
   "id": "dee31949-490c-4065-bd97-69c4738d1cb3",
   "metadata": {},
   "outputs": [],
   "source": [
    "# def textrank(corpus, ratio=0.2):\n",
    "#     if type(corpus) is str:\n",
    "#         corpus = [corpus]\n",
    "#     lst_summaries = [gensim.summarization.summarize(txt, ratio=ratio) for txt in corpus]\n",
    "#     return lst_summaries\n",
    "\n",
    "from summa.summarizer import summarize\n",
    "def textrank(corpus, ratio=0.2):\n",
    "    if type(corpus) is str:\n",
    "        corpus = [corpus]\n",
    "    lst_summaries = [summarize(txt, ratio=ratio) for txt in corpus]\n",
    "    return lst_summaries"
   ]
  },
  {
   "cell_type": "code",
   "execution_count": 46,
   "id": "92c8a12e-d05b-40e3-a3a3-6fb50a8d6a3f",
   "metadata": {},
   "outputs": [],
   "source": [
    "# Test (no Train)\n",
    "predicted = textrank(corpus=df_test[\"text\"], ratio=y_len/X_len)"
   ]
  },
  {
   "cell_type": "code",
   "execution_count": 47,
   "id": "1c137fac-e434-4f44-97ea-1b270f53eb63",
   "metadata": {},
   "outputs": [],
   "source": [
    "def evaluate_summary(y_test, predicted):\n",
    "    rouge_score = rouge.Rouge()\n",
    "    scores = rouge_score.get_scores(y_test, predicted, avg=True)\n",
    "    score_1 = round(scores['rouge-1']['f'], 2)\n",
    "    score_2 = round(scores['rouge-2']['f'], 2)\n",
    "    score_L = round(scores['rouge-l']['f'], 2)\n",
    "    print(\"rouge1:\", score_1, \"| rouge2:\", score_2, \"| rougeL:\", score_2, \n",
    "          \"--> avg rouge:\", round(np.mean([score_1,score_2,score_L]), 2))"
   ]
  },
  {
   "cell_type": "code",
   "execution_count": 49,
   "id": "be78b39e-f7ce-409a-908d-e9afec1ec452",
   "metadata": {},
   "outputs": [
    {
     "name": "stdout",
     "output_type": "stream",
     "text": [
      "rouge1: 0.2 | rouge2: 0.02 | rougeL: 0.02 --> avg rouge: 0.13\n"
     ]
    }
   ],
   "source": [
    "# Evaluate\n",
    "evaluate_summary(df_test[\"label\"][1], predicted[1])"
   ]
  },
  {
   "cell_type": "code",
   "execution_count": 50,
   "id": "93745691-acbc-4774-b0fc-22fe23bd8938",
   "metadata": {},
   "outputs": [],
   "source": [
    "def display_string_matching(a, b, both=True, sentences=True, titles=[]):\n",
    "    if sentences is True:\n",
    "        lst_a, lst_b = utils_split_sentences(a, b)\n",
    "    else:\n",
    "        lst_a, lst_b = a.split(), b.split()       \n",
    "    \n",
    "    ## highlight a\n",
    "    first_text = []\n",
    "    for i in lst_a:\n",
    "        if re.sub(r'[^\\w\\s]', '', i.lower()) in [re.sub(r'[^\\w\\s]', '', z.lower()) for z in lst_b]:\n",
    "            first_text.append('<span style=\"background-color:rgba(255,215,0,0.3);\">' + i + '</span>')\n",
    "        else:\n",
    "            first_text.append(i)\n",
    "    first_text = ' '.join(first_text)\n",
    "    \n",
    "    ## highlight b\n",
    "    second_text = []\n",
    "    if both is True:\n",
    "        for i in lst_b:\n",
    "            if re.sub(r'[^\\w\\s]', '', i.lower()) in [re.sub(r'[^\\w\\s]', '', z.lower()) for z in lst_a]:\n",
    "                second_text.append('<span style=\"background-color:rgba(255,215,0,0.3);\">' + i + '</span>')\n",
    "            else:\n",
    "                second_text.append(i)\n",
    "    else:\n",
    "        second_text.append(b) \n",
    "    second_text = ' '.join(second_text)\n",
    "    \n",
    "    ## concatenate\n",
    "    if len(titles) > 0:\n",
    "        first_text = \"<strong>\"+titles[0]+\"</strong><br>\"+first_text\n",
    "    if len(titles) > 1:\n",
    "        second_text = \"<strong>\"+titles[1]+\"</strong><br>\"+second_text\n",
    "    else:\n",
    "        second_text = \"---\"*65+\"<br><br>\"+second_text\n",
    "    final_text = first_text +'<br><br>'+ second_text\n",
    "    return final_text\n"
   ]
  },
  {
   "cell_type": "code",
   "execution_count": 51,
   "id": "09503e2a-8b53-448b-ad51-ed62b9a2f202",
   "metadata": {},
   "outputs": [
    {
     "name": "stderr",
     "output_type": "stream",
     "text": [
      "Importing display from IPython.core.display is deprecated since IPython 7.14, please import from IPython display\n"
     ]
    },
    {
     "data": {
      "text/html": [
       "<strong>Real Summary</strong><br><span style=\"background-color:rgba(255,215,0,0.3);\">Mentally</span> <span style=\"background-color:rgba(255,215,0,0.3);\">ill</span> inmates <span style=\"background-color:rgba(255,215,0,0.3);\">in</span> Miami <span style=\"background-color:rgba(255,215,0,0.3);\">are</span> housed on <span style=\"background-color:rgba(255,215,0,0.3);\">the</span> \"forgotten floor\" Judge Steven <span style=\"background-color:rgba(255,215,0,0.3);\">Leifman</span> <span style=\"background-color:rgba(255,215,0,0.3);\">says</span> most <span style=\"background-color:rgba(255,215,0,0.3);\">are</span> <span style=\"background-color:rgba(255,215,0,0.3);\">there</span> as <span style=\"background-color:rgba(255,215,0,0.3);\">a</span> result <span style=\"background-color:rgba(255,215,0,0.3);\">of</span> \"avoidable felonies\" While CNN tours facility, patient shouts: \"I am <span style=\"background-color:rgba(255,215,0,0.3);\">the</span> son <span style=\"background-color:rgba(255,215,0,0.3);\">of</span> <span style=\"background-color:rgba(255,215,0,0.3);\">the</span> president\" <span style=\"background-color:rgba(255,215,0,0.3);\">Leifman</span> <span style=\"background-color:rgba(255,215,0,0.3);\">says</span> <span style=\"background-color:rgba(255,215,0,0.3);\">the</span> <span style=\"background-color:rgba(255,215,0,0.3);\">system</span> is unjust <span style=\"background-color:rgba(255,215,0,0.3);\">and</span> he's fighting for change .<br><br><strong>Predicted Summary</strong><br><span style=\"background-color:rgba(255,215,0,0.3);\">Leifman</span> <span style=\"background-color:rgba(255,215,0,0.3);\">says</span> about one-third <span style=\"background-color:rgba(255,215,0,0.3);\">of</span> all people <span style=\"background-color:rgba(255,215,0,0.3);\">in</span> Miami-Dade county jails <span style=\"background-color:rgba(255,215,0,0.3);\">are</span> <span style=\"background-color:rgba(255,215,0,0.3);\">mentally</span> <span style=\"background-color:rgba(255,215,0,0.3);\">ill.</span> <span style=\"background-color:rgba(255,215,0,0.3);\">Leifman</span> tells me that these prisoner-patients will often circulate through <span style=\"background-color:rgba(255,215,0,0.3);\">the</span> <span style=\"background-color:rgba(255,215,0,0.3);\">system,</span> occasionally stabilizing <span style=\"background-color:rgba(255,215,0,0.3);\">in</span> <span style=\"background-color:rgba(255,215,0,0.3);\">a</span> mental hospital, only to return to jail to face their charges. Over <span style=\"background-color:rgba(255,215,0,0.3);\">the</span> years, he <span style=\"background-color:rgba(255,215,0,0.3);\">says,</span> <span style=\"background-color:rgba(255,215,0,0.3);\">there</span> was some public outcry, <span style=\"background-color:rgba(255,215,0,0.3);\">and</span> <span style=\"background-color:rgba(255,215,0,0.3);\">the</span> <span style=\"background-color:rgba(255,215,0,0.3);\">mentally</span> <span style=\"background-color:rgba(255,215,0,0.3);\">ill</span> were moved out <span style=\"background-color:rgba(255,215,0,0.3);\">of</span> jails <span style=\"background-color:rgba(255,215,0,0.3);\">and</span> into hospitals. But <span style=\"background-color:rgba(255,215,0,0.3);\">Leifman</span> <span style=\"background-color:rgba(255,215,0,0.3);\">says</span> many <span style=\"background-color:rgba(255,215,0,0.3);\">of</span> these mental hospitals were so horrible they were shut down."
      ],
      "text/plain": [
       "<IPython.core.display.HTML object>"
      ]
     },
     "metadata": {},
     "output_type": "display_data"
    }
   ],
   "source": [
    "# Compare y_test and predicted\n",
    "match = display_string_matching(df_test[\"label\"][1], predicted[1], both=True, sentences=False, \n",
    "                                titles=[\"Real Summary\", \"Predicted Summary\"])\n",
    "\n",
    "from IPython.core.display import display, HTML\n",
    "display(HTML(match))"
   ]
  },
  {
   "cell_type": "markdown",
   "id": "41b118fa-a263-4392-ab23-a20d57741a0e",
   "metadata": {},
   "source": [
    "## Model (Abstractive: Seq2Seq)"
   ]
  },
  {
   "cell_type": "code",
   "execution_count": 52,
   "id": "94f5c066-a6a5-472f-9baf-cce0e172577c",
   "metadata": {},
   "outputs": [],
   "source": [
    "def utils_preprocess_ngrams(corpus, ngrams=1, grams_join=\" \", lst_ngrams_detectors=[]):\n",
    "    ## create list of n-grams\n",
    "    lst_corpus = []\n",
    "    for string in corpus:\n",
    "        lst_words = string.split()\n",
    "        lst_grams = [grams_join.join(lst_words[i:i + ngrams]) for i in range(0, len(lst_words), ngrams)]\n",
    "        lst_corpus.append(lst_grams)\n",
    "    \n",
    "    ## detect common bi-grams and tri-grams\n",
    "    if len(lst_ngrams_detectors) != 0:\n",
    "        for detector in lst_ngrams_detectors:\n",
    "            lst_corpus = list(detector[lst_corpus])\n",
    "    return lst_corpus\n",
    "\n",
    "def text2seq(corpus, ngrams=1, grams_join=\" \", lst_ngrams_detectors=[], fitted_tokenizer=None, top=None, oov=None, maxlen=None, padding=\"<PAD>\"):    \n",
    "    print(\"--- tokenization ---\")\n",
    "    \n",
    "    ## detect common n-grams in corpus\n",
    "    lst_corpus = utils_preprocess_ngrams(corpus, ngrams=ngrams, grams_join=grams_join, lst_ngrams_detectors=lst_ngrams_detectors)\n",
    "\n",
    "    ## bow with keras to get text2tokens without creating the sparse matrix\n",
    "    ### train\n",
    "    if fitted_tokenizer is None:\n",
    "        tokenizer = kprocessing.text.Tokenizer(num_words=top, lower=False, split=' ', char_level=False, oov_token=oov,\n",
    "                                               filters='!\"#$%&()*+,-./:;<=>?@[\\\\]^_`{|}~\\t\\n')\n",
    "        tokenizer.fit_on_texts(lst_corpus)\n",
    "        dic_vocabulary = {padding:0}\n",
    "        words = tokenizer.word_index if top is None else dict(list(tokenizer.word_index.items())[0:top+1])\n",
    "        dic_vocabulary.update(words)\n",
    "        print(len(dic_vocabulary), \"words\")\n",
    "    else:\n",
    "        tokenizer = fitted_tokenizer\n",
    "    ### transform\n",
    "    lst_text2seq = tokenizer.texts_to_sequences(lst_corpus)\n",
    "\n",
    "    ## padding sequence (from [1,2],[3,4,5,6] to [0,0,1,2],[3,4,5,6])\n",
    "    print(\"--- padding to sequence ---\")\n",
    "    X = kprocessing.sequence.pad_sequences(lst_text2seq, maxlen=maxlen, padding=\"post\", truncating=\"post\")\n",
    "    print(X.shape[0], \"sequences of length\", X.shape[1]) \n",
    "\n",
    "    ## plot heatmap\n",
    "    fig, ax = plt.subplots(figsize=(15,5))\n",
    "    sns.heatmap(X==0, vmin=0, vmax=1, cbar=False, ax=ax).set_title('Sequences Overview')\n",
    "    plt.show()\n",
    "    return {\"X\":X, \"tokenizer\":tokenizer, \"dic_vocabulary\":dic_vocabulary} if fitted_tokenizer is None else X"
   ]
  },
  {
   "cell_type": "code",
   "execution_count": 53,
   "id": "e9ee307e-2eae-416a-a29d-6568aeee8d4d",
   "metadata": {},
   "outputs": [
    {
     "name": "stdout",
     "output_type": "stream",
     "text": [
      "--- tokenization ---\n",
      "41279 words\n",
      "--- padding to sequence ---\n",
      "19998 sequences of length 400\n"
     ]
    },
    {
     "data": {
      "image/png": "[encoded data removed]",
      "text/plain": [
       "<Figure size 1500x500 with 1 Axes>"
      ]
     },
     "metadata": {},
     "output_type": "display_data"
    }
   ],
   "source": [
    "# Create X_train for seq2seq (sequences of tokens)\n",
    "dic_seq = text2seq(corpus=df_train[\"text_clean\"], top=X_top_words, maxlen=X_len)\n",
    "\n",
    "X_train, X_tokenizer, X_dic_vocabulary = dic_seq[\"X\"], dic_seq[\"tokenizer\"], dic_seq[\"dic_vocabulary\"]"
   ]
  },
  {
   "cell_type": "code",
   "execution_count": 54,
   "id": "2ea9584b-79bd-4353-870d-9116cdca6e5b",
   "metadata": {},
   "outputs": [
    {
     "data": {
      "text/plain": [
       "{'<PAD>': 0, 'people': 1, 'one': 2, 'year': 3, 'would': 4, 'time': 5}"
      ]
     },
     "execution_count": 54,
     "metadata": {},
     "output_type": "execute_result"
    }
   ],
   "source": [
    "dict(list(X_dic_vocabulary.items())[0:6])"
   ]
  },
  {
   "cell_type": "code",
   "execution_count": 55,
   "id": "4309069f-52a3-4970-aa72-81de25b5c2d2",
   "metadata": {},
   "outputs": [
    {
     "name": "stdout",
     "output_type": "stream",
     "text": [
      "--- tokenization ---\n",
      "--- padding to sequence ---\n",
      "2 sequences of length 400\n"
     ]
    },
    {
     "data": {
      "image/png": "[encoded data removed]",
      "text/plain": [
       "<Figure size 1500x500 with 1 Axes>"
      ]
     },
     "metadata": {},
     "output_type": "display_data"
    }
   ],
   "source": [
    "# Preprocess X_test with the same tokenizer\n",
    "X_test = text2seq(corpus=df_test[\"text_clean\"], fitted_tokenizer=X_tokenizer, maxlen=X_train.shape[1])"
   ]
  },
  {
   "cell_type": "code",
   "execution_count": 56,
   "id": "2575733f-7f14-4211-9ca8-95e95134751f",
   "metadata": {},
   "outputs": [
    {
     "name": "stderr",
     "output_type": "stream",
     "text": [
      "\n",
      "A value is trying to be set on a copy of a slice from a DataFrame.\n",
      "Try using .loc[row_indexer,col_indexer] = value instead\n",
      "\n",
      "See the caveats in the documentation: https://pandas.pydata.org/pandas-docs/stable/user_guide/indexing.html#returning-a-view-versus-a-copy\n",
      "\n",
      "A value is trying to be set on a copy of a slice from a DataFrame.\n",
      "Try using .loc[row_indexer,col_indexer] = value instead\n",
      "\n",
      "See the caveats in the documentation: https://pandas.pydata.org/pandas-docs/stable/user_guide/indexing.html#returning-a-view-versus-a-copy\n"
     ]
    },
    {
     "data": {
      "text/plain": [
       "'<START> mentally ill inmate miami housed forgotten floor judge steven leifman result avoidable felony tour facility patient shout son president leifman system unjust fighting change <END>'"
      ]
     },
     "execution_count": 56,
     "metadata": {},
     "output_type": "execute_result"
    }
   ],
   "source": [
    "# Add START and END tokens to the summaries (y)\n",
    "special_tokens = (\"<START>\", \"<END>\")\n",
    "df_train[\"label_clean\"] = df_train['label_clean'].apply(lambda x: special_tokens[0]+' '+x+' '+special_tokens[1])\n",
    "df_test[\"label_clean\"] = df_test['label_clean'].apply(lambda x: special_tokens[0]+' '+x+' '+special_tokens[1])\n",
    "df_test[\"label_clean\"][1]"
   ]
  },
  {
   "cell_type": "code",
   "execution_count": 57,
   "id": "21e5b925-a62e-48e3-9e39-7ec8962cf33f",
   "metadata": {},
   "outputs": [
    {
     "name": "stdout",
     "output_type": "stream",
     "text": [
      "--- tokenization ---\n",
      "10123 words\n",
      "--- padding to sequence ---\n",
      "19998 sequences of length 40\n"
     ]
    },
    {
     "data": {
      "image/png": "[encoded data removed]",
      "text/plain": [
       "<Figure size 1500x500 with 1 Axes>"
      ]
     },
     "metadata": {},
     "output_type": "display_data"
    }
   ],
   "source": [
    "# Tokenize the summaries (y_train)\n",
    "dic_seq = text2seq(corpus=df_train[\"label_clean\"], top=y_top_words, maxlen=y_len)\n",
    "\n",
    "y_train, y_tokenizer, y_dic_vocabulary = dic_seq[\"X\"], dic_seq[\"tokenizer\"], dic_seq[\"dic_vocabulary\"]"
   ]
  },
  {
   "cell_type": "code",
   "execution_count": 58,
   "id": "3340e23a-b47e-4516-a8cb-f28b4646652b",
   "metadata": {},
   "outputs": [
    {
     "data": {
      "text/plain": [
       "{'<PAD>': 0, '<START>': 1, '<END>': 2, 'year': 3, 'people': 4, 'police': 5}"
      ]
     },
     "execution_count": 58,
     "metadata": {},
     "output_type": "execute_result"
    }
   ],
   "source": [
    "dict(list(y_dic_vocabulary.items())[0:6])"
   ]
  },
  {
   "cell_type": "code",
   "execution_count": 59,
   "id": "794617a5-b4e0-4ea7-aa47-227bf88e23f2",
   "metadata": {},
   "outputs": [
    {
     "name": "stdout",
     "output_type": "stream",
     "text": [
      "--- tokenization ---\n",
      "--- padding to sequence ---\n",
      "2 sequences of length 40\n"
     ]
    },
    {
     "data": {
      "image/png": "[encoded data removed]",
      "text/plain": [
       "<Figure size 1500x500 with 1 Axes>"
      ]
     },
     "metadata": {},
     "output_type": "display_data"
    }
   ],
   "source": [
    "# Preprocess y_test with the same tokenizer\n",
    "y_test = text2seq(corpus=df_test[\"label_clean\"], fitted_tokenizer=y_tokenizer, maxlen=y_train.shape[1])"
   ]
  },
  {
   "cell_type": "code",
   "execution_count": 60,
   "id": "4a38683a-6023-4d4e-9c48-590b186b01ac",
   "metadata": {},
   "outputs": [
    {
     "name": "stdout",
     "output_type": "stream",
     "text": [
      "[=================================================-] 98.3% 369.5/376.1MB downloaded\n"
     ]
    }
   ],
   "source": [
    "# Load pre-trained Word2Vec\n",
    "nlp = gensim_api.load(\"glove-wiki-gigaword-300\")"
   ]
  },
  {
   "cell_type": "code",
   "execution_count": 61,
   "id": "a87e36f2-510d-4c05-ac8f-1970a5ca134a",
   "metadata": {},
   "outputs": [],
   "source": [
    "# Or train Word2Vec from scratch\n",
    "#corpus =  dtf_train[\"text_clean\"].append(dtf_train[\"y_clean\"])\n",
    "#lst_corpus, nlp = fit_w2v(corpus=corpus, min_count=1, size=300, window=y_avg_len)"
   ]
  },
  {
   "cell_type": "code",
   "execution_count": 62,
   "id": "b5ebfe7c-8be3-4e51-852a-762a929bb6fb",
   "metadata": {},
   "outputs": [
    {
     "data": {
      "text/plain": [
       "(300,)"
      ]
     },
     "execution_count": 62,
     "metadata": {},
     "output_type": "execute_result"
    }
   ],
   "source": [
    "# check nlp model\n",
    "word = \"home\"\n",
    "nlp[word].shape"
   ]
  },
  {
   "cell_type": "code",
   "execution_count": 64,
   "id": "cc7fd54a-ed01-4763-b96a-0a42b9589b7b",
   "metadata": {},
   "outputs": [],
   "source": [
    "def vocabulary_embeddings(dic_vocabulary, nlp=None):\n",
    "    nlp = gensim_api.load(\"glove-wiki-gigaword-300\") if nlp is None else nlp\n",
    "    embeddings = np.zeros((len(dic_vocabulary)+1, nlp.vector_size))\n",
    "    for word,idx in dic_vocabulary.items():\n",
    "        ## update the row with vector\n",
    "        try:\n",
    "            embeddings[idx] =  nlp[word]\n",
    "        ## if word not in model then skip and the row stays all zeros\n",
    "        except:\n",
    "            pass\n",
    "    print(\"vocabulary mapped to\", embeddings.shape[0], \"vectors of size\", embeddings.shape[1])\n",
    "    return embeddings"
   ]
  },
  {
   "cell_type": "code",
   "execution_count": 65,
   "id": "f6c8a41c-e0a7-4a0e-aef8-e6cd5a4e26a5",
   "metadata": {},
   "outputs": [
    {
     "name": "stdout",
     "output_type": "stream",
     "text": [
      "vocabulary mapped to 41280 vectors of size 300\n"
     ]
    },
    {
     "data": {
      "text/plain": [
       "(41280, 300)"
      ]
     },
     "execution_count": 65,
     "metadata": {},
     "output_type": "execute_result"
    }
   ],
   "source": [
    "X_embeddings = vocabulary_embeddings(X_dic_vocabulary, nlp)\n",
    "X_embeddings.shape"
   ]
  },
  {
   "cell_type": "code",
   "execution_count": 67,
   "id": "a9aa5edc-9990-4f99-9cee-b3df0cce97db",
   "metadata": {},
   "outputs": [
    {
     "name": "stdout",
     "output_type": "stream",
     "text": [
      "vocabulary mapped to 10124 vectors of size 300\n"
     ]
    },
    {
     "data": {
      "text/plain": [
       "(10124, 300)"
      ]
     },
     "execution_count": 67,
     "metadata": {},
     "output_type": "execute_result"
    }
   ],
   "source": [
    "y_embeddings = vocabulary_embeddings(y_dic_vocabulary, nlp)\n",
    "y_embeddings.shape"
   ]
  },
  {
   "cell_type": "code",
   "execution_count": 68,
   "id": "0a5a8d96-7838-4ee7-a6fe-699736162a44",
   "metadata": {},
   "outputs": [
    {
     "name": "stdout",
     "output_type": "stream",
     "text": [
      "Model: \"Seq2Seq\"\n",
      "__________________________________________________________________________________________________\n",
      " Layer (type)                Output Shape                 Param #   Connected to                  \n",
      "==================================================================================================\n",
      " x_in (InputLayer)           [(None, 400)]                0         []                            \n",
      "                                                                                                  \n",
      " y_in (InputLayer)           [(None, None)]               0         []                            \n",
      "                                                                                                  \n",
      " x_emb (Embedding)           (None, 400, 300)             1238370   ['x_in[0][0]']                \n",
      "                                                          0                                       \n",
      "                                                                                                  \n",
      " y_emb (Embedding)           (None, None, 300)            3036900   ['y_in[0][0]']                \n",
      "                                                                                                  \n",
      " x_lstm (LSTM)               [(None, 400, 250),           551000    ['x_emb[0][0]']               \n",
      "                              (None, 250),                                                        \n",
      "                              (None, 250)]                                                        \n",
      "                                                                                                  \n",
      " y_lstm (LSTM)               [(None, None, 250),          551000    ['y_emb[0][0]',               \n",
      "                              (None, 250),                           'x_lstm[0][1]',              \n",
      "                              (None, 250)]                           'x_lstm[0][2]']              \n",
      "                                                                                                  \n",
      " dense (TimeDistributed)     (None, None, 10123)          2540873   ['y_lstm[0][0]']              \n",
      "                                                                                                  \n",
      "==================================================================================================\n",
      "Total params: 19063473 (72.72 MB)\n",
      "Trainable params: 19063473 (72.72 MB)\n",
      "Non-trainable params: 0 (0.00 Byte)\n",
      "__________________________________________________________________________________________________\n"
     ]
    }
   ],
   "source": [
    "# Basic Seq2Seq\n",
    "lstm_units = 250\n",
    "embeddings_size = 300\n",
    "\n",
    "##------------ ENCODER (embeddings + lstm) -----------------------------##\n",
    "x_in = layers.Input(name=\"x_in\", shape=(X_train.shape[1],))\n",
    "### embedding\n",
    "layer_x_emb = layers.Embedding(name=\"x_emb\", input_dim=len(X_dic_vocabulary), output_dim=embeddings_size, \n",
    "                               trainable=True)\n",
    "x_emb = layer_x_emb(x_in)\n",
    "### lstm \n",
    "layer_x_lstm = layers.LSTM(name=\"x_lstm\", units=lstm_units, dropout=0.4,  \n",
    "                           return_sequences=True, return_state=True)\n",
    "x_out, state_h, state_c = layer_x_lstm(x_emb)\n",
    "\n",
    "##------------ DECODER (embeddings + lstm + dense) ---------------------##\n",
    "y_in = layers.Input(name=\"y_in\", shape=(None,))\n",
    "### embedding\n",
    "layer_y_emb = layers.Embedding(name=\"y_emb\", input_dim=len(y_dic_vocabulary), output_dim=embeddings_size, \n",
    "                               trainable=True)\n",
    "y_emb = layer_y_emb(y_in)\n",
    "### lstm \n",
    "layer_y_lstm = layers.LSTM(name=\"y_lstm\", units=lstm_units, dropout=0.4,\n",
    "                           return_sequences=True, return_state=True)\n",
    "y_out, _, _ = layer_y_lstm(y_emb, initial_state=[state_h, state_c])\n",
    "### final dense layers\n",
    "layer_dense = layers.TimeDistributed(name=\"dense\", \n",
    "                                     layer=layers.Dense(units=len(y_dic_vocabulary), activation='softmax'))\n",
    "y_out = layer_dense(y_out)\n",
    "\n",
    "##---------------------------- COMPILE --------------------------------##\n",
    "model = models.Model(inputs=[x_in, y_in], outputs=y_out, name=\"Seq2Seq\")\n",
    "model.compile(optimizer='rmsprop', loss='sparse_categorical_crossentropy', metrics=['accuracy'])\n",
    "\n",
    "model.summary()"
   ]
  },
  {
   "cell_type": "code",
   "execution_count": 69,
   "id": "0500c214-8358-46f8-acb3-e28ed553ba57",
   "metadata": {},
   "outputs": [
    {
     "name": "stdout",
     "output_type": "stream",
     "text": [
      "Model: \"Seq2Seq\"\n",
      "__________________________________________________________________________________________________\n",
      " Layer (type)                Output Shape                 Param #   Connected to                  \n",
      "==================================================================================================\n",
      " x_in (InputLayer)           [(None, 400)]                0         []                            \n",
      "                                                                                                  \n",
      " x_emb (Embedding)           (None, 400, 300)             1238400   ['x_in[0][0]']                \n",
      "                                                          0                                       \n",
      "                                                                                                  \n",
      " x_lstm_1 (Bidirectional)    [(None, 400, 500),           1102000   ['x_emb[0][0]']               \n",
      "                              (None, 250),                                                        \n",
      "                              (None, 250),                                                        \n",
      "                              (None, 250),                                                        \n",
      "                              (None, 250)]                                                        \n",
      "                                                                                                  \n",
      " x_lstm_2 (Bidirectional)    [(None, 400, 500),           1502000   ['x_lstm_1[0][0]']            \n",
      "                              (None, 250),                                                        \n",
      "                              (None, 250),                                                        \n",
      "                              (None, 250),                                                        \n",
      "                              (None, 250)]                                                        \n",
      "                                                                                                  \n",
      " y_in (InputLayer)           [(None, None)]               0         []                            \n",
      "                                                                                                  \n",
      " x_lstm_3 (Bidirectional)    [(None, 400, 500),           1502000   ['x_lstm_2[0][0]']            \n",
      "                              (None, 250),                                                        \n",
      "                              (None, 250),                                                        \n",
      "                              (None, 250),                                                        \n",
      "                              (None, 250)]                                                        \n",
      "                                                                                                  \n",
      " y_emb (Embedding)           (None, None, 300)            3037200   ['y_in[0][0]']                \n",
      "                                                                                                  \n",
      " concatenate (Concatenate)   (None, 500)                  0         ['x_lstm_3[0][1]',            \n",
      "                                                                     'x_lstm_3[0][3]']            \n",
      "                                                                                                  \n",
      " concatenate_1 (Concatenate  (None, 500)                  0         ['x_lstm_3[0][2]',            \n",
      " )                                                                   'x_lstm_3[0][4]']            \n",
      "                                                                                                  \n",
      " y_lstm (LSTM)               [(None, None, 500),          1602000   ['y_emb[0][0]',               \n",
      "                              (None, 500),                           'concatenate[0][0]',         \n",
      "                              (None, 500)]                           'concatenate_1[0][0]']       \n",
      "                                                                                                  \n",
      " dense (TimeDistributed)     (None, None, 10123)          5071623   ['y_lstm[0][0]']              \n",
      "                                                                                                  \n",
      "==================================================================================================\n",
      "Total params: 26200823 (99.95 MB)\n",
      "Trainable params: 10779623 (41.12 MB)\n",
      "Non-trainable params: 15421200 (58.83 MB)\n",
      "__________________________________________________________________________________________________\n"
     ]
    }
   ],
   "source": [
    "# Advanced Seq2Seq\n",
    "lstm_units = 250\n",
    "\n",
    "##------------ ENCODER (pre-trained embeddings + 3 bi-lstm) ---------------##\n",
    "x_in = layers.Input(name=\"x_in\", shape=(X_train.shape[1],))\n",
    "### embedding\n",
    "layer_x_emb = layers.Embedding(name=\"x_emb\", input_dim=X_embeddings.shape[0], output_dim=X_embeddings.shape[1], \n",
    "                               weights=[X_embeddings], trainable=False)\n",
    "x_emb = layer_x_emb(x_in)\n",
    "### bi-lstm 1\n",
    "layer_x_bilstm = layers.Bidirectional(layers.LSTM(units=lstm_units, dropout=0.4, recurrent_dropout=0.4,\n",
    "                                                  return_sequences=True, return_state=True), \n",
    "                                      name=\"x_lstm_1\")\n",
    "x_out, _, _, _, _ = layer_x_bilstm(x_emb)\n",
    "### bi-lstm 2\n",
    "layer_x_bilstm = layers.Bidirectional(layers.LSTM(units=lstm_units, dropout=0.4, recurrent_dropout=0.4,\n",
    "                                                  return_sequences=True, return_state=True),\n",
    "                                      name=\"x_lstm_2\")\n",
    "x_out, _, _, _, _ = layer_x_bilstm(x_out)\n",
    "### bi-lstm 3 (here final states are collected)\n",
    "layer_x_bilstm = layers.Bidirectional(layers.LSTM(units=lstm_units, dropout=0.4, recurrent_dropout=0.4, \n",
    "                                                  return_sequences=True, return_state=True),\n",
    "                                      name=\"x_lstm_3\")\n",
    "x_out, forward_h, forward_c, backward_h, backward_c = layer_x_bilstm(x_out)\n",
    "state_h = layers.Concatenate()([forward_h, backward_h])\n",
    "state_c = layers.Concatenate()([forward_c, backward_c])\n",
    "\n",
    "##------------ DECODER (pre-trained embeddings + lstm + dense) ------------##\n",
    "y_in = layers.Input(name=\"y_in\", shape=(None,))\n",
    "### embedding\n",
    "layer_y_emb = layers.Embedding(name=\"y_emb\", input_dim=y_embeddings.shape[0], output_dim=y_embeddings.shape[1], \n",
    "                               weights=[y_embeddings], trainable=False)\n",
    "y_emb = layer_y_emb(y_in)\n",
    "### lstm\n",
    "layer_y_lstm = layers.LSTM(name=\"y_lstm\", units=lstm_units*2, dropout=0.2, recurrent_dropout=0.2,\n",
    "                           return_sequences=True, return_state=True)\n",
    "y_out, _, _ = layer_y_lstm(y_emb, initial_state=[state_h, state_c])\n",
    "### final dense layers\n",
    "layer_dense = layers.TimeDistributed(name=\"dense\", \n",
    "                                     layer=layers.Dense(units=len(y_dic_vocabulary), activation='softmax'))\n",
    "y_out = layer_dense(y_out)\n",
    "\n",
    "##---------------------------- COMPILE ------------------------------------##\n",
    "model = models.Model(inputs=[x_in, y_in], outputs=y_out, name=\"Seq2Seq\")\n",
    "model.compile(optimizer='rmsprop', loss='sparse_categorical_crossentropy')\n",
    "\n",
    "model.summary()"
   ]
  },
  {
   "cell_type": "code",
   "execution_count": 70,
   "id": "64cdb10a-2416-4aa1-89e5-e9394379626e",
   "metadata": {},
   "outputs": [],
   "source": [
    "def fit_seq2seq(X_train, y_train, model=None, X_embeddings=None, y_embeddings=None, build_encoder_decoder=True, epochs=100, batch_size=64, verbose=1):    \n",
    "    ## model\n",
    "    if model is None:\n",
    "        ### params\n",
    "        len_vocabulary_X, embeddings_dim_X = X_embeddings.shape\n",
    "        len_vocabulary_y, embeddings_dim_y = y_embeddings.shape\n",
    "        lstm_units = 250\n",
    "        max_seq_lenght = X_train.shape[1]\n",
    "        ### encoder (embedding + lstm)\n",
    "        x_in = layers.Input(name=\"x_in\", shape=(max_seq_lenght,))\n",
    "        layer_x_emb = layers.Embedding(name=\"x_emb\", input_dim=len_vocabulary_X, output_dim=embeddings_dim_X, \n",
    "                                       weights=[X_embeddings], trainable=False)\n",
    "        x_emb = layer_x_emb(x_in)\n",
    "        layer_x_lstm = layers.LSTM(name=\"x_lstm\", units=lstm_units, return_sequences=True, return_state=True)\n",
    "        x_out, state_h, state_c = layer_x_lstm(x_emb)\n",
    "        ### decoder (embedding + lstm + dense)\n",
    "        y_in = layers.Input(name=\"y_in\", shape=(None,))\n",
    "        layer_y_emb = layers.Embedding(name=\"y_emb\", input_dim=len_vocabulary_y, output_dim=embeddings_dim_y, \n",
    "                                       weights=[y_embeddings], trainable=False)\n",
    "        y_emb = layer_y_emb(y_in)\n",
    "        layer_y_lstm = layers.LSTM(name=\"y_lstm\", units=lstm_units, return_sequences=True, return_state=True)\n",
    "        y_out, _, _ = layer_y_lstm(y_emb, initial_state=[state_h, state_c])\n",
    "        layer_dense = layers.TimeDistributed(name=\"dense\", \n",
    "                                             layer=layers.Dense(units=len_vocabulary_y, activation='softmax'))\n",
    "        y_out = layer_dense(y_out)\n",
    "        ### compile\n",
    "        model = models.Model(inputs=[x_in, y_in], outputs=y_out, name=\"Seq2Seq\")\n",
    "        model.compile(loss='sparse_categorical_crossentropy', optimizer='rmsprop', metrics=['accuracy'])\n",
    "        print(model.summary())\n",
    "        \n",
    "    ## train\n",
    "    training = model.fit(x=[X_train, y_train[:,:-1]], \n",
    "                         y=y_train.reshape(y_train.shape[0], y_train.shape[1], 1)[:,1:],\n",
    "                         batch_size=batch_size, epochs=epochs, shuffle=True, verbose=verbose, validation_split=0.3,\n",
    "                         callbacks=[callbacks.EarlyStopping(monitor='val_loss', mode='min', verbose=1, patience=2)])\n",
    "    if epochs > 1:\n",
    "        utils_plot_keras_training(training)\n",
    "    \n",
    "    ## build prediction enconder-decoder model\n",
    "    if build_encoder_decoder is True:\n",
    "        lstm_units = lstm_units*2 if any(\"Bidirectional\" in str(layer) for layer in model.layers) else lstm_units\n",
    "        ### encoder\n",
    "        encoder_model = models.Model(inputs=x_in, outputs=[x_out, state_h, state_c], name=\"Prediction_Encoder\")\n",
    "        ### decoder\n",
    "        encoder_out = layers.Input(shape=(max_seq_lenght, lstm_units))\n",
    "        state_h, state_c = layers.Input(shape=(lstm_units,)), layers.Input(shape=(lstm_units,))\n",
    "        y_emb2 = layer_y_emb(y_in)\n",
    "        y_out2, new_state_h, new_state_c = layer_y_lstm(y_emb2, initial_state=[state_h, state_c])\n",
    "        predicted_prob = layer_dense(y_out2) \n",
    "        decoder_model = models.Model(inputs=[y_in, encoder_out, state_h, state_c], \n",
    "                                     outputs=[predicted_prob, new_state_h, new_state_c], \n",
    "                                     name=\"Prediction_Decoder\")\n",
    "        return training.model, encoder_model, decoder_model\n",
    "    else:\n",
    "        return training.model"
   ]
  },
  {
   "cell_type": "code",
   "execution_count": null,
   "id": "abbb8008-e17f-49b6-b00c-95fd23136025",
   "metadata": {},
   "outputs": [
    {
     "name": "stdout",
     "output_type": "stream",
     "text": [
      "Epoch 1/100\n"
     ]
    }
   ],
   "source": [
    "# This takes a while\n",
    "model = fit_seq2seq(X_train, y_train, model, build_encoder_decoder=False, \n",
    "                    epochs=100, batch_size=64, verbose=1)\n",
    "#model, encoder_model, decoder_model = fit_seq2seq(X_train, y_train, X_embeddings, y_embeddings, model, \n",
    "#                                                  build_encoder_decoder=True, epochs=100, batch_size=64)"
   ]
  },
  {
   "cell_type": "code",
   "execution_count": null,
   "id": "9eb3798a-8957-47da-84b5-03f06b3c740b",
   "metadata": {},
   "outputs": [],
   "source": [
    "def predict_seq2seq(X_test, encoder_model, decoder_model, fitted_tokenizer, special_tokens=(\"<START>\",\"<END>\")):\n",
    "    max_seq_lenght = X_test.shape[1]\n",
    "    predicted = []\n",
    "    for x in X_test:\n",
    "        x = x.reshape(1,-1)\n",
    "\n",
    "        ## encode X\n",
    "        x_out, state_h, state_c = encoder_model.predict(x)\n",
    "\n",
    "        ## prepare loop\n",
    "        y_in = np.array([fitted_tokenizer.word_index[special_tokens[0]]])\n",
    "        predicted_text = \"\"\n",
    "        stop = False\n",
    "\n",
    "        while not stop:\n",
    "            ## predict dictionary probability distribution\n",
    "            probs, new_state_h, new_state_c = decoder_model.predict([y_in, x_out, state_h, state_c])\n",
    "            ## get predicted word\n",
    "            voc_idx = np.argmax(probs[0,-1,:])\n",
    "            pred_word = fitted_tokenizer.index_word[voc_idx]\n",
    "            ## check stop\n",
    "            if (pred_word != special_tokens[1]) and (len(predicted_text.split()) < max_seq_lenght):\n",
    "                predicted_text = predicted_text +\" \"+ pred_word\n",
    "            else:\n",
    "                stop = True\n",
    "            ## next\n",
    "            y_in = np.array([voc_idx])\n",
    "            state_h, state_c = new_state_h, new_state_c\n",
    "\n",
    "        predicted_text = predicted_text.replace(special_tokens[0],\"\").strip()\n",
    "        predicted.append(predicted_text)\n",
    "\n",
    "    return predicted"
   ]
  },
  {
   "cell_type": "code",
   "execution_count": null,
   "id": "f8c4a58f-d864-4018-b706-7a56e3a9b181",
   "metadata": {},
   "outputs": [],
   "source": [
    "predicted = predict_seq2seq(X_test, encoder_model, decoder_model, y_tokenizer, special_tokens)"
   ]
  },
  {
   "cell_type": "code",
   "execution_count": null,
   "id": "8720fca6-4f33-4b61-b1c8-112a543cf07f",
   "metadata": {},
   "outputs": [],
   "source": [
    "# Evaluate\n",
    "evaluate_summary(df_test[\"label_clean\"][1], predicted[1])"
   ]
  },
  {
   "cell_type": "code",
   "execution_count": null,
   "id": "0eff3161-101a-4561-aee5-273e0cf36027",
   "metadata": {
    "tags": []
   },
   "outputs": [],
   "source": [
    "# Compare y_test and predicted\n",
    "match = display_string_matching(dtf_test[\"label_clean\"][1], predicted[1], both=True, sentences=False, \n",
    "                                titles=[\"Real Summary\", \"Predicted Summary\"])\n",
    "\n",
    "from IPython.core.display import display, HTML\n",
    "display(HTML(match))"
   ]
  },
  {
   "cell_type": "code",
   "execution_count": null,
   "id": "e44b66d6-96d5-467e-8d72-2a69361698b0",
   "metadata": {},
   "outputs": [],
   "source": [
    "# Explainability\n",
    "match = display_string_matching(df_test[\"text_clean\"][1], predicted[1], both=True, sentences=False, \n",
    "                                titles=[\"Full Text\", \"Predicted Summary\"])\n",
    "\n",
    "from IPython.core.display import display, HTML\n",
    "display(HTML(match))"
   ]
  },
  {
   "cell_type": "markdown",
   "id": "1b6e6a7f-9f86-4b8f-8bf2-3e1c0ba3ebbe",
   "metadata": {},
   "source": [
    "## Model (Abstractive: Language model)"
   ]
  },
  {
   "cell_type": "code",
   "execution_count": 26,
   "id": "3eb77ec2-458c-459a-9792-dd8b046f43c7",
   "metadata": {},
   "outputs": [],
   "source": [
    "def bart(corpus, max_len):\n",
    "    nlp = transformers.pipeline(\"summarization\")\n",
    "    lst_summaries = [nlp(txt[:nlp.tokenizer.max_len], max_length=max_len\n",
    "                        )[0][\"summary_text\"].replace(\" .\", \".\")\n",
    "                     for txt in corpus]\n",
    "    return lst_summaries"
   ]
  },
  {
   "cell_type": "code",
   "execution_count": 27,
   "id": "a9ce17e2-e6a7-4709-becf-f05c79c8eb41",
   "metadata": {},
   "outputs": [
    {
     "name": "stderr",
     "output_type": "stream",
     "text": [
      "No model was supplied, defaulted to sshleifer/distilbart-cnn-12-6 and revision a4f8f3e (https://huggingface.co/sshleifer/distilbart-cnn-12-6).\n",
      "Using a pipeline without specifying a model name and revision in production is not recommended.\n"
     ]
    },
    {
     "data": {
      "application/vnd.jupyter.widget-view+json": {
       "model_id": "3afc0e741020434fbe13fc77be900af8",
       "version_major": 2,
       "version_minor": 0
      },
      "text/plain": [
       "Downloading (…)lve/main/config.json:   0%|          | 0.00/1.80k [00:00<?, ?B/s]"
      ]
     },
     "metadata": {},
     "output_type": "display_data"
    },
    {
     "ename": "RuntimeError",
     "evalue": "Failed to import transformers.models.bart.modeling_tf_bart because of the following error (look up to see its traceback):\nNo module named 'keras.saving.hdf5_format'",
     "output_type": "error",
     "traceback": [
      "\u001b[1;31m---------------------------------------------------------------------------\u001b[0m",
      "\u001b[1;31mModuleNotFoundError\u001b[0m                       Traceback (most recent call last)",
      "File \u001b[1;32mC:\\ProgramData\\anaconda3\\lib\\site-packages\\transformers\\utils\\import_utils.py:1076\u001b[0m, in \u001b[0;36m_LazyModule._get_module\u001b[1;34m(self, module_name)\u001b[0m\n\u001b[0;32m   1075\u001b[0m \u001b[38;5;28;01mtry\u001b[39;00m:\n\u001b[1;32m-> 1076\u001b[0m     \u001b[38;5;28;01mreturn\u001b[39;00m \u001b[43mimportlib\u001b[49m\u001b[38;5;241;43m.\u001b[39;49m\u001b[43mimport_module\u001b[49m\u001b[43m(\u001b[49m\u001b[38;5;124;43m\"\u001b[39;49m\u001b[38;5;124;43m.\u001b[39;49m\u001b[38;5;124;43m\"\u001b[39;49m\u001b[43m \u001b[49m\u001b[38;5;241;43m+\u001b[39;49m\u001b[43m \u001b[49m\u001b[43mmodule_name\u001b[49m\u001b[43m,\u001b[49m\u001b[43m \u001b[49m\u001b[38;5;28;43mself\u001b[39;49m\u001b[38;5;241;43m.\u001b[39;49m\u001b[38;5;18;43m__name__\u001b[39;49m\u001b[43m)\u001b[49m\n\u001b[0;32m   1077\u001b[0m \u001b[38;5;28;01mexcept\u001b[39;00m \u001b[38;5;167;01mException\u001b[39;00m \u001b[38;5;28;01mas\u001b[39;00m e:\n",
      "File \u001b[1;32mC:\\ProgramData\\anaconda3\\lib\\importlib\\__init__.py:126\u001b[0m, in \u001b[0;36mimport_module\u001b[1;34m(name, package)\u001b[0m\n\u001b[0;32m    125\u001b[0m         level \u001b[38;5;241m+\u001b[39m\u001b[38;5;241m=\u001b[39m \u001b[38;5;241m1\u001b[39m\n\u001b[1;32m--> 126\u001b[0m \u001b[38;5;28;01mreturn\u001b[39;00m \u001b[43m_bootstrap\u001b[49m\u001b[38;5;241;43m.\u001b[39;49m\u001b[43m_gcd_import\u001b[49m\u001b[43m(\u001b[49m\u001b[43mname\u001b[49m\u001b[43m[\u001b[49m\u001b[43mlevel\u001b[49m\u001b[43m:\u001b[49m\u001b[43m]\u001b[49m\u001b[43m,\u001b[49m\u001b[43m \u001b[49m\u001b[43mpackage\u001b[49m\u001b[43m,\u001b[49m\u001b[43m \u001b[49m\u001b[43mlevel\u001b[49m\u001b[43m)\u001b[49m\n",
      "File \u001b[1;32m<frozen importlib._bootstrap>:1050\u001b[0m, in \u001b[0;36m_gcd_import\u001b[1;34m(name, package, level)\u001b[0m\n",
      "File \u001b[1;32m<frozen importlib._bootstrap>:1027\u001b[0m, in \u001b[0;36m_find_and_load\u001b[1;34m(name, import_)\u001b[0m\n",
      "File \u001b[1;32m<frozen importlib._bootstrap>:1006\u001b[0m, in \u001b[0;36m_find_and_load_unlocked\u001b[1;34m(name, import_)\u001b[0m\n",
      "File \u001b[1;32m<frozen importlib._bootstrap>:688\u001b[0m, in \u001b[0;36m_load_unlocked\u001b[1;34m(spec)\u001b[0m\n",
      "File \u001b[1;32m<frozen importlib._bootstrap_external>:883\u001b[0m, in \u001b[0;36mexec_module\u001b[1;34m(self, module)\u001b[0m\n",
      "File \u001b[1;32m<frozen importlib._bootstrap>:241\u001b[0m, in \u001b[0;36m_call_with_frames_removed\u001b[1;34m(f, *args, **kwds)\u001b[0m\n",
      "File \u001b[1;32mC:\\ProgramData\\anaconda3\\lib\\site-packages\\transformers\\models\\bart\\modeling_tf_bart.py:33\u001b[0m\n\u001b[0;32m     32\u001b[0m \u001b[38;5;66;03m# Public API\u001b[39;00m\n\u001b[1;32m---> 33\u001b[0m \u001b[38;5;28;01mfrom\u001b[39;00m \u001b[38;5;21;01m.\u001b[39;00m\u001b[38;5;21;01m.\u001b[39;00m\u001b[38;5;21;01m.\u001b[39;00m\u001b[38;5;21;01mmodeling_tf_utils\u001b[39;00m \u001b[38;5;28;01mimport\u001b[39;00m (\n\u001b[0;32m     34\u001b[0m     DUMMY_INPUTS,\n\u001b[0;32m     35\u001b[0m     TFCausalLanguageModelingLoss,\n\u001b[0;32m     36\u001b[0m     TFModelInputType,\n\u001b[0;32m     37\u001b[0m     TFPreTrainedModel,\n\u001b[0;32m     38\u001b[0m     keras_serializable,\n\u001b[0;32m     39\u001b[0m     unpack_inputs,\n\u001b[0;32m     40\u001b[0m )\n\u001b[0;32m     41\u001b[0m \u001b[38;5;28;01mfrom\u001b[39;00m \u001b[38;5;21;01m.\u001b[39;00m\u001b[38;5;21;01m.\u001b[39;00m\u001b[38;5;21;01m.\u001b[39;00m\u001b[38;5;21;01mtf_utils\u001b[39;00m \u001b[38;5;28;01mimport\u001b[39;00m shape_list, stable_softmax\n",
      "File \u001b[1;32mC:\\ProgramData\\anaconda3\\lib\\site-packages\\transformers\\modeling_tf_utils.py:39\u001b[0m\n\u001b[0;32m     38\u001b[0m \u001b[38;5;28;01mfrom\u001b[39;00m \u001b[38;5;21;01mhuggingface_hub\u001b[39;00m \u001b[38;5;28;01mimport\u001b[39;00m Repository, list_repo_files\n\u001b[1;32m---> 39\u001b[0m \u001b[38;5;28;01mfrom\u001b[39;00m \u001b[38;5;21;01mkeras\u001b[39;00m\u001b[38;5;21;01m.\u001b[39;00m\u001b[38;5;21;01msaving\u001b[39;00m\u001b[38;5;21;01m.\u001b[39;00m\u001b[38;5;21;01mhdf5_format\u001b[39;00m \u001b[38;5;28;01mimport\u001b[39;00m save_attributes_to_hdf5_group\n\u001b[0;32m     40\u001b[0m \u001b[38;5;28;01mfrom\u001b[39;00m \u001b[38;5;21;01mtransformers\u001b[39;00m\u001b[38;5;21;01m.\u001b[39;00m\u001b[38;5;21;01mutils\u001b[39;00m\u001b[38;5;21;01m.\u001b[39;00m\u001b[38;5;21;01mhub\u001b[39;00m \u001b[38;5;28;01mimport\u001b[39;00m convert_file_size_to_int, get_checkpoint_shard_files\n",
      "\u001b[1;31mModuleNotFoundError\u001b[0m: No module named 'keras.saving.hdf5_format'",
      "\nThe above exception was the direct cause of the following exception:\n",
      "\u001b[1;31mRuntimeError\u001b[0m                              Traceback (most recent call last)",
      "Cell \u001b[1;32mIn[27], line 2\u001b[0m\n\u001b[0;32m      1\u001b[0m \u001b[38;5;66;03m# Test (no Train)\u001b[39;00m\n\u001b[1;32m----> 2\u001b[0m predicted \u001b[38;5;241m=\u001b[39m \u001b[43mbart\u001b[49m\u001b[43m(\u001b[49m\u001b[43mcorpus\u001b[49m\u001b[38;5;241;43m=\u001b[39;49m\u001b[43mdf_test\u001b[49m\u001b[43m[\u001b[49m\u001b[38;5;124;43m\"\u001b[39;49m\u001b[38;5;124;43mtext\u001b[39;49m\u001b[38;5;124;43m\"\u001b[39;49m\u001b[43m]\u001b[49m\u001b[43m,\u001b[49m\u001b[43m \u001b[49m\u001b[43mmax_len\u001b[49m\u001b[38;5;241;43m=\u001b[39;49m\u001b[43my_len\u001b[49m\u001b[43m)\u001b[49m\n",
      "Cell \u001b[1;32mIn[26], line 2\u001b[0m, in \u001b[0;36mbart\u001b[1;34m(corpus, max_len)\u001b[0m\n\u001b[0;32m      1\u001b[0m \u001b[38;5;28;01mdef\u001b[39;00m \u001b[38;5;21mbart\u001b[39m(corpus, max_len):\n\u001b[1;32m----> 2\u001b[0m     nlp \u001b[38;5;241m=\u001b[39m \u001b[43mtransformers\u001b[49m\u001b[38;5;241;43m.\u001b[39;49m\u001b[43mpipeline\u001b[49m\u001b[43m(\u001b[49m\u001b[38;5;124;43m\"\u001b[39;49m\u001b[38;5;124;43msummarization\u001b[39;49m\u001b[38;5;124;43m\"\u001b[39;49m\u001b[43m)\u001b[49m\n\u001b[0;32m      3\u001b[0m     lst_summaries \u001b[38;5;241m=\u001b[39m [nlp(txt[:nlp\u001b[38;5;241m.\u001b[39mtokenizer\u001b[38;5;241m.\u001b[39mmax_len], max_length\u001b[38;5;241m=\u001b[39mmax_len\n\u001b[0;32m      4\u001b[0m                         )[\u001b[38;5;241m0\u001b[39m][\u001b[38;5;124m\"\u001b[39m\u001b[38;5;124msummary_text\u001b[39m\u001b[38;5;124m\"\u001b[39m]\u001b[38;5;241m.\u001b[39mreplace(\u001b[38;5;124m\"\u001b[39m\u001b[38;5;124m .\u001b[39m\u001b[38;5;124m\"\u001b[39m, \u001b[38;5;124m\"\u001b[39m\u001b[38;5;124m.\u001b[39m\u001b[38;5;124m\"\u001b[39m)\n\u001b[0;32m      5\u001b[0m                      \u001b[38;5;28;01mfor\u001b[39;00m txt \u001b[38;5;129;01min\u001b[39;00m corpus]\n\u001b[0;32m      6\u001b[0m     \u001b[38;5;28;01mreturn\u001b[39;00m lst_summaries\n",
      "File \u001b[1;32mC:\\ProgramData\\anaconda3\\lib\\site-packages\\transformers\\pipelines\\__init__.py:727\u001b[0m, in \u001b[0;36mpipeline\u001b[1;34m(task, model, config, tokenizer, feature_extractor, framework, revision, use_fast, use_auth_token, device, device_map, torch_dtype, trust_remote_code, model_kwargs, pipeline_class, **kwargs)\u001b[0m\n\u001b[0;32m    723\u001b[0m \u001b[38;5;66;03m# Infer the framework from the model\u001b[39;00m\n\u001b[0;32m    724\u001b[0m \u001b[38;5;66;03m# Forced if framework already defined, inferred if it's None\u001b[39;00m\n\u001b[0;32m    725\u001b[0m \u001b[38;5;66;03m# Will load the correct model if possible\u001b[39;00m\n\u001b[0;32m    726\u001b[0m model_classes \u001b[38;5;241m=\u001b[39m {\u001b[38;5;124m\"\u001b[39m\u001b[38;5;124mtf\u001b[39m\u001b[38;5;124m\"\u001b[39m: targeted_task[\u001b[38;5;124m\"\u001b[39m\u001b[38;5;124mtf\u001b[39m\u001b[38;5;124m\"\u001b[39m], \u001b[38;5;124m\"\u001b[39m\u001b[38;5;124mpt\u001b[39m\u001b[38;5;124m\"\u001b[39m: targeted_task[\u001b[38;5;124m\"\u001b[39m\u001b[38;5;124mpt\u001b[39m\u001b[38;5;124m\"\u001b[39m]}\n\u001b[1;32m--> 727\u001b[0m framework, model \u001b[38;5;241m=\u001b[39m infer_framework_load_model(\n\u001b[0;32m    728\u001b[0m     model,\n\u001b[0;32m    729\u001b[0m     model_classes\u001b[38;5;241m=\u001b[39mmodel_classes,\n\u001b[0;32m    730\u001b[0m     config\u001b[38;5;241m=\u001b[39mconfig,\n\u001b[0;32m    731\u001b[0m     framework\u001b[38;5;241m=\u001b[39mframework,\n\u001b[0;32m    732\u001b[0m     task\u001b[38;5;241m=\u001b[39mtask,\n\u001b[0;32m    733\u001b[0m     \u001b[38;5;241m*\u001b[39m\u001b[38;5;241m*\u001b[39mhub_kwargs,\n\u001b[0;32m    734\u001b[0m     \u001b[38;5;241m*\u001b[39m\u001b[38;5;241m*\u001b[39mmodel_kwargs,\n\u001b[0;32m    735\u001b[0m )\n\u001b[0;32m    737\u001b[0m model_config \u001b[38;5;241m=\u001b[39m model\u001b[38;5;241m.\u001b[39mconfig\n\u001b[0;32m    738\u001b[0m hub_kwargs[\u001b[38;5;124m\"\u001b[39m\u001b[38;5;124m_commit_hash\u001b[39m\u001b[38;5;124m\"\u001b[39m] \u001b[38;5;241m=\u001b[39m model\u001b[38;5;241m.\u001b[39mconfig\u001b[38;5;241m.\u001b[39m_commit_hash\n",
      "File \u001b[1;32mC:\\ProgramData\\anaconda3\\lib\\site-packages\\transformers\\pipelines\\base.py:233\u001b[0m, in \u001b[0;36minfer_framework_load_model\u001b[1;34m(model, config, model_classes, task, framework, **model_kwargs)\u001b[0m\n\u001b[0;32m    231\u001b[0m         classes\u001b[38;5;241m.\u001b[39mappend(_class)\n\u001b[0;32m    232\u001b[0m \u001b[38;5;28;01mif\u001b[39;00m look_tf:\n\u001b[1;32m--> 233\u001b[0m     _class \u001b[38;5;241m=\u001b[39m \u001b[38;5;28;43mgetattr\u001b[39;49m\u001b[43m(\u001b[49m\u001b[43mtransformers_module\u001b[49m\u001b[43m,\u001b[49m\u001b[43m \u001b[49m\u001b[38;5;124;43mf\u001b[39;49m\u001b[38;5;124;43m\"\u001b[39;49m\u001b[38;5;124;43mTF\u001b[39;49m\u001b[38;5;132;43;01m{\u001b[39;49;00m\u001b[43marchitecture\u001b[49m\u001b[38;5;132;43;01m}\u001b[39;49;00m\u001b[38;5;124;43m\"\u001b[39;49m\u001b[43m,\u001b[49m\u001b[43m \u001b[49m\u001b[38;5;28;43;01mNone\u001b[39;49;00m\u001b[43m)\u001b[49m\n\u001b[0;32m    234\u001b[0m     \u001b[38;5;28;01mif\u001b[39;00m _class \u001b[38;5;129;01mis\u001b[39;00m \u001b[38;5;129;01mnot\u001b[39;00m \u001b[38;5;28;01mNone\u001b[39;00m:\n\u001b[0;32m    235\u001b[0m         classes\u001b[38;5;241m.\u001b[39mappend(_class)\n",
      "File \u001b[1;32mC:\\ProgramData\\anaconda3\\lib\\site-packages\\transformers\\utils\\import_utils.py:1067\u001b[0m, in \u001b[0;36m_LazyModule.__getattr__\u001b[1;34m(self, name)\u001b[0m\n\u001b[0;32m   1065\u001b[0m \u001b[38;5;28;01melif\u001b[39;00m name \u001b[38;5;129;01min\u001b[39;00m \u001b[38;5;28mself\u001b[39m\u001b[38;5;241m.\u001b[39m_class_to_module\u001b[38;5;241m.\u001b[39mkeys():\n\u001b[0;32m   1066\u001b[0m     module \u001b[38;5;241m=\u001b[39m \u001b[38;5;28mself\u001b[39m\u001b[38;5;241m.\u001b[39m_get_module(\u001b[38;5;28mself\u001b[39m\u001b[38;5;241m.\u001b[39m_class_to_module[name])\n\u001b[1;32m-> 1067\u001b[0m     value \u001b[38;5;241m=\u001b[39m \u001b[38;5;28;43mgetattr\u001b[39;49m\u001b[43m(\u001b[49m\u001b[43mmodule\u001b[49m\u001b[43m,\u001b[49m\u001b[43m \u001b[49m\u001b[43mname\u001b[49m\u001b[43m)\u001b[49m\n\u001b[0;32m   1068\u001b[0m \u001b[38;5;28;01melse\u001b[39;00m:\n\u001b[0;32m   1069\u001b[0m     \u001b[38;5;28;01mraise\u001b[39;00m \u001b[38;5;167;01mAttributeError\u001b[39;00m(\u001b[38;5;124mf\u001b[39m\u001b[38;5;124m\"\u001b[39m\u001b[38;5;124mmodule \u001b[39m\u001b[38;5;132;01m{\u001b[39;00m\u001b[38;5;28mself\u001b[39m\u001b[38;5;241m.\u001b[39m\u001b[38;5;18m__name__\u001b[39m\u001b[38;5;132;01m}\u001b[39;00m\u001b[38;5;124m has no attribute \u001b[39m\u001b[38;5;132;01m{\u001b[39;00mname\u001b[38;5;132;01m}\u001b[39;00m\u001b[38;5;124m\"\u001b[39m)\n",
      "File \u001b[1;32mC:\\ProgramData\\anaconda3\\lib\\site-packages\\transformers\\utils\\import_utils.py:1066\u001b[0m, in \u001b[0;36m_LazyModule.__getattr__\u001b[1;34m(self, name)\u001b[0m\n\u001b[0;32m   1064\u001b[0m     value \u001b[38;5;241m=\u001b[39m \u001b[38;5;28mself\u001b[39m\u001b[38;5;241m.\u001b[39m_get_module(name)\n\u001b[0;32m   1065\u001b[0m \u001b[38;5;28;01melif\u001b[39;00m name \u001b[38;5;129;01min\u001b[39;00m \u001b[38;5;28mself\u001b[39m\u001b[38;5;241m.\u001b[39m_class_to_module\u001b[38;5;241m.\u001b[39mkeys():\n\u001b[1;32m-> 1066\u001b[0m     module \u001b[38;5;241m=\u001b[39m \u001b[38;5;28;43mself\u001b[39;49m\u001b[38;5;241;43m.\u001b[39;49m\u001b[43m_get_module\u001b[49m\u001b[43m(\u001b[49m\u001b[38;5;28;43mself\u001b[39;49m\u001b[38;5;241;43m.\u001b[39;49m\u001b[43m_class_to_module\u001b[49m\u001b[43m[\u001b[49m\u001b[43mname\u001b[49m\u001b[43m]\u001b[49m\u001b[43m)\u001b[49m\n\u001b[0;32m   1067\u001b[0m     value \u001b[38;5;241m=\u001b[39m \u001b[38;5;28mgetattr\u001b[39m(module, name)\n\u001b[0;32m   1068\u001b[0m \u001b[38;5;28;01melse\u001b[39;00m:\n",
      "File \u001b[1;32mC:\\ProgramData\\anaconda3\\lib\\site-packages\\transformers\\utils\\import_utils.py:1078\u001b[0m, in \u001b[0;36m_LazyModule._get_module\u001b[1;34m(self, module_name)\u001b[0m\n\u001b[0;32m   1076\u001b[0m     \u001b[38;5;28;01mreturn\u001b[39;00m importlib\u001b[38;5;241m.\u001b[39mimport_module(\u001b[38;5;124m\"\u001b[39m\u001b[38;5;124m.\u001b[39m\u001b[38;5;124m\"\u001b[39m \u001b[38;5;241m+\u001b[39m module_name, \u001b[38;5;28mself\u001b[39m\u001b[38;5;241m.\u001b[39m\u001b[38;5;18m__name__\u001b[39m)\n\u001b[0;32m   1077\u001b[0m \u001b[38;5;28;01mexcept\u001b[39;00m \u001b[38;5;167;01mException\u001b[39;00m \u001b[38;5;28;01mas\u001b[39;00m e:\n\u001b[1;32m-> 1078\u001b[0m     \u001b[38;5;28;01mraise\u001b[39;00m \u001b[38;5;167;01mRuntimeError\u001b[39;00m(\n\u001b[0;32m   1079\u001b[0m         \u001b[38;5;124mf\u001b[39m\u001b[38;5;124m\"\u001b[39m\u001b[38;5;124mFailed to import \u001b[39m\u001b[38;5;132;01m{\u001b[39;00m\u001b[38;5;28mself\u001b[39m\u001b[38;5;241m.\u001b[39m\u001b[38;5;18m__name__\u001b[39m\u001b[38;5;132;01m}\u001b[39;00m\u001b[38;5;124m.\u001b[39m\u001b[38;5;132;01m{\u001b[39;00mmodule_name\u001b[38;5;132;01m}\u001b[39;00m\u001b[38;5;124m because of the following error (look up to see its\u001b[39m\u001b[38;5;124m\"\u001b[39m\n\u001b[0;32m   1080\u001b[0m         \u001b[38;5;124mf\u001b[39m\u001b[38;5;124m\"\u001b[39m\u001b[38;5;124m traceback):\u001b[39m\u001b[38;5;130;01m\\n\u001b[39;00m\u001b[38;5;132;01m{\u001b[39;00me\u001b[38;5;132;01m}\u001b[39;00m\u001b[38;5;124m\"\u001b[39m\n\u001b[0;32m   1081\u001b[0m     ) \u001b[38;5;28;01mfrom\u001b[39;00m \u001b[38;5;21;01me\u001b[39;00m\n",
      "\u001b[1;31mRuntimeError\u001b[0m: Failed to import transformers.models.bart.modeling_tf_bart because of the following error (look up to see its traceback):\nNo module named 'keras.saving.hdf5_format'"
     ]
    }
   ],
   "source": [
    "# Test (no Train)\n",
    "predicted = bart(corpus=df_test[\"text\"], max_len=y_len)"
   ]
  },
  {
   "cell_type": "code",
   "execution_count": null,
   "id": "ab7aad62-a1e1-4230-b638-7b38d0da79a6",
   "metadata": {},
   "outputs": [],
   "source": [
    "# Evaluate\n",
    "evaluate_summary(df_test[\"y\"][1], predicted[1])"
   ]
  },
  {
   "cell_type": "code",
   "execution_count": null,
   "id": "c39f7e79-83fe-456b-86ab-0e000d748cb2",
   "metadata": {},
   "outputs": [],
   "source": [
    "# Compare y_test and predicted\n",
    "match = display_string_matching(df_test[\"label\"][1], predicted[1], both=True, sentences=False, \n",
    "                                titles=[\"Real Summary\", \"Predicted Summary\"])\n",
    "\n",
    "from IPython.core.display import display, HTML\n",
    "display(HTML(match))"
   ]
  },
  {
   "cell_type": "code",
   "execution_count": null,
   "id": "2f8b5770-a94d-44fb-b96c-5c8d6bf8a39d",
   "metadata": {},
   "outputs": [],
   "source": [
    "# Explainability\n",
    "match = display_string_matching(df_test[\"text\"][1], predicted[1], both=True, sentences=True, \n",
    "                                titles=[\"Full Text\", \"Predicted Summary\"])\n",
    "\n",
    "from IPython.core.display import display, HTML\n",
    "display(HTML(match))"
   ]
  },
  {
   "cell_type": "code",
   "execution_count": null,
   "id": "c1119844-5493-4491-9a88-868bffbe17ab",
   "metadata": {},
   "outputs": [],
   "source": []
  }
 ],
 "metadata": {
  "kernelspec": {
   "display_name": "Python 3 (ipykernel)",
   "language": "python",
   "name": "python3"
  },
  "language_info": {
   "codemirror_mode": {
    "name": "ipython",
    "version": 3
   },
   "file_extension": ".py",
   "mimetype": "text/x-python",
   "name": "python",
   "nbconvert_exporter": "python",
   "pygments_lexer": "ipython3",
   "version": "3.10.9"
  }
 },
 "nbformat": 4,
 "nbformat_minor": 5
}

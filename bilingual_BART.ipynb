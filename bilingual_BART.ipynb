{
 "cells": [
  {
   "cell_type": "code",
   "execution_count": 1,
   "metadata": {},
   "outputs": [],
   "source": [
    "# !pip install transformers\n",
    "# !pip install datasets\n",
    "# !pip install sentencepiece\n",
    "# !pip install rouge_score\n",
    "# !pip install wandb"
   ]
  },
  {
   "cell_type": "code",
   "execution_count": 2,
   "metadata": {},
   "outputs": [
    {
     "name": "stderr",
     "output_type": "stream",
     "text": [
      "2023-07-11 21:27:58.377026: I tensorflow/core/platform/cpu_feature_guard.cc:182] This TensorFlow binary is optimized to use available CPU instructions in performance-critical operations.\n",
      "To enable the following instructions: AVX2 FMA, in other operations, rebuild TensorFlow with the appropriate compiler flags.\n"
     ]
    }
   ],
   "source": [
    "import torch\n",
    "import numpy as np\n",
    "import datasets\n",
    "\n",
    "from transformers import (\n",
    "    AutoModelForSeq2SeqLM,\n",
    "    AutoTokenizer,\n",
    "    Seq2SeqTrainingArguments,\n",
    "    Seq2SeqTrainer,\n",
    "    DataCollatorForSeq2Seq,\n",
    ")\n",
    "\n",
    "from tabulate import tabulate\n",
    "import nltk\n",
    "from datetime import datetime"
   ]
  },
  {
   "cell_type": "code",
   "execution_count": 3,
   "metadata": {},
   "outputs": [
    {
     "name": "stderr",
     "output_type": "stream",
     "text": [
      "\u001b[34m\u001b[1mwandb\u001b[0m: Currently logged in as: \u001b[33mrmk\u001b[0m. Use \u001b[1m`wandb login --relogin`\u001b[0m to force relogin\n"
     ]
    }
   ],
   "source": [
    "WANDB_INTEGRATION = True\n",
    "if WANDB_INTEGRATION:\n",
    "    import wandb\n",
    "    wandb.login()"
   ]
  },
  {
   "cell_type": "code",
   "execution_count": 4,
   "metadata": {},
   "outputs": [],
   "source": [
    "language = 'english'\n",
    "# language = 'french'"
   ]
  },
  {
   "cell_type": "code",
   "execution_count": 5,
   "metadata": {},
   "outputs": [],
   "source": [
    "model_name = \"sshleifer/distilbart-xsum-12-3\"\n",
    "if language == 'french':\n",
    "    model_name = \"moussaKam/barthez-orangesum-abstract\"\n",
    "\n",
    "model = AutoModelForSeq2SeqLM.from_pretrained(model_name)\n",
    "tokenizer = AutoTokenizer.from_pretrained(model_name)\n",
    "\n",
    "# print(model.config)\n",
    "\n",
    "encoder_max_length = 256\n",
    "decoder_max_length = 64"
   ]
  },
  {
   "cell_type": "code",
   "execution_count": 6,
   "metadata": {},
   "outputs": [
    {
     "name": "stderr",
     "output_type": "stream",
     "text": [
      "Found cached dataset wiki_lingua (/Users/rajithamuthukrishnan/.cache/huggingface/datasets/wiki_lingua/english/1.1.1/6fdaa844abe35a3a2a79e5a1cf9e546f32ad234d59756bcf9cfeadff6c89240e)\n"
     ]
    },
    {
     "name": "stdout",
     "output_type": "stream",
     "text": [
      "section_name\n",
      "['Finding Other Transportation', 'Designating a Driver', 'Staying Safe']\n",
      "document\n",
      "['make sure that the area is a safe place, especially if you plan on walking home at night.  It’s always a good idea to practice the buddy system.  Have a friend meet up and walk with you. Research the bus, train, or streetcar routes available in your area to find safe and affordable travel to your destination.  Make sure you check the schedule for your outgoing and return travel.  Some public transportation will cease to run late at night.  Be sure if you take public transportation to the venue that you will also be able to get home late at night. Check the routes.  Even if some public transit is still running late at night, the routing may change.  Some may run express past many of the stops, or not travel all the way to the ends.  Be sure that your stop will still be available when you need it for your return trip. If you are taking public transit in a vulnerable state after drinking, it is always a good idea to travel in groups.  Having friends available is a good way to stay safe and make sure that you reach your destination. This is more expensive option than a taxi or ride share service, but could be a fun and fancy way to stay safe and ensure that you will have a ride home. Plan this service in advance with a scheduled time to pick you up from your home and the venue.  You want to be sure that the service will still be available when you need to get home. This may be easy in a large city, but taxis may be less frequent in smaller towns.  This is especially true late at night, so this is a less reliable option than scheduling a ride in advance.  Have a friend accompany you and help you flag a cab to make sure you are able to get one. Set up a plan to call a friend when you get home to make sure that you made it safely to your destination. If there are no taxis readily available call a local service to send a car to pick you up. You can share a ride with your friends, or other people using the app at the same moment.  If you are in a vulnerable state it is best to share the ride with your friends to make sure you get home safe. You can request the car to yourself rather than sharing rides with strangers. If you travel home on your own or are the last of your group to be dropped off, make plans to call a friend when you get home so they know you made it safely to your destination. There may be a designated driver service in your area which can chauffeur your group.  Make reservations with them in advance and keep their contact information handy while you are drinking.', \"Designating a driver is a very popular tactic to avoid drinking and driving.  It is important to plan in advance, because your brain function will slow down and your decision making skills will be impaired once you start drinking. Decide before you begin drinking that you will not drive.  Figure out who will be getting you home before you leave. Make sure this person is responsible and keep them in your sight while you are drinking.  Have their contact information handy in case you can’t find them when you are ready to leave.  Choose a friend who doesn’t drink alcohol.  You likely have someone in your friend group who doesn’t drink.  This person is the most likely to remain sober. Decide on one person who will remain sober.  You can take turns within your friend group, alternating who will be the designated driver on each occasion.  Be sure that the designated driver actually remains sober.  The person who has drank the least is still not sober. If you don’t have your car with you, you can guarantee that you won’t make the choice to drive it home. If you are drinking at your home.  Give your keys to a responsible friend to ensure that you don't choose to drive somewhere after you have been drinking. It may be tempting to stay longer or leave with someone else.  Stick to the plan you made in advance and only leave with your sober, designated driver.  Keep the phone number of your driver handy in case you can't find them when you are ready to leave. If your designated driver drinks alcohol, find alternate transportation to get home.\", 'If you have been drinking at all you are at least on the spectrum of drunkenness.  You could be showing signs of impairment and slower brain function including lack of motor skills and slower reaction time, leading to the inability to operate a motor vehicle.  Some of these signs could be:  Poor balance or stumbling.  Difficulty speaking clearly and slurred words.  Abnormal behavior leading to you doing things you wouldn’t normally do if you were sober. As soon as you notice that you are showing signs of impairment, give your keys to a friend, the host or the bartender to ensure that you won’t drive until you are sober.  Make sure to only give them your car key.  Hold onto your house keys. If your friend, the host or the bartender are advising you not to drive, you are likely too drunk.  Listen to their advice and acknowledge that they are trying to help you. Bystander intervention is common when it comes to drinking and driving.  Many people will be willing to step in, take your keys and help you get home safely.  If no one if offering to help, you may need to ask.  Take a ride from a sober friend.  It is best to get in a car with someone you trust when you are in this vulnerable state. Allow the host or bartender to call a cab or car service to take you home. If you are having a difficult time finding a safe way to get home, find a place to stay which does not involve you driving.  Ask the host of the party if there is a place you can sleep.  Give them your keys and ask that they keep them in a safe place until the morning. Stay with a friend if they live nearby and are on their way home. Find a hotel within walking distance.  Call them to book a room, or have a friend help you secure one.  Ask the friend if they will walk you to the hotel and make sure you get checked in safely. There are people in your life who care about you and want to be sure that you are safe.  It may seem scary or embarrassing to call your parents or your siblings if you are too drunk to drive, but they will be glad you did.  Your safety is the most important. You may need your phone to call someone for a ride or get help from a friend.  Be sure to charge your phone before you leave the house.  It is also a good idea to bring a charger with you in case your battery dies before the end of the night or you end up staying where you are and need to get home the next morning. You may also want to invest in a portable battery charger for your phone should there not be a power outlet available.  Make sure it is fully charged before you leave your house.  Keep it handy in your pocket or your bag throughout the night.']\n",
      "summary\n",
      "['Walk to the venue where you will be drinking if it is close enough. Take public transit. Show up in style by hiring a limo or black car service. Flag a taxi cab for a convenient option to get where you’re going. Request a rideshare service like Uber or Lyft using an app on your phone. Reserve a designated driver service.', 'Plan in advance. Assign a designated driver. Leave your car at home. Leave the venue with your designated driver.', 'Pay attention to your body. Give up your keys. Listen to other people. Accept help. Stay where you are. Have an emergency back-up plan. Make sure that your phone is charged.']\n"
     ]
    }
   ],
   "source": [
    "data = datasets.load_dataset(\"wiki_lingua\", name=language, split=\"train[:2000]\")\n",
    "\n",
    "for k, v in data['article'][0].items():\n",
    "    print(k)\n",
    "    print(v)"
   ]
  },
  {
   "cell_type": "code",
   "execution_count": 7,
   "metadata": {},
   "outputs": [
    {
     "name": "stderr",
     "output_type": "stream",
     "text": [
      "Loading cached processed dataset at /Users/rajithamuthukrishnan/.cache/huggingface/datasets/wiki_lingua/english/1.1.1/6fdaa844abe35a3a2a79e5a1cf9e546f32ad234d59756bcf9cfeadff6c89240e/cache-f8911c97f741fef9.arrow\n",
      "Loading cached processed dataset at /Users/rajithamuthukrishnan/.cache/huggingface/datasets/wiki_lingua/english/1.1.1/6fdaa844abe35a3a2a79e5a1cf9e546f32ad234d59756bcf9cfeadff6c89240e/cache-6b52a63406610f48.arrow\n"
     ]
    }
   ],
   "source": [
    "def flatten(example):\n",
    "    return {\n",
    "        'document': example['article']['document'],\n",
    "        'summary': example['article']['summary'],\n",
    "    }\n",
    "\n",
    "def list2samples(example):\n",
    "    documents = []\n",
    "    summaries = []\n",
    "    for sample in zip(example['document'], example['summary']):\n",
    "        if len(sample[0]) > 0:\n",
    "            documents += sample[0]\n",
    "            summaries += sample[1]\n",
    "    return {'document': documents, 'summary': summaries}\n",
    "\n",
    "dataset = data.map(flatten, remove_columns=['article', 'url'])\n",
    "dataset = dataset.map(list2samples, batched=True)\n",
    "\n",
    "train_data_txt, validation_data_txt = dataset.train_test_split(test_size=0.1).values()"
   ]
  },
  {
   "cell_type": "code",
   "execution_count": 8,
   "metadata": {},
   "outputs": [
    {
     "data": {
      "application/vnd.jupyter.widget-view+json": {
       "model_id": "0edf1559950d46eebb78afc02a66bbda",
       "version_major": 2,
       "version_minor": 0
      },
      "text/plain": [
       "Map:   0%|          | 0/4351 [00:00<?, ? examples/s]"
      ]
     },
     "metadata": {},
     "output_type": "display_data"
    },
    {
     "data": {
      "application/vnd.jupyter.widget-view+json": {
       "model_id": "7664905d095b45dab7a4103ac14f9d7e",
       "version_major": 2,
       "version_minor": 0
      },
      "text/plain": [
       "Map:   0%|          | 0/484 [00:00<?, ? examples/s]"
      ]
     },
     "metadata": {},
     "output_type": "display_data"
    }
   ],
   "source": [
    "def batch_tokenize_preprocess(batch, tokenizer, max_source_length, max_target_length):\n",
    "    source, target = batch['document'], batch['summary']\n",
    "    source_tokenized = tokenizer(\n",
    "        source, padding = 'max_length', truncation=True, max_length=max_source_length\n",
    "    )\n",
    "    target_tokenized = tokenizer(\n",
    "        target, padding = 'max_length', truncation=True, max_length=max_target_length\n",
    "    )\n",
    "    \n",
    "    batch = {k: v for k,v in source_tokenized.items()}\n",
    "#     Ignore padding in the loss\n",
    "    batch['labels'] = [\n",
    "        [-100 if token == tokenizer.pad_token_id else token for token in l]\n",
    "        for l in target_tokenized['input_ids']\n",
    "    ]\n",
    "    return batch\n",
    "\n",
    "train_data = train_data_txt.map(\n",
    "    lambda batch: batch_tokenize_preprocess(\n",
    "        batch, tokenizer, encoder_max_length, decoder_max_length\n",
    "    ),\n",
    "    batched=True,\n",
    "    remove_columns=train_data_txt.column_names,\n",
    ")\n",
    "\n",
    "validation_data = validation_data_txt.map(\n",
    "    lambda batch: batch_tokenize_preprocess(\n",
    "        batch, tokenizer, encoder_max_length, decoder_max_length\n",
    "    ),\n",
    "    batched=True,\n",
    "    remove_columns=validation_data_txt.column_names,\n",
    ")"
   ]
  },
  {
   "cell_type": "code",
   "execution_count": 15,
   "metadata": {},
   "outputs": [],
   "source": [
    "nltk.download('punkt', quiet=True)\n",
    "\n",
    "metric = datasets.load_metric(\"rouge\")\n",
    "\n",
    "\n",
    "def postprocess_text(preds, labels):\n",
    "    preds = [pred.strip() for pred in preds]\n",
    "    labels = [label.strip() for label in labels]\n",
    "#     rougeLSum expects newline after each sentence\n",
    "    preds = [\"\\n\".join(nltk.sent_tokenize(pred)) for pred in preds]\n",
    "    labels = [\"\\n\".join(nltk.sent_tokenize(label)) for label in labels]\n",
    "    return preds, labels\n",
    "\n",
    "\n",
    "def compute_metrics(eval_preds):\n",
    "    preds, labels = eval_preds\n",
    "    if isinstance(preds, tuple):\n",
    "        preds = preds[0]\n",
    "    decoded_preds = tokenizer.batch_decode(preds, skip_special_tokens=True)\n",
    "    # Replace -100 in the labels as we can't decode them.\n",
    "    labels = np.where(labels != -100, labels, tokenizer.pad_token_id)\n",
    "    decoded_labels = tokenizer.batch_decode(labels, skip_special_tokens=True)\n",
    "    decoded_preds, decoded_labels = postprocess_text(decoded_preds, decoded_labels)\n",
    "    result = metric.compute(\n",
    "        predictions=decoded_preds, references=decoded_labels, use_stemmer=True\n",
    "    )\n",
    "    # Extract a few results from ROUGE\n",
    "    result = {key: value.mid.fmeasure * 100 for key, value in result.items()}\n",
    "    prediction_lens = [\n",
    "        np.count_nonzero(pred != tokenizer.pad_token_id) for pred in preds\n",
    "    ]\n",
    "    result[\"gen_len\"] = np.mean(prediction_lens)\n",
    "    result = {k: round(v, 4) for k, v in result.items()}\n",
    "    return result"
   ]
  },
  {
   "cell_type": "code",
   "execution_count": 16,
   "metadata": {},
   "outputs": [],
   "source": [
    "training_args = Seq2SeqTrainingArguments(\n",
    "    output_dir=\"results\",\n",
    "    num_train_epochs=1,  # demo\n",
    "    do_train=True,\n",
    "    do_eval=True,\n",
    "    per_device_train_batch_size=4,  # demo\n",
    "    per_device_eval_batch_size=4,\n",
    "    # learning_rate=3e-05,\n",
    "    warmup_steps=500,\n",
    "    weight_decay=0.1,\n",
    "    label_smoothing_factor=0.1,\n",
    "    predict_with_generate=True,\n",
    "    logging_dir=\"logs\",\n",
    "    logging_steps=50,\n",
    "    save_total_limit=3,\n",
    ")\n",
    "\n",
    "data_collator = DataCollatorForSeq2Seq(tokenizer, model=model)\n",
    "\n",
    "trainer = Seq2SeqTrainer(\n",
    "    model=model,\n",
    "    args=training_args,\n",
    "    data_collator=data_collator,\n",
    "    train_dataset=train_data,\n",
    "    eval_dataset=validation_data,\n",
    "    tokenizer=tokenizer,\n",
    "    compute_metrics=compute_metrics,\n",
    ")"
   ]
  },
  {
   "cell_type": "code",
   "execution_count": 17,
   "metadata": {},
   "outputs": [
    {
     "data": {
      "text/html": [
       "Finishing last run (ID:dh78hh8h) before initializing another..."
      ],
      "text/plain": [
       "<IPython.core.display.HTML object>"
      ]
     },
     "metadata": {},
     "output_type": "display_data"
    },
    {
     "data": {
      "text/html": [
       "Waiting for W&B process to finish... <strong style=\"color:green\">(success).</strong>"
      ],
      "text/plain": [
       "<IPython.core.display.HTML object>"
      ]
     },
     "metadata": {},
     "output_type": "display_data"
    },
    {
     "data": {
      "application/vnd.jupyter.widget-view+json": {
       "model_id": "3d03a42b8d444e46bb5fcf2a1e421fcf",
       "version_major": 2,
       "version_minor": 0
      },
      "text/plain": [
       "VBox(children=(Label(value='0.001 MB of 0.001 MB uploaded (0.000 MB deduped)\\r'), FloatProgress(value=1.0, max…"
      ]
     },
     "metadata": {},
     "output_type": "display_data"
    },
    {
     "data": {
      "text/html": [
       " View run <strong style=\"color:#cdcd00\">crisp-darkness-2</strong> at: <a href='https://wandb.ai/rmk/text_summarizer_bart/runs/dh78hh8h' target=\"_blank\">https://wandb.ai/rmk/text_summarizer_bart/runs/dh78hh8h</a><br/>Synced 6 W&B file(s), 0 media file(s), 2 artifact file(s) and 0 other file(s)"
      ],
      "text/plain": [
       "<IPython.core.display.HTML object>"
      ]
     },
     "metadata": {},
     "output_type": "display_data"
    },
    {
     "data": {
      "text/html": [
       "Find logs at: <code>./wandb/run-20230711_212811-dh78hh8h/logs</code>"
      ],
      "text/plain": [
       "<IPython.core.display.HTML object>"
      ]
     },
     "metadata": {},
     "output_type": "display_data"
    },
    {
     "data": {
      "text/html": [
       "Successfully finished last run (ID:dh78hh8h). Initializing new run:<br/>"
      ],
      "text/plain": [
       "<IPython.core.display.HTML object>"
      ]
     },
     "metadata": {},
     "output_type": "display_data"
    },
    {
     "name": "stdout",
     "output_type": "stream",
     "text": [
      "huggingface/tokenizers: The current process just got forked, after parallelism has already been used. Disabling parallelism to avoid deadlocks...\n",
      "To disable this warning, you can either:\n",
      "\t- Avoid using `tokenizers` before the fork if possible\n",
      "\t- Explicitly set the environment variable TOKENIZERS_PARALLELISM=(true | false)\n"
     ]
    },
    {
     "data": {
      "application/vnd.jupyter.widget-view+json": {
       "model_id": "b6e02ca226184f2c92bbcf3d447c6a71",
       "version_major": 2,
       "version_minor": 0
      },
      "text/plain": [
       "VBox(children=(Label(value='Waiting for wandb.init()...\\r'), FloatProgress(value=0.016674224633334234, max=1.0…"
      ]
     },
     "metadata": {},
     "output_type": "display_data"
    },
    {
     "data": {
      "text/html": [
       "Tracking run with wandb version 0.15.5"
      ],
      "text/plain": [
       "<IPython.core.display.HTML object>"
      ]
     },
     "metadata": {},
     "output_type": "display_data"
    },
    {
     "data": {
      "text/html": [
       "Run data is saved locally in <code>/Users/rajithamuthukrishnan/Desktop/git/Text_Summarizer_App/wandb/run-20230711_215457-30z1vyxc</code>"
      ],
      "text/plain": [
       "<IPython.core.display.HTML object>"
      ]
     },
     "metadata": {},
     "output_type": "display_data"
    },
    {
     "data": {
      "text/html": [
       "Syncing run <strong><a href='https://wandb.ai/rmk/text_summarizer_bart/runs/30z1vyxc' target=\"_blank\">pretty-cloud-3</a></strong> to <a href='https://wandb.ai/rmk/text_summarizer_bart' target=\"_blank\">Weights & Biases</a> (<a href='https://wandb.me/run' target=\"_blank\">docs</a>)<br/>"
      ],
      "text/plain": [
       "<IPython.core.display.HTML object>"
      ]
     },
     "metadata": {},
     "output_type": "display_data"
    },
    {
     "data": {
      "text/html": [
       " View project at <a href='https://wandb.ai/rmk/text_summarizer_bart' target=\"_blank\">https://wandb.ai/rmk/text_summarizer_bart</a>"
      ],
      "text/plain": [
       "<IPython.core.display.HTML object>"
      ]
     },
     "metadata": {},
     "output_type": "display_data"
    },
    {
     "data": {
      "text/html": [
       " View run at <a href='https://wandb.ai/rmk/text_summarizer_bart/runs/30z1vyxc' target=\"_blank\">https://wandb.ai/rmk/text_summarizer_bart/runs/30z1vyxc</a>"
      ],
      "text/plain": [
       "<IPython.core.display.HTML object>"
      ]
     },
     "metadata": {},
     "output_type": "display_data"
    }
   ],
   "source": [
    "if WANDB_INTEGRATION:\n",
    "    wandb_run = wandb.init(\n",
    "        project=\"text_summarizer_bart\",\n",
    "        config={\n",
    "            \"per_device_train_batch_size\": training_args.per_device_train_batch_size,\n",
    "            \"learning_rate\": training_args.learning_rate,\n",
    "            \"dataset\": \"wiki_lingua \" + language,\n",
    "        },\n",
    "    )\n",
    "\n",
    "    now = datetime.now()\n",
    "    current_time = now.strftime(\"%H%M%S\")\n",
    "    wandb_run.name = \"run_\" + language + \"_\" + current_time"
   ]
  },
  {
   "cell_type": "code",
   "execution_count": 22,
   "metadata": {},
   "outputs": [
    {
     "data": {
      "text/plain": [
       "{'eval_loss': 6.732614994049072,\n",
       " 'eval_rouge1': 20.2427,\n",
       " 'eval_rouge2': 4.8186,\n",
       " 'eval_rougeL': 15.2817,\n",
       " 'eval_rougeLsum': 18.0839,\n",
       " 'eval_gen_len': 23.7045}"
      ]
     },
     "execution_count": 22,
     "metadata": {},
     "output_type": "execute_result"
    }
   ],
   "source": [
    "trainer.evaluate()"
   ]
  },
  {
   "cell_type": "code",
   "execution_count": 25,
   "metadata": {},
   "outputs": [],
   "source": [
    "def generate_summary(test_samples, model):\n",
    "    inputs = tokenizer(\n",
    "        test_samples['document'],\n",
    "        padding='max_length',\n",
    "        truncation=True,\n",
    "        max_length=encoder_max_length,\n",
    "        return_tensors='pt',\n",
    "    )\n",
    "    input_ids = inputs.input_ids.to(model.device)\n",
    "    attention_mask = inputs.attention_mask.to(model.device)\n",
    "    outputs = model.generate(input_ids, attention_mask=attention_mask)\n",
    "    output_str = tokenizer.batch_decode(outputs, skip_special_tokens=True)\n",
    "    return outputs, output_str"
   ]
  },
  {
   "cell_type": "code",
   "execution_count": 26,
   "metadata": {},
   "outputs": [
    {
     "name": "stderr",
     "output_type": "stream",
     "text": [
      "/Users/rajithamuthukrishnan/opt/anaconda3/envs/text_summarizer_dev/lib/python3.8/site-packages/transformers/generation/utils.py:1369: UserWarning: Using `max_length`'s default (62) to control the generation length. This behaviour is deprecated and will be removed from the config in v5 of Transformers -- we recommend using `max_new_tokens` to control the maximum length of the generation.\n",
      "  warnings.warn(\n"
     ]
    }
   ],
   "source": [
    "model_before_tuning = AutoModelForSeq2SeqLM.from_pretrained(model_name)\n",
    "test_samples = validation_data_txt.select(range(16))\n",
    "summaries_before_tuning = generate_summary(test_samples, model_before_tuning)[1]\n",
    "# summaries_after_tuning = generate_summary(test_samples, model)[1]"
   ]
  },
  {
   "cell_type": "code",
   "execution_count": 27,
   "metadata": {},
   "outputs": [
    {
     "name": "stdout",
     "output_type": "stream",
     "text": [
      "  Id  Summary before\n",
      "----  ---------------------------------------------------------------------------------------------------------------------------------------------------\n",
      "   0  Here's a guide to the commands shown in the Windows Start menu.\n",
      "   1  If you want to buy a parcel of land for your home, you will need to have the land surveyed.\n",
      "   2  In our series of letters from African journalists, film-maker and columnist Farai Sevenzo looks at some of the country ham slices.\n",
      "   3  Transposing chords to a song to make it easier to play on another instrument, such as guitar.\n",
      "   4  If your alpaca is not broken into a halter, you will have to do it yourself.\n",
      "   5  If you're looking for a friend to post on Facebook, what do you do?\n",
      "   6  If you are writing an event report for an agency, you might want to do it pretty quickly.\n",
      "   7  In our series of letters from African journalists, film-maker and columnist Farai Sevenzo offers his tips for belly dancing.\n",
      "   8  If you want to play on Xbox LIVE, you need to be on the machine or on the back of your controller.\n",
      "   9  If you are looking for a way to create a mantra for God, you may want to consider the meaning of God.\n",
      "  10  If you're looking for a way to ping a website then you're not alone.\n",
      "  11  If you are running away from a bear, you might want to think again.\n",
      "  12  In order to evaluate the level of brake fluid in the clutch master cylinder, it is important that your vehicle is level.\n",
      "  13  As part of our series of letters from African journalists, film-maker and columnist Farai Sevenzo looks at the challenges faced by autistic people.\n",
      "  14  If you want to avoid looking like you are wearing a costume, select vintage pieces that never go out of style.\n",
      "  15  If you want to be a neurologist, you have to send in your medical materials.\n",
      "\n",
      "Target summaries:\n",
      "\n",
      "  Id  Target summary\n",
      "----  --------------------------------------------------------------------------------------------------------------------------------------------------------------------------------------------------------------------------------------------------------------------------------------------------------------------------\n",
      "   0  Click the Windows Start menu . Type cmd. Right-click the Command Prompt  and click Run as administrator. Type cd/ and press ↵ Enter. Type cd followed by the file location and press ↵ Enter. Type del followed by the file name and press ↵ Enter.\n",
      "   1  Have the land professionally surveyed. Examine the relevant zoning laws. Evaluate any improvements on the land. Look for various ways to produce asset value on land. Compile your information.\n",
      "   2  Trim the skin off of the slice. Pat the slice dry with a paper towel. Heat a pan over medium heat. Add the ham slice to the pan. Fry the ham, turning it often, until both sides are browned. Trim the fat off of the ham before serving it.\n",
      "   3  Find your target key. Figure out the interval. Use a chromatic circle. Play the transposed song.\n",
      "   4  Unless you plan on fighting your alpaca every time you need to take it someplace, like the vet, you need to purchase a good halter and know how to properly fit it on your alpaca. Get a sturdy feeding trough/container. Consider what tools you'll need. Be prepared for emergencies.\n",
      "   5  Open Facebook. Tap the search bar. Type in your friend's name. Tap your friend's name. Select your friend's profile. Scroll down and tap the \"Write Post\" text box. Type in your happy birthday wish. Tap Post.\n",
      "   6  Be timely with the report. Proofread your event report.\n",
      "   7  Stand with your feet flat and your arms at your sides. Do a “hip lift” or “shimmy. Repeat the hip lift on both sides at a faster pace. Practice a “hip drop. Do a “belly roll. Try a “chest lift.\n",
      "   8  Turn on your Xbox console. Make sure you have a Gold LIVE subscription. Check your Xbox's Internet connection. Insert a game that supports multiplayer. Select a multiplayer option and press A. Set up your game. Wait for your game to start.\n",
      "   9  Learn about different mantra types. Consider a chant using the name of God. Work on pronunciation. Use a rosary or a japa mala. Try a Sanskrit mantra. Use other mantras.\n",
      "  10  Open Start . Type command prompt into Start. Click  Command Prompt. Type ping website into Command Prompt. Press ↵ Enter. Note the website's IP address.\n",
      "  11  Stand tall, even if the bear charges you. Sidestep advances if they're closing in within a relatively short distance (<8 feet). Only play dead with brown bears or grizzly bears after they've made contact. Fight back against black bears if they start to attack and make contact. Know how and when to use bear spray.\n",
      "  12  Park your vehicle on level ground. Open the hood. Locate the clutch master cylinder. Check the fluid level.\n",
      "  13  Seek professional help. Understand that every autistic person is different. Consider medications. Consult with your health care provider to ensure your loved one is receiving the proper treatments for their individual needs. Consider comorbid conditions.\n",
      "  14  Choose pieces that reflect your personal style. Look for vintage pieces in classic styles. Focus on finding vintage items made of high-quality materials. Look for trendy vintage items. Learn the basics of vintage styles.\n",
      "  15  Apply for a medical license. Gain certification with your country's neurology board. Look for job openings at your location of interest. Continue researching if you enjoy it. Network with other neurologists to build your experience.\n",
      "\n",
      "Source documents:\n",
      "\n",
      "  Id  Document\n",
      "----  ------------------------------------------------------------------------------------------------------------------------------------------------------------------------------------------------------------------------------------------------------------------------------------------------------------------------------------------------------------------------------------------------------------------------------------------------------------------------------------------------------------------------------------------------------------------------------------------------------------------------------------------------------------------------------------------------------------------------------------------------------------------------------------------------------------------------------------------------------------------------------------------------------------------------------------------------------------------------------------------------------------------------------------------------------------------------------------------------------------------------------------------------------------------------------------------------------------------------------------------------------------------------------------------------------------------------------------------------------------------------------------------------------------------------------------------------------------------------------------------------------------------------------------------------------------------------------------------------------------------------------------------------------------------------------------------------------------------------------------------------------------------------------------------------------------------------------------------------------------------------------------------------------------------------------------------------------------------------------------------------------------------------------------------------------------------------------------------------------------------------------------------------------------------------------------------------------------------------------------------------------------------------------------------------------------------------------------------------------------------------------------------------------------------------------------------------------------------------------------------------------------------------------------------------------------------------------------------------------------------------------------------------------------------------------------------------------------------------------------------------------------------------------------------------------------------------------------------------------------------------------------------------------------------------------------------------------------------------------------------------------------------------------------------------------------------------------------------------------------------------------------------------------------------------------------------------------------------------------------------------------------------------------------------------------------------------------------------------------------------------------------------------------------------------------------------------------------------------------------------------------------------------------------------------------------------------------------------------------------------------------------------------------------------------------------------------------------------------------------------------------------------------------------------------------------------------------------------------------------------------------------------------------------------------------------------------------------------------------------------------------------------------------------------------------------------------------------------------------------------------------------------------------------------------------------------------------------------------------------------------------------------------------------------------------------------------------------------------------------------------------------------------------------------------------------------------------------------------------------------------\n",
      "   0  It's the icon with the windows logo.  By default, it's in the lower-left corner. This displays the Command Prompt in the Windows Start menu.  | This opens the Command Prompt with administrative privileges. You must be signed in to an Administrative account on Windows to run the Command Prompt as an administrator. This command returns you to your root directory in the Command Prompt. If you to need to change drives in the command prompt, simply type the drive letter followed by a colon (i.e. \"D:\") This navigates to the folder the file is located in.  Separate each folder with a \"\\\".  For example \"cd users\\username\\documents\\\". To see a list of files and folders in a directory, type \"dir\" and press Enter. For example, \"del testfile.txt\".  This deletes the file. If the file name has spaces in it (i.e. File Name.txt\") place the file name in quotations (i.e. del \"File Name.txt\")\n",
      "   1  After you have chosen the right parcel of land for your purposes, you will need to have the land surveyed to determine its dimensions and property lines. A survey will also reveal any easements for access to the property, which refers to neighbor's rights to travel through the property. Right-of-way issues are often critical to open plots of land because they are important for the purposes of improving or using that land over time and may affect your ability to get a loan. For more information on having land surveyed, see how to get a land survey. In some cases you may be able to simply ask for a recent land survey from the seller. Go to municipal offices and look through zoning records to get a better idea of how a desired plot of land could be legally used. If your intended use for the land is not allowed by zoning laws, you may be able to apply to seek a zoning change from the municipal government. You may also wish to secure any flood or hazard warnings relevant to the land. A potential lender may ask for these documents. Improvements are any existing or planned man-made additions to the plot of land. Adding improvements to the land or detailing planned improvements for the land may help you secure financing.  It may be easier to secure financing if you plan to build structures on the land. These could be residential or commercial structures, depending on your needs and zoning laws. In order to secure financing more easily, have an architect draw up plans for whatever kind of structure you want to build. You may also wish to contact a general contractor for an estimated cost of building the structure. Note that 100% financing packages are rarely available for raw land, even those expected to be developed. Lenders will expect you to have a stake in the financing as well. Whether a piece of land is close to water and sewer utilities may affect its value. Other types of access may also make a huge difference in valuation, and may affect a financing deal. If there are no utilities already installed on the land, contact the utility companies that service the area for an installation estimate.  Even if there is no building on the land, existing wells, trails, roads or other items may increase the perceived value of the parcel. Any perceived improvement in value will make financing easier to get. Perhaps the most common one for unimproved land is timber value. Sellers and buyers often identify timber value for a piece of forested land in land calculations. This value may also influence a financing deal by convincing the lender that you will be able to profit from the land. Grazing or farming rights may be another way to earn money on a piece of land. You'll need to put the information about the land and your plans for it together in a sort of loan application, sometimes known as a land portfolio. The more information you have, the better \"story\" you will be able to tell the lender and the higher your chances of securing financing. Your land portfolio should also include information about your creditworthiness (like a credit report or score).\n",
      "   2  Place the ham slice down on a cutting board. Use a sharp knife and small cuts to trim the skin away from the edges of the ham. Leave the fat behind; you will use this to help you cook the ham. Remove saltiness from country ham by soaking it in water for 6 to 8 hours. You can also simmer it in 1 to 2 cups (240 to 475 milliliters) of hot water for 1 to 2 minutes. Place a paper towel on top of the ham, and gently pat it to soak up any excess moisture. Flip the ham slice over, and pat the back with another paper towel. Place a pan large enough to fit a ham slice on the stove, and turn the heat up to medium-high. Wait for the pan to get hot enough to sizzle a drop of water. If your ham slice is lean and has little to no fat on it, add some oil to the pan before you start to heat it. You can add more slices of ham if the pan is large enough; make sure that there is space between each ham slice, otherwise they will not cook evenly. leave about 1⁄2 to 1 inch (1.3 to 2.5 cm) of space between each slice. How long this takes depends on how thick the ham was cut. Use the fat on the ham as a guide: the ham is ready when the fat turns clear. Do not overcook the ham, otherwise it will turn out too dry and tough. Slide the ham off of the pan and onto a cutting board. Use a fork to hold the ham steady as you trim the fat off with a knife. Serve the ham while it is still hot.\n",
      "   3  You can transpose chords to a song without necessarily being able to read sheet music. This method is ideal if you want to make a song easier to play on another instrument, such as a guitar. This method also works if you want to move a song up or down to better accommodate a vocalist. Look at the original key the song is in. The number of half-steps between the original key and the key you want the song to be in is your interval. You'll need to move all of the chords in the song that same interval up or down. For example, if your original song is in C and you want to transpose it to E, you'll need to move every chord in the song up four half-steps. The chromatic circle shows the relationship between all the chords. Move along the circle the appropriate number of half-steps clockwise if you're moving the chords up, or counter-clockwise if you're moving the chords down. You also could use a transposition table, which tells you exactly what chords to use. You may be able to get one at a music store, or you can search for one online. Once you've finished moving all the chords up or down to transpose the song, play it through once on your piano. If you're ultimately going to play the song on a guitar or another instrument, you may want to play it through on that instrument as well to make sure it sounds okay. Even though it will be in a different key, the song should sound essentially the same. If anything sounds off, you may have transposed a chord incorrectly.\n",
      "   4  If your alpaca is not broken into a halter, you will either have to train it yourself or hire a trainer to do it for you. An alpaca halter should fit snugly, with the nose band high on the bridge near the alpaca's eyes, not low or loose, as is the case with horses or cows in halter. When not out at pasture, cured grass hay is the most recommended source of feed for alpacas. This is referred to as \"dry lot\" feeding. For dry lot care, it is best to feed in  some kind of feeder. Feeding directly on the ground will promote intestinal parasites.   Contrary to popular belief, alpacas do not digest grains properly, leading to ulcers and possibly even death. Nutritional supplements (grain and forage mixtures) are very useful in a breeding program. Different blends are made to facilitate growth, lactation, and fiber nutrients.   Free choice minerals should also be avail to help complement the nutrients that are lacking in your soil. Alpacas will develop a pecking order so having enough feeding stations will assure everyone has free access to eat. Some will share feeders other will not.  Plan on about 3 lbs of dry grass hay per adult alpaca. (about 2% of body weight) Having separate feeding stations will keep them from feeling over-crowded and as if their food supply is threatened by the presence of the other alpacas in its group.  Further, alpacas are smart, and can tip a regular feeding trough/container over easily. Another idea that works well is the installation of 8' or 10' vinyl gutters affixed to the fences, gates and/or sides of your buildings such that you can grain them with only one layer of grain or pellets, reducing the chance for the animals to gobble up too much food too quickly and choke.  Shallow, sturdy rubber feeding bowls work well, too. You might find it helpful to have a farm utility vehicle and/or small to mid-sized, reliable farm tractor with a loader or skid-steer. Get a garden tractor and/or brush hog for mowing around the farm but also in your alpacas' grazing fields. You will need a set of \"paca-poop-pick-up\" tools, such as rakes, shovels and scoopers, along with a cart or wheelbarrow or two to haul the muck away to the compost heap with. An alpaca First Aid Kit is a must for routine care but also in case of emergencies. Ask your vet what you should put in this but here are a few ideas:  Large bandages Splints Aspirator Bulb Bottle of Saline Solution Natural Tears Tube of Terramycin ointment (for the eyes) Alcohol for sterilization First-Aid Gauze and Tape, Pads and Cotton A chute, tie-down system or other alpaca-specific device designed for restraining your alpaca, if necessary A thermometer A stethoscope Vaseline or other lubricant Sterile gloves (latex or other synthetic) Probiotics or all natural, plain yogurt A llama tape or scale to track the animals' weights and body condition Novalsan or Betadine Corid (for treatment of coccidia when it arises) Ivomec, Ivermectin or other similar worming treatment/medication Safeguard liquid or paste (or Panacur, some brand of Fenbendazole) Vitamin B Complex L.A. 200 broad spectrum antibiotic (found in most farm supply stores)\n",
      "   5  Tap the Facebook app icon, which resembles a white \"f\" on a dark-blue background. This will open the Facebook News Feed if you're logged in. If you aren't logged in, enter your email address (or phone number) and password, then tap Log In. It's at the top of the screen. Doing so will prompt a drop-down list of matching names below the search bar. It should be near the top of the search bar. This will take you to a list of profiles. Tap the profile that belongs to your friend to open their profile page. It's below the row of options below their profile picture. Doing so opens a post window. Simply enter the phrase or message that you want your friend to see. It's in the top-right corner of the window.\n",
      "   6  Try to write and publish the report pretty quickly after the event. Make sure you schedule it on your calendar to make sure that happens.  Some people suggest issuing an event report within 30 days, but others say you should do it within a few days.  Whatever the deadline is, make sure that you meet it. Perhaps you are writing the event report for an agency that has been commissioned by a specific client. Pay attention to all requests. The bottom line is that your audience will expect both a thorough and a timely report. So take the time to be thorough and get it right, but don’t wait so long it seems dated. Make sure that your event report contains proper grammar and avoid spelling, punctuation, and other proofing errors.  Make sure that your answers contain depth. A good rule of thumb is the writing technique “show, don’t tell.” That means it’s a good idea to provide some specific examples to back up more general points that are made in the report. Don’t forget your audience, and make sure that your writing sounds formal and professional. An event report is not a casual document; it’s an essential document to determine whether the event was worth it, so it needs to be authoritative.\n",
      "   7  Make sure your hips are level and your legs are right under your hip bones. Bend your knees slightly and keep your chest lifted. This is the standard starting position for any belly dancing move. You should also tuck your lower abdominal muscles and engage your core. This will help to strengthen your abdominals and make your belly dancing moves more fluid. ” Bend both knees. Then, straighten your right leg. This should raise your right hip, lifting it upward. The hip bone should shoot up toward your rib cage. Keep your heels flat on the ground as you do the lift. Do not move your upper body at all. This is a hip lift on the right side. Bring your right hip back down to center and try the same movement on the other side. Straighten your left leg and raise your left hip upward. This is a hip lift on the left side. Skip the break in the middle between sides. It should look like your hips are lifting on the right and then on the left smoothly and fluidly. At full speed, your hips will shimmy from side to side at a quick pace. This is known as the “shimmy” move. ” Start with your right foot flat on the ground. Place your left foot a few inches in front of you with the heel lifted. Bend both knees. Keep your chest up and your arms out. Then, straighten your left leg, lifting your left hip. Release your left hip down so it falls to the level of your right hip. Keep your right leg bent as you do this. This is a hip drop. Repeat these movements at a faster pace. Over time, they should look fluid with no pauses or breaks. ” Begin with your feet flat on the ground and your upper body lifted, with your arms relaxed at your sides. Bend your knees. Contract just your upper abdominal muscles, drawing them into your spine. Then, contract just your lower abdominal muscles, drawing them inward. Push out your upper abs and then push out your lower abs. This is a belly roll. Repeat these movements in sequence. Try to make the contracting in and the pushing out of your abdominal muscles fluid, with no pauses or breaks. ” Assume the basic belly dance position with your chest up and your arms out at your sides. Keep your knees together and your feet flat on the floor. Lift your rib cage all the way up. Let your shoulder blades slide down your back as you do this. Then, release your rib cage back down. This is a chest lift. Repeat these movements at a faster pace, lifting your rib cage all the way up and then back down. Contract the abdominal muscles below your chest bones as you lift up and then release them as you come back down.\n",
      "   8  You can do so by holding down the \"Guide\" button in the middle of a connected Xbox 360 or One controller, or you can press the \"On\" button on the front of the console. Your controller must be on as well for you to play on Xbox LIVE. If you don't, purchase a Gold subscription before continuing. You cannot play on Xbox LIVE without paying for a Gold subscription. To view your subscription type:   Xbox One - Open the sidebar by flicking the analog stick left, select Settings, select All Settings, and select Subscriptions.  Xbox 360 - Press the Guide button, scroll right to Settings, select Account management, and scroll to the Memberships section. If you're using a traditional Xbox 360, you will need to either have an Ethernet cable running from the back of your console to the back of your Internet router, or you can purchase a plug-in wireless adapter from Amazon. To check the status of your console's Internet connection:   Xbox One - Open the sidebar by flicking the analog stick left, select Settings, select All Settings, select Network, and select Network Settings to see your Xbox One's current network or select an available one.  Xbox 360 - Press the Guide button, scroll right to Settings, select System Settings, select Network Settings, and look for a network. If you don't see one, select Wired or a network name and press A to connect. Game disks go in the slot on the front of the console; on an Xbox 360, you must first press the \"Eject\" button on the () side of the disk tray. Your game should start up as soon as your console recognizes the disk, but if not, press A while the game's icon is selected. Notable examples of multiplayer-friendly games include the Call of Duty series, the Halo series, and Overwatch. The way in which you'll access multiplayer in different games will widely vary; however, you typically begin the process by selecting a \"Multiplayer\" or \"Online\" option on the main menu of the game. You may first need to sign into the game server or select your profile. Again, this process will vary, so be sure to read the various menu items to see what you'd like to do. For example, in a game of Call of Duty, you'll typically select a game category and type, at which point you'll have the option of customizing your character while the game loads. This process can often take awhile, especially if you're playing a game with drop-in multiplayer. Be patient, and you'll be playing on Xbox LIVE in no time!\n",
      "   9  Think about your intention, and what you want to get out of practicing your mantra. Consider questions, such as, how do you conceive of God or the divine? You may want to deepen your spiritual connection or achieve a goal. The type of mantra you choose should reflect your purpose and how you relate to God. Many religions have a name for God that you can use to create a mantra with. Hebrew mystics, for example, chant the secret names Yahweh, Adonai and Elohim. Hindu yogis may use the names of Siva, Vishnu, Brahma or others. Some Christians sects chant or sing Jesus’s or Maria’s name.  Singing devotional songs or mantras could be truly a mystical and a mysterious experience. We sing devotional songs with deep feelings, and full faith, letting the transcendental beauty, and qualities represented within the words enter our souls. Singing words of mantras, prayers or devotional songs we become the transcendental vibration of the sound that we repeat, and we become pure love and joy. If you are not a native speaker of the language you will use for your mantra, then practice pronouncing the words prior to your mantra chanting session. That way you won’t let pronunciation issues distract you during your mantra practice. However, know that your pronunciation does not have to be perfect because what is in your heart matters most. A holy item, such as japa mala (a string of 108 wooden beads) or rosary beads (necklace in the Catholic Christian faith), can help focus your thoughts and add closure for each completed mantra. Each time a mantra is spoken, the speaker rubs a thumb across a japa mala bead, while Catholics repeat prayers holding a rosary. Do not let other people handle your holy item. It is for you alone. There are many Hindu or Sanskrit mantras that are often used for this purpose. The most well-known mantra is the use of the sound, OM. This sound represents the original vibration of the universe, and is often used at the start a mantra practice.  Om Namah Shivaya is a mantra about bowing to the the supreme deity of transformation, Lord Shiva, and the highest self. This mantra can help you obtain a higher spiritual connection and build self-confidence. The mantra, Lokah Samastah Sukhino Bhavantu, is one dedicated to the happiness and freedom for all beings. Saying this can help your thoughts, words and actions contribute, promote non-harm and assist you in being of service to the greater good. This chant: Shanti Mantra , Om Saha Naavavatu, Saha Nau Bhunaktu, Saha Veeryam Karava Vahai, Tejasvi Aavadheetamastu Maa Vidvishaavahai Om, is a mantra that translates to: May the Lord protect and bless us, may he nourish us, giving us strength to work together for the good of humanity, may our learning be brilliant and purposeful, may we never turn against one another. Om Gan Ganapatayei Namah is a mantra to Lord Ganesh, god of wisdom and success and destroyer of obstacles, for blessings and protection. The Hare Krishna mantra is meant to enhance consciousness, free one from the birth and death cycle and bring total self-fulfillment.  It goes: Hare Krishna, Hare Krishna, Krishna Krishna, Hare Hare, Hare Rama, Hare Rama, Rama Rama, Hare Hare. The mantra, Baba Nam Kevalam, is used by Anansa Marga, meaning of infinite love, filling you with happiness, peace and love. Om Mani Padme Hum is a popular Buddhist mantra that can lead one to enlightenment. For those of you more comfortable with a feminine deity, Om Shree Matre Namah, is a mantra to the Divine Mother. If you desire world peace, then Om Lokah Samastah Sukhino Bhavantu is a good mantra for wishing peace to all beings. You should always use a mantra that you are comfortable with and that will be meaningful to you. If you are not comfortable with Sanskrit or the Hindu language or gods, insert a familiar deity or choose another mantra that fits your spiritual beliefs. If English works better for you, then speak your mantra in English.  For example: the Lyrics of 'I love you Lord we sing and pray' are very inspiring. Try singing: 'You are my Mother you are my Father. You're the beginning, you are the center, you are beyond the end. You are the colors of the rainbow...' Om Christave Namah is a mantra to Jesus Christ and may be one you choose if you are more comfortable with the Judeo-Christian religion.\n",
      "  10  Click the Windows logo in the bottom-left corner of the screen. This will search your computer for the Command Prompt app. It's at the top of the Start window. Replace \"website\" with the website's address (e.g., \"facebook.com\"). You do not have to include the \"www.\" section of the website's address when doing this. Doing so runs your \"Ping\" command and starts displaying the website's IP address below your cursor. Next to the \"Reply from\" line of text, you'll see a set of numbers. This is the IP address of the website that you pinged. Keep in mind that you're most likely looking at the website's public IP address. You usually won't be able to see the website's private servers' IP address.\n",
      "  11  Running cues the bear to chase you, and it will always be fast enough to catch up. Do not be aggressive, but do not crouch down, play dead or otherwise show fear or vulnerability. If the bear charges you, muster all your courage and stay where you are: the charge is most likely a bluff, and if you stand your ground the bear will turn away. Bears and other 4 legged animals have a wider center of gravity, and hence can't make turns quite as sharp as you or me. Don't just run in circles however, but if engaged in an open area (plains or field), do not run directly away from the bear as they're generally faster. Move left and right where applicable to force the bear to change direction. Do not abuse the bear, however, as it drains vital energy. If the bear (other than a black bear) is attacking you in self-defense, you can put it at ease by playing dead and lying completely flat on the ground. Do so only after the bear makes contact with you or tries to do so. To play dead, lie flat on the ground protecting your vital parts with the ground, and your arms protecting your neck with your hands laced behind the neck. If you have a backpack on, keep it on to defend your back. Keep your legs together and do not struggle.  Once the bear leaves your immediate vicinity, wait 10-15 minutes before carefully looking to see if the bear is still around. A bear may look back and may return if it sees you moving. Remember -- if you believe this is a predatory encounter, as the bear has approached you or been following, you'll need to change course and fight back. Remember, this is not if they charge alone -- this may be a bluff. If a bear charges and makes contact with you, however, you need to fight back with whatever you can. Focus on kicks and strikes to the face and muzzle in particular to scare it off. The odds may seem against you in a fight, but bears generally do not see humans as prey, and a bear that makes a predatory attacks is usually immature, starving, or wounded, and may easily be scared away if you hit it. If you believe any attack is predatory, such as an attack at night or if you've been \"stalked\" throughout the hike, fight back immediately -- this is usually a bear desperate for food. If you get charged by bear, stand your ground and unclip the safety clip and put a cloud of spray in between you and the bear. Squint and hold your breath. Good aim doesn't matter so much as a layer of protection, giving you plenty of time to escape. Begin spraying when the bears is 10-20 yards away for the greatest effectiveness.  Keep spraying until the bear changes direction. If the cloud doesn't work, hit it right in the face. You should practice quickly and easily getting your spray out of its holster before hiking.\n",
      "  12  In order to evaluate the level of brake fluid in the clutch master cylinder, it is important that your vehicle is level.  Parking on a hill or at an angle can cause the level in the master cylinder reservoir to read incorrectly.  You may want to allow the vehicle to cool for an hour or two to prevent burning yourself when checking the fluid levels. Parking at an angle may make it appear that you have more or less brake fluid than you actually do. Find the hood release on the driver’s left hand side.  It is usually located near the door frame with a small image of a car with its hood open.  Pull the release back toward you to release the hood.  Approach the vehicle from the front and pull the hood up slightly.  It will catch on the safety release.  Slip your hand beneath the hood and find the lever to release it.  In some vehicles, the safety release is located in the grill rather than under the hood. If you are unable to locate the release, check in your vehicle’s owner’s manual for guidance. With the hood propped open, locate the clutch master cylinder. It is usually located on the firewall of the vehicle, just below the windshield.  It will have a plastic reservoir that will be either clear or semi-clear with lines indicating the fluid level inside.  If you are having difficulty locating the clutch master cylinder, refer to your vehicle’s service manual for assistance. The clutch master cylinder is usually on the driver’s side of the vehicle. Inspect the reservoir attached to the clutch master cylinder.  There will be at least two lines indicating a minimum acceptable level of brake fluid and a maximum.  If the brake fluid does not reach the “full” line, you should add fluid.  If it is close or below the minimum line, you should inspect the master cylinder and clutch system for leaks.  If the brake fluid is well below the minimum line, there may be a leak somewhere in the system. Leaks not only allow brake fluid to escape, but allow pockets of air to enter which can cause further issue when operating your clutch.\n",
      "  13  Health care providers rely on behavioral symptoms and/or written questionnaires during routine checkups. There are screening tests that can also be done during these visits. If your doctor does not regularly screen for autism, ask for her to do so. There is no one-size-fits-all approach for autism. Tailor treatment to the individual's needs. Stop asking \"What do autistic people need?” and instead ask “What does this specific person need?”  For example, one autistic person may have excellent self-care skills and above-average school performance, but need sensory integration therapy and social skills training. Another might be highly social but unable to care for herself and in need of counseling for depression. While there is no cure for autism, some of its challenging aspects and comorbid conditions can be helped through medication.   Anxiety Elevated energy level Self-injurious behavior Inability to concentrate Depression Seizures Severe outburst of anger or aggression  Many autistic people also experience comorbid disabilities/health conditions, such as anxiety disorders, epilepsy, digestive issues, depression, ADHD, oppositional defiant disorder, and more. These are all treatable.\n",
      "  14  Before selecting vintage pieces to add to your wardrobe, think about the style elements that you look for in clothing and accessories. While dressing in vintage clothing lets you expand your fashion horizons and experiment with different styles, you still want to look and feel like you. If you don’t feel comfortable and confident in your vintage finds, likely, you won’t end up wearing them.   Working out your fashion style will help you select vintage pieces that you can easily incorporate into your wardrobe. When shopping for vintage, consider what you already own and how well each vintage piece will fit into your current wardrobe. Try looking at different styles on Pinterest and fashion blogs to help you identify what style elements match your aesthetic. This can give you ideas about what to look for when you are shopping for vintage pieces. If you want to avoid looking like you are wearing a costume, select vintage pieces in classic cuts that never go out of style. These pieces come in timeless shapes and colors that you can seamlessly incorporate into your wardrobe for years to come. For example, while fashion trends come and go, a classic vintage black shift dress, a statement-making vintage leopard swing coat, or a silk floral or neutral-shade tie-neck blouse will always be in style. When selecting vintage pieces, first check the tag to see what materials were used to make the item. Higher quality materials, such as cotton, silk, and wool, can withstand several cleanings and hold up well over time. While synthetic materials are fine for a statement-making piece or for special occasions, avoid synthetic materials if you plan on incorporating your vintage finds into your daily wardrobe.  If you find a vintage piece that no longer has a tag, there are a few tricks you can use to assess the quality. The easiest way is to feel the fabric by rubbing it gently between your pointer finger and thumb. If the material feels sturdy yet soft to the touch, it is likely of higher quality.  You can also compare the material with items that do have a tag to determine if they are the same material. Check carefully for stains, tears, or missing parts, as these can indicate that an item is of lower quality. Read fashion magazines, look at fashion bloggers’ sites, and/or peruse your favorite online retailers’ inventories to assess what styles are trending. When selecting vintage pieces, look for items with the same or similar characteristics. Most contemporary pieces are inspired by styles from the past, so what better way to show your fashion savviness than with a trendy item that is vintage and, therefore, totally unique. Each decade has particular styles that are characteristic of that era. Learning to identify some of the styles attributed to the various eras of vintage can make it easier to select items that will generally look good together. While some experimentation is necessary (and fun!), learning the basics of vintage styles can give you some general rules of thumb to follow so that you can create vintage looks that are both unique and cohesive.  The 1910s, for example, brought about the trench coat and lace-up boots. This era generally mixes well with the wide brimmed hats of the 1930s or rocker tees from the 1990s. To prevent clashing, however, avoid mixing 1910s vintage pieces with a 1920s beaded flapper dress or a 1980s neon tunic.  Some decades, such as the 1940s and 50s, produced many now-classic styles in neutral tones. These styles, including 1940s cigarette pants and 1950s leather jackets, tend to mix well with each other, as well as many styles from various other eras. A 1950s leather jacket, for example, can look great with 1960s bell bottom jeans or a 1970s flowy, floral dress.\n",
      "  15  Medical licensing requirements can vary depending on your state or country. Most require your CV, educational history, professional references, and completion of specified clinical hours. Medical licensing can take up to 60 days to process, so send in your materials as soon as they are completed. Check your state or country's requirements to determine where you will need to send your materials. Some require in-person applications while others allow applicants to mail in their materials. Most countries have a board of neurology that offers certification to medical school graduates. Requirements for certification often involve graduation from medical school, a valid medical license, passing grades in a neurology and subspecialty exam, and completion of set clinical hours. Neurologists can work in a variety of settings. You may feel most comfortable in a hospital, private practice, university, or research facility. Search for and apply to jobs in your intended location until you find the right fit. Research which locations in your state or country have many open neurology positions. Usually, larger cities will have more positions than suburban cities or towns. Even clinical neurologists can continue researching and publishing articles. This, however, is not required. Only continue academic research if you enjoyed it as a medical school student.  Neurology is one of the fastest-developing medical fields, which can make it a particularly stimulating career for research. Although some research opportunities may allow you to work with patients, most will be less hands-on. Avoid researching careers if you enjoy building relationships with your patients. Attend neurology conferences around the country to get in touch with others in the field and keep up-to-date on neurology developments. Stay in touch with current and former colleagues to build a reputation as a competent neurologist and pleasant work partner.\n"
     ]
    }
   ],
   "source": [
    "print(\n",
    "    tabulate(\n",
    "        zip(\n",
    "            range(len(summaries_before_tuning)),\n",
    "            summaries_before_tuning,\n",
    "        ),\n",
    "        headers=[\"Id\", \"Summary before\"],\n",
    "    )\n",
    ")\n",
    "print(\"\\nTarget summaries:\\n\")\n",
    "print(\n",
    "    tabulate(list(enumerate(test_samples[\"summary\"])), headers=[\"Id\", \"Target summary\"])\n",
    ")\n",
    "print(\"\\nSource documents:\\n\")\n",
    "print(tabulate(list(enumerate(test_samples[\"document\"])), headers=[\"Id\", \"Document\"]))"
   ]
  },
  {
   "cell_type": "code",
   "execution_count": 28,
   "metadata": {},
   "outputs": [
    {
     "data": {
      "text/html": [
       "\n",
       "    <div>\n",
       "      \n",
       "      <progress value='1088' max='1088' style='width:300px; height:20px; vertical-align: middle;'></progress>\n",
       "      [1088/1088 3:26:40, Epoch 1/1]\n",
       "    </div>\n",
       "    <table border=\"1\" class=\"dataframe\">\n",
       "  <thead>\n",
       " <tr style=\"text-align: left;\">\n",
       "      <th>Step</th>\n",
       "      <th>Training Loss</th>\n",
       "    </tr>\n",
       "  </thead>\n",
       "  <tbody>\n",
       "    <tr>\n",
       "      <td>50</td>\n",
       "      <td>6.385600</td>\n",
       "    </tr>\n",
       "    <tr>\n",
       "      <td>100</td>\n",
       "      <td>5.510700</td>\n",
       "    </tr>\n",
       "    <tr>\n",
       "      <td>150</td>\n",
       "      <td>5.137000</td>\n",
       "    </tr>\n",
       "    <tr>\n",
       "      <td>200</td>\n",
       "      <td>4.909600</td>\n",
       "    </tr>\n",
       "    <tr>\n",
       "      <td>250</td>\n",
       "      <td>4.795900</td>\n",
       "    </tr>\n",
       "    <tr>\n",
       "      <td>300</td>\n",
       "      <td>4.800400</td>\n",
       "    </tr>\n",
       "    <tr>\n",
       "      <td>350</td>\n",
       "      <td>4.705700</td>\n",
       "    </tr>\n",
       "    <tr>\n",
       "      <td>400</td>\n",
       "      <td>4.702100</td>\n",
       "    </tr>\n",
       "    <tr>\n",
       "      <td>450</td>\n",
       "      <td>4.578900</td>\n",
       "    </tr>\n",
       "    <tr>\n",
       "      <td>500</td>\n",
       "      <td>4.621500</td>\n",
       "    </tr>\n",
       "    <tr>\n",
       "      <td>550</td>\n",
       "      <td>4.649600</td>\n",
       "    </tr>\n",
       "    <tr>\n",
       "      <td>600</td>\n",
       "      <td>4.654200</td>\n",
       "    </tr>\n",
       "    <tr>\n",
       "      <td>650</td>\n",
       "      <td>4.540800</td>\n",
       "    </tr>\n",
       "    <tr>\n",
       "      <td>700</td>\n",
       "      <td>4.499600</td>\n",
       "    </tr>\n",
       "    <tr>\n",
       "      <td>750</td>\n",
       "      <td>4.503600</td>\n",
       "    </tr>\n",
       "    <tr>\n",
       "      <td>800</td>\n",
       "      <td>4.463200</td>\n",
       "    </tr>\n",
       "    <tr>\n",
       "      <td>850</td>\n",
       "      <td>4.409200</td>\n",
       "    </tr>\n",
       "    <tr>\n",
       "      <td>900</td>\n",
       "      <td>4.338800</td>\n",
       "    </tr>\n",
       "    <tr>\n",
       "      <td>950</td>\n",
       "      <td>4.441600</td>\n",
       "    </tr>\n",
       "    <tr>\n",
       "      <td>1000</td>\n",
       "      <td>4.350600</td>\n",
       "    </tr>\n",
       "    <tr>\n",
       "      <td>1050</td>\n",
       "      <td>4.312400</td>\n",
       "    </tr>\n",
       "  </tbody>\n",
       "</table><p>"
      ],
      "text/plain": [
       "<IPython.core.display.HTML object>"
      ]
     },
     "metadata": {},
     "output_type": "display_data"
    },
    {
     "data": {
      "text/plain": [
       "TrainOutput(global_step=1088, training_loss=4.712767306496115, metrics={'train_runtime': 12412.3614, 'train_samples_per_second': 0.351, 'train_steps_per_second': 0.088, 'total_flos': 1354407936000000.0, 'train_loss': 4.712767306496115, 'epoch': 1.0})"
      ]
     },
     "execution_count": 28,
     "metadata": {},
     "output_type": "execute_result"
    }
   ],
   "source": [
    "# %%wandb\n",
    "trainer.train()"
   ]
  },
  {
   "cell_type": "code",
   "execution_count": 29,
   "metadata": {},
   "outputs": [
    {
     "data": {
      "text/html": [
       "\n",
       "    <div>\n",
       "      \n",
       "      <progress value='121' max='121' style='width:300px; height:20px; vertical-align: middle;'></progress>\n",
       "      [121/121 25:49]\n",
       "    </div>\n",
       "    "
      ],
      "text/plain": [
       "<IPython.core.display.HTML object>"
      ]
     },
     "metadata": {},
     "output_type": "display_data"
    },
    {
     "data": {
      "text/plain": [
       "{'eval_loss': 4.219376564025879,\n",
       " 'eval_rouge1': 31.0247,\n",
       " 'eval_rouge2': 11.9114,\n",
       " 'eval_rougeL': 25.3217,\n",
       " 'eval_rougeLsum': 29.7556,\n",
       " 'eval_gen_len': 22.6488,\n",
       " 'eval_runtime': 1566.0746,\n",
       " 'eval_samples_per_second': 0.309,\n",
       " 'eval_steps_per_second': 0.077,\n",
       " 'epoch': 1.0}"
      ]
     },
     "execution_count": 29,
     "metadata": {},
     "output_type": "execute_result"
    }
   ],
   "source": [
    "trainer.evaluate()"
   ]
  },
  {
   "cell_type": "code",
   "execution_count": 30,
   "metadata": {},
   "outputs": [
    {
     "data": {
      "text/html": [
       "Waiting for W&B process to finish... <strong style=\"color:green\">(success).</strong>"
      ],
      "text/plain": [
       "<IPython.core.display.HTML object>"
      ]
     },
     "metadata": {},
     "output_type": "display_data"
    },
    {
     "data": {
      "application/vnd.jupyter.widget-view+json": {
       "model_id": "6ce6f783fd0642d3be13912c3ffde7ba",
       "version_major": 2,
       "version_minor": 0
      },
      "text/plain": [
       "VBox(children=(Label(value='0.001 MB of 0.001 MB uploaded (0.000 MB deduped)\\r'), FloatProgress(value=1.0, max…"
      ]
     },
     "metadata": {},
     "output_type": "display_data"
    },
    {
     "data": {
      "text/html": [
       "<style>\n",
       "    table.wandb td:nth-child(1) { padding: 0 10px; text-align: left ; width: auto;} td:nth-child(2) {text-align: left ; width: 100%}\n",
       "    .wandb-row { display: flex; flex-direction: row; flex-wrap: wrap; justify-content: flex-start; width: 100% }\n",
       "    .wandb-col { display: flex; flex-direction: column; flex-basis: 100%; flex: 1; padding: 10px; }\n",
       "    </style>\n",
       "<div class=\"wandb-row\"><div class=\"wandb-col\"><h3>Run history:</h3><br/><table class=\"wandb\"><tr><td>eval/gen_len</td><td>██▁</td></tr><tr><td>eval/loss</td><td>██▁</td></tr><tr><td>eval/rouge1</td><td>▁▁█</td></tr><tr><td>eval/rouge2</td><td>▁▁█</td></tr><tr><td>eval/rougeL</td><td>▁▁█</td></tr><tr><td>eval/rougeLsum</td><td>▁▁█</td></tr><tr><td>eval/runtime</td><td>▁▃█</td></tr><tr><td>eval/samples_per_second</td><td>█▆▁</td></tr><tr><td>eval/steps_per_second</td><td>█▆▁</td></tr><tr><td>train/epoch</td><td>▁▁▂▂▂▃▃▃▄▄▄▅▅▅▅▆▆▆▇▇▇███</td></tr><tr><td>train/global_step</td><td>▁▁▁▂▂▂▃▃▃▄▄▄▅▅▅▆▆▆▆▇▇▇███</td></tr><tr><td>train/learning_rate</td><td>▁▂▃▄▄▅▆▇▇█▇▇▆▅▅▄▄▃▂▂▁</td></tr><tr><td>train/loss</td><td>█▅▄▃▃▃▂▂▂▂▂▂▂▂▂▂▁▁▁▁▁</td></tr><tr><td>train/total_flos</td><td>▁</td></tr><tr><td>train/train_loss</td><td>▁</td></tr><tr><td>train/train_runtime</td><td>▁</td></tr><tr><td>train/train_samples_per_second</td><td>▁</td></tr><tr><td>train/train_steps_per_second</td><td>▁</td></tr></table><br/></div><div class=\"wandb-col\"><h3>Run summary:</h3><br/><table class=\"wandb\"><tr><td>eval/gen_len</td><td>22.6488</td></tr><tr><td>eval/loss</td><td>4.21938</td></tr><tr><td>eval/rouge1</td><td>31.0247</td></tr><tr><td>eval/rouge2</td><td>11.9114</td></tr><tr><td>eval/rougeL</td><td>25.3217</td></tr><tr><td>eval/rougeLsum</td><td>29.7556</td></tr><tr><td>eval/runtime</td><td>1566.0746</td></tr><tr><td>eval/samples_per_second</td><td>0.309</td></tr><tr><td>eval/steps_per_second</td><td>0.077</td></tr><tr><td>train/epoch</td><td>1.0</td></tr><tr><td>train/global_step</td><td>1088</td></tr><tr><td>train/learning_rate</td><td>0.0</td></tr><tr><td>train/loss</td><td>4.3124</td></tr><tr><td>train/total_flos</td><td>1354407936000000.0</td></tr><tr><td>train/train_loss</td><td>4.71277</td></tr><tr><td>train/train_runtime</td><td>12412.3614</td></tr><tr><td>train/train_samples_per_second</td><td>0.351</td></tr><tr><td>train/train_steps_per_second</td><td>0.088</td></tr></table><br/></div></div>"
      ],
      "text/plain": [
       "<IPython.core.display.HTML object>"
      ]
     },
     "metadata": {},
     "output_type": "display_data"
    },
    {
     "data": {
      "text/html": [
       " View run <strong style=\"color:#cdcd00\">pretty-cloud-3</strong> at: <a href='https://wandb.ai/rmk/text_summarizer_bart/runs/30z1vyxc' target=\"_blank\">https://wandb.ai/rmk/text_summarizer_bart/runs/30z1vyxc</a><br/>Synced 6 W&B file(s), 0 media file(s), 2 artifact file(s) and 0 other file(s)"
      ],
      "text/plain": [
       "<IPython.core.display.HTML object>"
      ]
     },
     "metadata": {},
     "output_type": "display_data"
    },
    {
     "data": {
      "text/html": [
       "Find logs at: <code>./wandb/run-20230711_215457-30z1vyxc/logs</code>"
      ],
      "text/plain": [
       "<IPython.core.display.HTML object>"
      ]
     },
     "metadata": {},
     "output_type": "display_data"
    }
   ],
   "source": [
    "if WANDB_INTEGRATION:\n",
    "    wandb_run.finish()"
   ]
  },
  {
   "cell_type": "code",
   "execution_count": 31,
   "metadata": {},
   "outputs": [
    {
     "name": "stderr",
     "output_type": "stream",
     "text": [
      "/Users/rajithamuthukrishnan/opt/anaconda3/envs/text_summarizer_dev/lib/python3.8/site-packages/transformers/generation/utils.py:1369: UserWarning: Using `max_length`'s default (62) to control the generation length. This behaviour is deprecated and will be removed from the config in v5 of Transformers -- we recommend using `max_new_tokens` to control the maximum length of the generation.\n",
      "  warnings.warn(\n"
     ]
    }
   ],
   "source": [
    "# def generate_summary(test_samples, model):\n",
    "#     inputs = tokenizer(\n",
    "#         test_samples['document'],\n",
    "#         padding='max_length',\n",
    "#         truncation=True,\n",
    "#         max_length=encoder_max_length,\n",
    "#         return_tensors='pt',\n",
    "#     )\n",
    "#     input_ids = inputs.input_ids.to(model.device)\n",
    "#     attention_mask = inputs.attention_mask.to(model.device)\n",
    "#     outputs = model.generate(input_ids, attention_mask=attention_mask)\n",
    "#     output_str = tokenizer.batch_decode(outputs, skip_special_tokens=True)\n",
    "#     return outputs, output_str\n",
    "\n",
    "# model_before_tuning = AutoModelForSeq2SeqLM.from_pretrained(model_name)\n",
    "# test_samples = validation_data_txt.select(range(16))\n",
    "# summaries_before_tuning = generate_summary(test_samples, model_before_tuning)[1]\n",
    "summaries_after_tuning = generate_summary(test_samples, model)[1]"
   ]
  },
  {
   "cell_type": "code",
   "execution_count": 33,
   "metadata": {},
   "outputs": [
    {
     "data": {
      "text/plain": [
       "['Open Windows. Click the Command Prompt menu. Press the drive letter. Press \"D:\" and press Enter. Press Enter.',\n",
       " 'Have the land surveyed to determine the dimensions of the plot of land.',\n",
       " 'Cut the ham slice from the edges of the ham. Heat the pan on medium-high.',\n",
       " 'Transpose chords up or down. Use a transposition table. Use the chromatic circle. Play all of the chords in the song.',\n",
       " 'Get an alpaca halter. Feed in a feeder. Feed your alpacas.',\n",
       " \"Open the Facebook app. Tap the search bar. Tap Facebook. Tap your friend's profile. Tap Post. Tap a post window. Tap Instagram.\",\n",
       " 'Set a deadline for the report. Write a report. Be thorough and professional.',\n",
       " 'Bend your knees and legs under your hip bones. Do the “shimmy” move.',\n",
       " 'Press the \"On\" button on your Xbox 360 or One controller. Check the status of your Xbox One\\'s Internet connection.',\n",
       " 'Think about your purpose. Use a name for God. Practice singing devotional songs.',\n",
       " 'Open the Start button. Click Command Prompt. Click the \"Ping from\" button. Select the website\\'s IP address.',\n",
       " 'Stand your ground if the bear charges you. Do not run directly away from the bear. Play dead and lying flat on the ground.',\n",
       " 'Park on a hill or at an angle. Check the clutch master cylinder. Find the hood release.',\n",
       " 'Ask your doctor if you need to check for autism. Ask your doctor what you need.',\n",
       " 'Think about your fashion style. Select vintage pieces in classic cuts that never go out of style.',\n",
       " \"Check your state or country's requirements. Apply for jobs in your intended location. Apply to a neurology job.\"]"
      ]
     },
     "execution_count": 33,
     "metadata": {},
     "output_type": "execute_result"
    }
   ],
   "source": [
    "summaries_after_tuning"
   ]
  },
  {
   "cell_type": "code",
   "execution_count": 32,
   "metadata": {},
   "outputs": [
    {
     "name": "stdout",
     "output_type": "stream",
     "text": [
      "  Id  Summary after                                                                                                                    Summary before\n",
      "----  -------------------------------------------------------------------------------------------------------------------------------  ---------------------------------------------------------------------------------------------------------------------------------------------------\n",
      "   0  Open Windows. Click the Command Prompt menu. Press the drive letter. Press \"D:\" and press Enter. Press Enter.                    Here's a guide to the commands shown in the Windows Start menu.\n",
      "   1  Have the land surveyed to determine the dimensions of the plot of land.                                                          If you want to buy a parcel of land for your home, you will need to have the land surveyed.\n",
      "   2  Cut the ham slice from the edges of the ham. Heat the pan on medium-high.                                                        In our series of letters from African journalists, film-maker and columnist Farai Sevenzo looks at some of the country ham slices.\n",
      "   3  Transpose chords up or down. Use a transposition table. Use the chromatic circle. Play all of the chords in the song.            Transposing chords to a song to make it easier to play on another instrument, such as guitar.\n",
      "   4  Get an alpaca halter. Feed in a feeder. Feed your alpacas.                                                                       If your alpaca is not broken into a halter, you will have to do it yourself.\n",
      "   5  Open the Facebook app. Tap the search bar. Tap Facebook. Tap your friend's profile. Tap Post. Tap a post window. Tap Instagram.  If you're looking for a friend to post on Facebook, what do you do?\n",
      "   6  Set a deadline for the report. Write a report. Be thorough and professional.                                                     If you are writing an event report for an agency, you might want to do it pretty quickly.\n",
      "   7  Bend your knees and legs under your hip bones. Do the “shimmy” move.                                                             In our series of letters from African journalists, film-maker and columnist Farai Sevenzo offers his tips for belly dancing.\n",
      "   8  Press the \"On\" button on your Xbox 360 or One controller. Check the status of your Xbox One's Internet connection.               If you want to play on Xbox LIVE, you need to be on the machine or on the back of your controller.\n",
      "   9  Think about your purpose. Use a name for God. Practice singing devotional songs.                                                 If you are looking for a way to create a mantra for God, you may want to consider the meaning of God.\n",
      "  10  Open the Start button. Click Command Prompt. Click the \"Ping from\" button. Select the website's IP address.                      If you're looking for a way to ping a website then you're not alone.\n",
      "  11  Stand your ground if the bear charges you. Do not run directly away from the bear. Play dead and lying flat on the ground.       If you are running away from a bear, you might want to think again.\n",
      "  12  Park on a hill or at an angle. Check the clutch master cylinder. Find the hood release.                                          In order to evaluate the level of brake fluid in the clutch master cylinder, it is important that your vehicle is level.\n",
      "  13  Ask your doctor if you need to check for autism. Ask your doctor what you need.                                                  As part of our series of letters from African journalists, film-maker and columnist Farai Sevenzo looks at the challenges faced by autistic people.\n",
      "  14  Think about your fashion style. Select vintage pieces in classic cuts that never go out of style.                                If you want to avoid looking like you are wearing a costume, select vintage pieces that never go out of style.\n",
      "  15  Check your state or country's requirements. Apply for jobs in your intended location. Apply to a neurology job.                  If you want to be a neurologist, you have to send in your medical materials.\n",
      "\n",
      "Target summaries:\n",
      "\n",
      "  Id  Target summary\n",
      "----  --------------------------------------------------------------------------------------------------------------------------------------------------------------------------------------------------------------------------------------------------------------------------------------------------------------------------\n",
      "   0  Click the Windows Start menu . Type cmd. Right-click the Command Prompt  and click Run as administrator. Type cd/ and press ↵ Enter. Type cd followed by the file location and press ↵ Enter. Type del followed by the file name and press ↵ Enter.\n",
      "   1  Have the land professionally surveyed. Examine the relevant zoning laws. Evaluate any improvements on the land. Look for various ways to produce asset value on land. Compile your information.\n",
      "   2  Trim the skin off of the slice. Pat the slice dry with a paper towel. Heat a pan over medium heat. Add the ham slice to the pan. Fry the ham, turning it often, until both sides are browned. Trim the fat off of the ham before serving it.\n",
      "   3  Find your target key. Figure out the interval. Use a chromatic circle. Play the transposed song.\n",
      "   4  Unless you plan on fighting your alpaca every time you need to take it someplace, like the vet, you need to purchase a good halter and know how to properly fit it on your alpaca. Get a sturdy feeding trough/container. Consider what tools you'll need. Be prepared for emergencies.\n",
      "   5  Open Facebook. Tap the search bar. Type in your friend's name. Tap your friend's name. Select your friend's profile. Scroll down and tap the \"Write Post\" text box. Type in your happy birthday wish. Tap Post.\n",
      "   6  Be timely with the report. Proofread your event report.\n",
      "   7  Stand with your feet flat and your arms at your sides. Do a “hip lift” or “shimmy. Repeat the hip lift on both sides at a faster pace. Practice a “hip drop. Do a “belly roll. Try a “chest lift.\n",
      "   8  Turn on your Xbox console. Make sure you have a Gold LIVE subscription. Check your Xbox's Internet connection. Insert a game that supports multiplayer. Select a multiplayer option and press A. Set up your game. Wait for your game to start.\n",
      "   9  Learn about different mantra types. Consider a chant using the name of God. Work on pronunciation. Use a rosary or a japa mala. Try a Sanskrit mantra. Use other mantras.\n",
      "  10  Open Start . Type command prompt into Start. Click  Command Prompt. Type ping website into Command Prompt. Press ↵ Enter. Note the website's IP address.\n",
      "  11  Stand tall, even if the bear charges you. Sidestep advances if they're closing in within a relatively short distance (<8 feet). Only play dead with brown bears or grizzly bears after they've made contact. Fight back against black bears if they start to attack and make contact. Know how and when to use bear spray.\n",
      "  12  Park your vehicle on level ground. Open the hood. Locate the clutch master cylinder. Check the fluid level.\n",
      "  13  Seek professional help. Understand that every autistic person is different. Consider medications. Consult with your health care provider to ensure your loved one is receiving the proper treatments for their individual needs. Consider comorbid conditions.\n",
      "  14  Choose pieces that reflect your personal style. Look for vintage pieces in classic styles. Focus on finding vintage items made of high-quality materials. Look for trendy vintage items. Learn the basics of vintage styles.\n",
      "  15  Apply for a medical license. Gain certification with your country's neurology board. Look for job openings at your location of interest. Continue researching if you enjoy it. Network with other neurologists to build your experience.\n",
      "\n",
      "Source documents:\n",
      "\n",
      "  Id  Document\n",
      "----  ------------------------------------------------------------------------------------------------------------------------------------------------------------------------------------------------------------------------------------------------------------------------------------------------------------------------------------------------------------------------------------------------------------------------------------------------------------------------------------------------------------------------------------------------------------------------------------------------------------------------------------------------------------------------------------------------------------------------------------------------------------------------------------------------------------------------------------------------------------------------------------------------------------------------------------------------------------------------------------------------------------------------------------------------------------------------------------------------------------------------------------------------------------------------------------------------------------------------------------------------------------------------------------------------------------------------------------------------------------------------------------------------------------------------------------------------------------------------------------------------------------------------------------------------------------------------------------------------------------------------------------------------------------------------------------------------------------------------------------------------------------------------------------------------------------------------------------------------------------------------------------------------------------------------------------------------------------------------------------------------------------------------------------------------------------------------------------------------------------------------------------------------------------------------------------------------------------------------------------------------------------------------------------------------------------------------------------------------------------------------------------------------------------------------------------------------------------------------------------------------------------------------------------------------------------------------------------------------------------------------------------------------------------------------------------------------------------------------------------------------------------------------------------------------------------------------------------------------------------------------------------------------------------------------------------------------------------------------------------------------------------------------------------------------------------------------------------------------------------------------------------------------------------------------------------------------------------------------------------------------------------------------------------------------------------------------------------------------------------------------------------------------------------------------------------------------------------------------------------------------------------------------------------------------------------------------------------------------------------------------------------------------------------------------------------------------------------------------------------------------------------------------------------------------------------------------------------------------------------------------------------------------------------------------------------------------------------------------------------------------------------------------------------------------------------------------------------------------------------------------------------------------------------------------------------------------------------------------------------------------------------------------------------------------------------------------------------------------------------------------------------------------------------------------------------------------------------------------------------------------\n",
      "   0  It's the icon with the windows logo.  By default, it's in the lower-left corner. This displays the Command Prompt in the Windows Start menu.  | This opens the Command Prompt with administrative privileges. You must be signed in to an Administrative account on Windows to run the Command Prompt as an administrator. This command returns you to your root directory in the Command Prompt. If you to need to change drives in the command prompt, simply type the drive letter followed by a colon (i.e. \"D:\") This navigates to the folder the file is located in.  Separate each folder with a \"\\\".  For example \"cd users\\username\\documents\\\". To see a list of files and folders in a directory, type \"dir\" and press Enter. For example, \"del testfile.txt\".  This deletes the file. If the file name has spaces in it (i.e. File Name.txt\") place the file name in quotations (i.e. del \"File Name.txt\")\n",
      "   1  After you have chosen the right parcel of land for your purposes, you will need to have the land surveyed to determine its dimensions and property lines. A survey will also reveal any easements for access to the property, which refers to neighbor's rights to travel through the property. Right-of-way issues are often critical to open plots of land because they are important for the purposes of improving or using that land over time and may affect your ability to get a loan. For more information on having land surveyed, see how to get a land survey. In some cases you may be able to simply ask for a recent land survey from the seller. Go to municipal offices and look through zoning records to get a better idea of how a desired plot of land could be legally used. If your intended use for the land is not allowed by zoning laws, you may be able to apply to seek a zoning change from the municipal government. You may also wish to secure any flood or hazard warnings relevant to the land. A potential lender may ask for these documents. Improvements are any existing or planned man-made additions to the plot of land. Adding improvements to the land or detailing planned improvements for the land may help you secure financing.  It may be easier to secure financing if you plan to build structures on the land. These could be residential or commercial structures, depending on your needs and zoning laws. In order to secure financing more easily, have an architect draw up plans for whatever kind of structure you want to build. You may also wish to contact a general contractor for an estimated cost of building the structure. Note that 100% financing packages are rarely available for raw land, even those expected to be developed. Lenders will expect you to have a stake in the financing as well. Whether a piece of land is close to water and sewer utilities may affect its value. Other types of access may also make a huge difference in valuation, and may affect a financing deal. If there are no utilities already installed on the land, contact the utility companies that service the area for an installation estimate.  Even if there is no building on the land, existing wells, trails, roads or other items may increase the perceived value of the parcel. Any perceived improvement in value will make financing easier to get. Perhaps the most common one for unimproved land is timber value. Sellers and buyers often identify timber value for a piece of forested land in land calculations. This value may also influence a financing deal by convincing the lender that you will be able to profit from the land. Grazing or farming rights may be another way to earn money on a piece of land. You'll need to put the information about the land and your plans for it together in a sort of loan application, sometimes known as a land portfolio. The more information you have, the better \"story\" you will be able to tell the lender and the higher your chances of securing financing. Your land portfolio should also include information about your creditworthiness (like a credit report or score).\n",
      "   2  Place the ham slice down on a cutting board. Use a sharp knife and small cuts to trim the skin away from the edges of the ham. Leave the fat behind; you will use this to help you cook the ham. Remove saltiness from country ham by soaking it in water for 6 to 8 hours. You can also simmer it in 1 to 2 cups (240 to 475 milliliters) of hot water for 1 to 2 minutes. Place a paper towel on top of the ham, and gently pat it to soak up any excess moisture. Flip the ham slice over, and pat the back with another paper towel. Place a pan large enough to fit a ham slice on the stove, and turn the heat up to medium-high. Wait for the pan to get hot enough to sizzle a drop of water. If your ham slice is lean and has little to no fat on it, add some oil to the pan before you start to heat it. You can add more slices of ham if the pan is large enough; make sure that there is space between each ham slice, otherwise they will not cook evenly. leave about 1⁄2 to 1 inch (1.3 to 2.5 cm) of space between each slice. How long this takes depends on how thick the ham was cut. Use the fat on the ham as a guide: the ham is ready when the fat turns clear. Do not overcook the ham, otherwise it will turn out too dry and tough. Slide the ham off of the pan and onto a cutting board. Use a fork to hold the ham steady as you trim the fat off with a knife. Serve the ham while it is still hot.\n",
      "   3  You can transpose chords to a song without necessarily being able to read sheet music. This method is ideal if you want to make a song easier to play on another instrument, such as a guitar. This method also works if you want to move a song up or down to better accommodate a vocalist. Look at the original key the song is in. The number of half-steps between the original key and the key you want the song to be in is your interval. You'll need to move all of the chords in the song that same interval up or down. For example, if your original song is in C and you want to transpose it to E, you'll need to move every chord in the song up four half-steps. The chromatic circle shows the relationship between all the chords. Move along the circle the appropriate number of half-steps clockwise if you're moving the chords up, or counter-clockwise if you're moving the chords down. You also could use a transposition table, which tells you exactly what chords to use. You may be able to get one at a music store, or you can search for one online. Once you've finished moving all the chords up or down to transpose the song, play it through once on your piano. If you're ultimately going to play the song on a guitar or another instrument, you may want to play it through on that instrument as well to make sure it sounds okay. Even though it will be in a different key, the song should sound essentially the same. If anything sounds off, you may have transposed a chord incorrectly.\n",
      "   4  If your alpaca is not broken into a halter, you will either have to train it yourself or hire a trainer to do it for you. An alpaca halter should fit snugly, with the nose band high on the bridge near the alpaca's eyes, not low or loose, as is the case with horses or cows in halter. When not out at pasture, cured grass hay is the most recommended source of feed for alpacas. This is referred to as \"dry lot\" feeding. For dry lot care, it is best to feed in  some kind of feeder. Feeding directly on the ground will promote intestinal parasites.   Contrary to popular belief, alpacas do not digest grains properly, leading to ulcers and possibly even death. Nutritional supplements (grain and forage mixtures) are very useful in a breeding program. Different blends are made to facilitate growth, lactation, and fiber nutrients.   Free choice minerals should also be avail to help complement the nutrients that are lacking in your soil. Alpacas will develop a pecking order so having enough feeding stations will assure everyone has free access to eat. Some will share feeders other will not.  Plan on about 3 lbs of dry grass hay per adult alpaca. (about 2% of body weight) Having separate feeding stations will keep them from feeling over-crowded and as if their food supply is threatened by the presence of the other alpacas in its group.  Further, alpacas are smart, and can tip a regular feeding trough/container over easily. Another idea that works well is the installation of 8' or 10' vinyl gutters affixed to the fences, gates and/or sides of your buildings such that you can grain them with only one layer of grain or pellets, reducing the chance for the animals to gobble up too much food too quickly and choke.  Shallow, sturdy rubber feeding bowls work well, too. You might find it helpful to have a farm utility vehicle and/or small to mid-sized, reliable farm tractor with a loader or skid-steer. Get a garden tractor and/or brush hog for mowing around the farm but also in your alpacas' grazing fields. You will need a set of \"paca-poop-pick-up\" tools, such as rakes, shovels and scoopers, along with a cart or wheelbarrow or two to haul the muck away to the compost heap with. An alpaca First Aid Kit is a must for routine care but also in case of emergencies. Ask your vet what you should put in this but here are a few ideas:  Large bandages Splints Aspirator Bulb Bottle of Saline Solution Natural Tears Tube of Terramycin ointment (for the eyes) Alcohol for sterilization First-Aid Gauze and Tape, Pads and Cotton A chute, tie-down system or other alpaca-specific device designed for restraining your alpaca, if necessary A thermometer A stethoscope Vaseline or other lubricant Sterile gloves (latex or other synthetic) Probiotics or all natural, plain yogurt A llama tape or scale to track the animals' weights and body condition Novalsan or Betadine Corid (for treatment of coccidia when it arises) Ivomec, Ivermectin or other similar worming treatment/medication Safeguard liquid or paste (or Panacur, some brand of Fenbendazole) Vitamin B Complex L.A. 200 broad spectrum antibiotic (found in most farm supply stores)\n",
      "   5  Tap the Facebook app icon, which resembles a white \"f\" on a dark-blue background. This will open the Facebook News Feed if you're logged in. If you aren't logged in, enter your email address (or phone number) and password, then tap Log In. It's at the top of the screen. Doing so will prompt a drop-down list of matching names below the search bar. It should be near the top of the search bar. This will take you to a list of profiles. Tap the profile that belongs to your friend to open their profile page. It's below the row of options below their profile picture. Doing so opens a post window. Simply enter the phrase or message that you want your friend to see. It's in the top-right corner of the window.\n",
      "   6  Try to write and publish the report pretty quickly after the event. Make sure you schedule it on your calendar to make sure that happens.  Some people suggest issuing an event report within 30 days, but others say you should do it within a few days.  Whatever the deadline is, make sure that you meet it. Perhaps you are writing the event report for an agency that has been commissioned by a specific client. Pay attention to all requests. The bottom line is that your audience will expect both a thorough and a timely report. So take the time to be thorough and get it right, but don’t wait so long it seems dated. Make sure that your event report contains proper grammar and avoid spelling, punctuation, and other proofing errors.  Make sure that your answers contain depth. A good rule of thumb is the writing technique “show, don’t tell.” That means it’s a good idea to provide some specific examples to back up more general points that are made in the report. Don’t forget your audience, and make sure that your writing sounds formal and professional. An event report is not a casual document; it’s an essential document to determine whether the event was worth it, so it needs to be authoritative.\n",
      "   7  Make sure your hips are level and your legs are right under your hip bones. Bend your knees slightly and keep your chest lifted. This is the standard starting position for any belly dancing move. You should also tuck your lower abdominal muscles and engage your core. This will help to strengthen your abdominals and make your belly dancing moves more fluid. ” Bend both knees. Then, straighten your right leg. This should raise your right hip, lifting it upward. The hip bone should shoot up toward your rib cage. Keep your heels flat on the ground as you do the lift. Do not move your upper body at all. This is a hip lift on the right side. Bring your right hip back down to center and try the same movement on the other side. Straighten your left leg and raise your left hip upward. This is a hip lift on the left side. Skip the break in the middle between sides. It should look like your hips are lifting on the right and then on the left smoothly and fluidly. At full speed, your hips will shimmy from side to side at a quick pace. This is known as the “shimmy” move. ” Start with your right foot flat on the ground. Place your left foot a few inches in front of you with the heel lifted. Bend both knees. Keep your chest up and your arms out. Then, straighten your left leg, lifting your left hip. Release your left hip down so it falls to the level of your right hip. Keep your right leg bent as you do this. This is a hip drop. Repeat these movements at a faster pace. Over time, they should look fluid with no pauses or breaks. ” Begin with your feet flat on the ground and your upper body lifted, with your arms relaxed at your sides. Bend your knees. Contract just your upper abdominal muscles, drawing them into your spine. Then, contract just your lower abdominal muscles, drawing them inward. Push out your upper abs and then push out your lower abs. This is a belly roll. Repeat these movements in sequence. Try to make the contracting in and the pushing out of your abdominal muscles fluid, with no pauses or breaks. ” Assume the basic belly dance position with your chest up and your arms out at your sides. Keep your knees together and your feet flat on the floor. Lift your rib cage all the way up. Let your shoulder blades slide down your back as you do this. Then, release your rib cage back down. This is a chest lift. Repeat these movements at a faster pace, lifting your rib cage all the way up and then back down. Contract the abdominal muscles below your chest bones as you lift up and then release them as you come back down.\n",
      "   8  You can do so by holding down the \"Guide\" button in the middle of a connected Xbox 360 or One controller, or you can press the \"On\" button on the front of the console. Your controller must be on as well for you to play on Xbox LIVE. If you don't, purchase a Gold subscription before continuing. You cannot play on Xbox LIVE without paying for a Gold subscription. To view your subscription type:   Xbox One - Open the sidebar by flicking the analog stick left, select Settings, select All Settings, and select Subscriptions.  Xbox 360 - Press the Guide button, scroll right to Settings, select Account management, and scroll to the Memberships section. If you're using a traditional Xbox 360, you will need to either have an Ethernet cable running from the back of your console to the back of your Internet router, or you can purchase a plug-in wireless adapter from Amazon. To check the status of your console's Internet connection:   Xbox One - Open the sidebar by flicking the analog stick left, select Settings, select All Settings, select Network, and select Network Settings to see your Xbox One's current network or select an available one.  Xbox 360 - Press the Guide button, scroll right to Settings, select System Settings, select Network Settings, and look for a network. If you don't see one, select Wired or a network name and press A to connect. Game disks go in the slot on the front of the console; on an Xbox 360, you must first press the \"Eject\" button on the () side of the disk tray. Your game should start up as soon as your console recognizes the disk, but if not, press A while the game's icon is selected. Notable examples of multiplayer-friendly games include the Call of Duty series, the Halo series, and Overwatch. The way in which you'll access multiplayer in different games will widely vary; however, you typically begin the process by selecting a \"Multiplayer\" or \"Online\" option on the main menu of the game. You may first need to sign into the game server or select your profile. Again, this process will vary, so be sure to read the various menu items to see what you'd like to do. For example, in a game of Call of Duty, you'll typically select a game category and type, at which point you'll have the option of customizing your character while the game loads. This process can often take awhile, especially if you're playing a game with drop-in multiplayer. Be patient, and you'll be playing on Xbox LIVE in no time!\n",
      "   9  Think about your intention, and what you want to get out of practicing your mantra. Consider questions, such as, how do you conceive of God or the divine? You may want to deepen your spiritual connection or achieve a goal. The type of mantra you choose should reflect your purpose and how you relate to God. Many religions have a name for God that you can use to create a mantra with. Hebrew mystics, for example, chant the secret names Yahweh, Adonai and Elohim. Hindu yogis may use the names of Siva, Vishnu, Brahma or others. Some Christians sects chant or sing Jesus’s or Maria’s name.  Singing devotional songs or mantras could be truly a mystical and a mysterious experience. We sing devotional songs with deep feelings, and full faith, letting the transcendental beauty, and qualities represented within the words enter our souls. Singing words of mantras, prayers or devotional songs we become the transcendental vibration of the sound that we repeat, and we become pure love and joy. If you are not a native speaker of the language you will use for your mantra, then practice pronouncing the words prior to your mantra chanting session. That way you won’t let pronunciation issues distract you during your mantra practice. However, know that your pronunciation does not have to be perfect because what is in your heart matters most. A holy item, such as japa mala (a string of 108 wooden beads) or rosary beads (necklace in the Catholic Christian faith), can help focus your thoughts and add closure for each completed mantra. Each time a mantra is spoken, the speaker rubs a thumb across a japa mala bead, while Catholics repeat prayers holding a rosary. Do not let other people handle your holy item. It is for you alone. There are many Hindu or Sanskrit mantras that are often used for this purpose. The most well-known mantra is the use of the sound, OM. This sound represents the original vibration of the universe, and is often used at the start a mantra practice.  Om Namah Shivaya is a mantra about bowing to the the supreme deity of transformation, Lord Shiva, and the highest self. This mantra can help you obtain a higher spiritual connection and build self-confidence. The mantra, Lokah Samastah Sukhino Bhavantu, is one dedicated to the happiness and freedom for all beings. Saying this can help your thoughts, words and actions contribute, promote non-harm and assist you in being of service to the greater good. This chant: Shanti Mantra , Om Saha Naavavatu, Saha Nau Bhunaktu, Saha Veeryam Karava Vahai, Tejasvi Aavadheetamastu Maa Vidvishaavahai Om, is a mantra that translates to: May the Lord protect and bless us, may he nourish us, giving us strength to work together for the good of humanity, may our learning be brilliant and purposeful, may we never turn against one another. Om Gan Ganapatayei Namah is a mantra to Lord Ganesh, god of wisdom and success and destroyer of obstacles, for blessings and protection. The Hare Krishna mantra is meant to enhance consciousness, free one from the birth and death cycle and bring total self-fulfillment.  It goes: Hare Krishna, Hare Krishna, Krishna Krishna, Hare Hare, Hare Rama, Hare Rama, Rama Rama, Hare Hare. The mantra, Baba Nam Kevalam, is used by Anansa Marga, meaning of infinite love, filling you with happiness, peace and love. Om Mani Padme Hum is a popular Buddhist mantra that can lead one to enlightenment. For those of you more comfortable with a feminine deity, Om Shree Matre Namah, is a mantra to the Divine Mother. If you desire world peace, then Om Lokah Samastah Sukhino Bhavantu is a good mantra for wishing peace to all beings. You should always use a mantra that you are comfortable with and that will be meaningful to you. If you are not comfortable with Sanskrit or the Hindu language or gods, insert a familiar deity or choose another mantra that fits your spiritual beliefs. If English works better for you, then speak your mantra in English.  For example: the Lyrics of 'I love you Lord we sing and pray' are very inspiring. Try singing: 'You are my Mother you are my Father. You're the beginning, you are the center, you are beyond the end. You are the colors of the rainbow...' Om Christave Namah is a mantra to Jesus Christ and may be one you choose if you are more comfortable with the Judeo-Christian religion.\n",
      "  10  Click the Windows logo in the bottom-left corner of the screen. This will search your computer for the Command Prompt app. It's at the top of the Start window. Replace \"website\" with the website's address (e.g., \"facebook.com\"). You do not have to include the \"www.\" section of the website's address when doing this. Doing so runs your \"Ping\" command and starts displaying the website's IP address below your cursor. Next to the \"Reply from\" line of text, you'll see a set of numbers. This is the IP address of the website that you pinged. Keep in mind that you're most likely looking at the website's public IP address. You usually won't be able to see the website's private servers' IP address.\n",
      "  11  Running cues the bear to chase you, and it will always be fast enough to catch up. Do not be aggressive, but do not crouch down, play dead or otherwise show fear or vulnerability. If the bear charges you, muster all your courage and stay where you are: the charge is most likely a bluff, and if you stand your ground the bear will turn away. Bears and other 4 legged animals have a wider center of gravity, and hence can't make turns quite as sharp as you or me. Don't just run in circles however, but if engaged in an open area (plains or field), do not run directly away from the bear as they're generally faster. Move left and right where applicable to force the bear to change direction. Do not abuse the bear, however, as it drains vital energy. If the bear (other than a black bear) is attacking you in self-defense, you can put it at ease by playing dead and lying completely flat on the ground. Do so only after the bear makes contact with you or tries to do so. To play dead, lie flat on the ground protecting your vital parts with the ground, and your arms protecting your neck with your hands laced behind the neck. If you have a backpack on, keep it on to defend your back. Keep your legs together and do not struggle.  Once the bear leaves your immediate vicinity, wait 10-15 minutes before carefully looking to see if the bear is still around. A bear may look back and may return if it sees you moving. Remember -- if you believe this is a predatory encounter, as the bear has approached you or been following, you'll need to change course and fight back. Remember, this is not if they charge alone -- this may be a bluff. If a bear charges and makes contact with you, however, you need to fight back with whatever you can. Focus on kicks and strikes to the face and muzzle in particular to scare it off. The odds may seem against you in a fight, but bears generally do not see humans as prey, and a bear that makes a predatory attacks is usually immature, starving, or wounded, and may easily be scared away if you hit it. If you believe any attack is predatory, such as an attack at night or if you've been \"stalked\" throughout the hike, fight back immediately -- this is usually a bear desperate for food. If you get charged by bear, stand your ground and unclip the safety clip and put a cloud of spray in between you and the bear. Squint and hold your breath. Good aim doesn't matter so much as a layer of protection, giving you plenty of time to escape. Begin spraying when the bears is 10-20 yards away for the greatest effectiveness.  Keep spraying until the bear changes direction. If the cloud doesn't work, hit it right in the face. You should practice quickly and easily getting your spray out of its holster before hiking.\n",
      "  12  In order to evaluate the level of brake fluid in the clutch master cylinder, it is important that your vehicle is level.  Parking on a hill or at an angle can cause the level in the master cylinder reservoir to read incorrectly.  You may want to allow the vehicle to cool for an hour or two to prevent burning yourself when checking the fluid levels. Parking at an angle may make it appear that you have more or less brake fluid than you actually do. Find the hood release on the driver’s left hand side.  It is usually located near the door frame with a small image of a car with its hood open.  Pull the release back toward you to release the hood.  Approach the vehicle from the front and pull the hood up slightly.  It will catch on the safety release.  Slip your hand beneath the hood and find the lever to release it.  In some vehicles, the safety release is located in the grill rather than under the hood. If you are unable to locate the release, check in your vehicle’s owner’s manual for guidance. With the hood propped open, locate the clutch master cylinder. It is usually located on the firewall of the vehicle, just below the windshield.  It will have a plastic reservoir that will be either clear or semi-clear with lines indicating the fluid level inside.  If you are having difficulty locating the clutch master cylinder, refer to your vehicle’s service manual for assistance. The clutch master cylinder is usually on the driver’s side of the vehicle. Inspect the reservoir attached to the clutch master cylinder.  There will be at least two lines indicating a minimum acceptable level of brake fluid and a maximum.  If the brake fluid does not reach the “full” line, you should add fluid.  If it is close or below the minimum line, you should inspect the master cylinder and clutch system for leaks.  If the brake fluid is well below the minimum line, there may be a leak somewhere in the system. Leaks not only allow brake fluid to escape, but allow pockets of air to enter which can cause further issue when operating your clutch.\n",
      "  13  Health care providers rely on behavioral symptoms and/or written questionnaires during routine checkups. There are screening tests that can also be done during these visits. If your doctor does not regularly screen for autism, ask for her to do so. There is no one-size-fits-all approach for autism. Tailor treatment to the individual's needs. Stop asking \"What do autistic people need?” and instead ask “What does this specific person need?”  For example, one autistic person may have excellent self-care skills and above-average school performance, but need sensory integration therapy and social skills training. Another might be highly social but unable to care for herself and in need of counseling for depression. While there is no cure for autism, some of its challenging aspects and comorbid conditions can be helped through medication.   Anxiety Elevated energy level Self-injurious behavior Inability to concentrate Depression Seizures Severe outburst of anger or aggression  Many autistic people also experience comorbid disabilities/health conditions, such as anxiety disorders, epilepsy, digestive issues, depression, ADHD, oppositional defiant disorder, and more. These are all treatable.\n",
      "  14  Before selecting vintage pieces to add to your wardrobe, think about the style elements that you look for in clothing and accessories. While dressing in vintage clothing lets you expand your fashion horizons and experiment with different styles, you still want to look and feel like you. If you don’t feel comfortable and confident in your vintage finds, likely, you won’t end up wearing them.   Working out your fashion style will help you select vintage pieces that you can easily incorporate into your wardrobe. When shopping for vintage, consider what you already own and how well each vintage piece will fit into your current wardrobe. Try looking at different styles on Pinterest and fashion blogs to help you identify what style elements match your aesthetic. This can give you ideas about what to look for when you are shopping for vintage pieces. If you want to avoid looking like you are wearing a costume, select vintage pieces in classic cuts that never go out of style. These pieces come in timeless shapes and colors that you can seamlessly incorporate into your wardrobe for years to come. For example, while fashion trends come and go, a classic vintage black shift dress, a statement-making vintage leopard swing coat, or a silk floral or neutral-shade tie-neck blouse will always be in style. When selecting vintage pieces, first check the tag to see what materials were used to make the item. Higher quality materials, such as cotton, silk, and wool, can withstand several cleanings and hold up well over time. While synthetic materials are fine for a statement-making piece or for special occasions, avoid synthetic materials if you plan on incorporating your vintage finds into your daily wardrobe.  If you find a vintage piece that no longer has a tag, there are a few tricks you can use to assess the quality. The easiest way is to feel the fabric by rubbing it gently between your pointer finger and thumb. If the material feels sturdy yet soft to the touch, it is likely of higher quality.  You can also compare the material with items that do have a tag to determine if they are the same material. Check carefully for stains, tears, or missing parts, as these can indicate that an item is of lower quality. Read fashion magazines, look at fashion bloggers’ sites, and/or peruse your favorite online retailers’ inventories to assess what styles are trending. When selecting vintage pieces, look for items with the same or similar characteristics. Most contemporary pieces are inspired by styles from the past, so what better way to show your fashion savviness than with a trendy item that is vintage and, therefore, totally unique. Each decade has particular styles that are characteristic of that era. Learning to identify some of the styles attributed to the various eras of vintage can make it easier to select items that will generally look good together. While some experimentation is necessary (and fun!), learning the basics of vintage styles can give you some general rules of thumb to follow so that you can create vintage looks that are both unique and cohesive.  The 1910s, for example, brought about the trench coat and lace-up boots. This era generally mixes well with the wide brimmed hats of the 1930s or rocker tees from the 1990s. To prevent clashing, however, avoid mixing 1910s vintage pieces with a 1920s beaded flapper dress or a 1980s neon tunic.  Some decades, such as the 1940s and 50s, produced many now-classic styles in neutral tones. These styles, including 1940s cigarette pants and 1950s leather jackets, tend to mix well with each other, as well as many styles from various other eras. A 1950s leather jacket, for example, can look great with 1960s bell bottom jeans or a 1970s flowy, floral dress.\n",
      "  15  Medical licensing requirements can vary depending on your state or country. Most require your CV, educational history, professional references, and completion of specified clinical hours. Medical licensing can take up to 60 days to process, so send in your materials as soon as they are completed. Check your state or country's requirements to determine where you will need to send your materials. Some require in-person applications while others allow applicants to mail in their materials. Most countries have a board of neurology that offers certification to medical school graduates. Requirements for certification often involve graduation from medical school, a valid medical license, passing grades in a neurology and subspecialty exam, and completion of set clinical hours. Neurologists can work in a variety of settings. You may feel most comfortable in a hospital, private practice, university, or research facility. Search for and apply to jobs in your intended location until you find the right fit. Research which locations in your state or country have many open neurology positions. Usually, larger cities will have more positions than suburban cities or towns. Even clinical neurologists can continue researching and publishing articles. This, however, is not required. Only continue academic research if you enjoyed it as a medical school student.  Neurology is one of the fastest-developing medical fields, which can make it a particularly stimulating career for research. Although some research opportunities may allow you to work with patients, most will be less hands-on. Avoid researching careers if you enjoy building relationships with your patients. Attend neurology conferences around the country to get in touch with others in the field and keep up-to-date on neurology developments. Stay in touch with current and former colleagues to build a reputation as a competent neurologist and pleasant work partner.\n"
     ]
    }
   ],
   "source": [
    "print(\n",
    "    tabulate(\n",
    "        zip(\n",
    "            range(len(summaries_after_tuning)),\n",
    "            summaries_after_tuning,\n",
    "            summaries_before_tuning,\n",
    "        ),\n",
    "        headers=[\"Id\", \"Summary after\", \"Summary before\"],\n",
    "    )\n",
    ")\n",
    "print(\"\\nTarget summaries:\\n\")\n",
    "print(\n",
    "    tabulate(list(enumerate(test_samples[\"summary\"])), headers=[\"Id\", \"Target summary\"])\n",
    ")\n",
    "print(\"\\nSource documents:\\n\")\n",
    "print(tabulate(list(enumerate(test_samples[\"document\"])), headers=[\"Id\", \"Document\"]))"
   ]
  },
  {
   "cell_type": "code",
   "execution_count": null,
   "metadata": {},
   "outputs": [],
   "source": []
  }
 ],
 "metadata": {
  "kernelspec": {
   "display_name": "text_summarizer_dev",
   "language": "python",
   "name": "text_summarizer_dev"
  },
  "language_info": {
   "codemirror_mode": {
    "name": "ipython",
    "version": 3
   },
   "file_extension": ".py",
   "mimetype": "text/x-python",
   "name": "python",
   "nbconvert_exporter": "python",
   "pygments_lexer": "ipython3",
   "version": "3.8.17"
  }
 },
 "nbformat": 4,
 "nbformat_minor": 5
}
